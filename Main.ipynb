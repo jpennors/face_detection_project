{
 "cells": [
  {
   "cell_type": "markdown",
   "metadata": {},
   "source": [
    "# Keep it simple s..."
   ]
  },
  {
   "cell_type": "markdown",
   "metadata": {},
   "source": [
    "## Imports"
   ]
  },
  {
   "cell_type": "code",
   "execution_count": 26,
   "metadata": {},
   "outputs": [
    {
     "name": "stdout",
     "output_type": "stream",
     "text": [
      "The autoreload extension is already loaded. To reload it, use:\n",
      "  %reload_ext autoreload\n"
     ]
    }
   ],
   "source": [
    "%load_ext autoreload\n",
    "%autoreload 2\n",
    "%matplotlib inline\n",
    "\n",
    "from collections import Counter\n",
    "from modules.negative_set import generate_negative_set, get_box_parameters\n",
    "from modules import data, models, descriptor_vector, validation, selection\n",
    "from modules.selection import try_classifiers, try_params\n",
    "from modules.window import compute_no_windows\n",
    "import numpy as np\n",
    "from skimage.transform import resize\n",
    "from skimage.color import rgb2gray\n",
    "import pickle\n",
    "from pprint import pprint as pp"
   ]
  },
  {
   "cell_type": "code",
   "execution_count": 5,
   "metadata": {},
   "outputs": [],
   "source": [
    "# Store\n",
    "store = []"
   ]
  },
  {
   "cell_type": "code",
   "execution_count": 6,
   "metadata": {},
   "outputs": [
    {
     "name": "stdout",
     "output_type": "stream",
     "text": [
      "Using 1000/1000 images & 1284/1284 labels\n"
     ]
    }
   ],
   "source": [
    "# Load data directly\n",
    "GRAY = True\n",
    "OFFSET = 0\n",
    "LIMIT = None\n",
    "\n",
    "full_images = images = data.load_images(limit=LIMIT, offset=OFFSET, gray=GRAY)\n",
    "full_labels = labels = data.load_labels(limit=LIMIT, offset=OFFSET)\n",
    "print(f\"Using {len(images)}/1000 images & {len(labels)}/1284 labels\")"
   ]
  },
  {
   "cell_type": "code",
   "execution_count": 178,
   "metadata": {},
   "outputs": [
    {
     "name": "stdout",
     "output_type": "stream",
     "text": [
      "1000\n"
     ]
    }
   ],
   "source": [
    "# Limit if needed\n",
    "LIMIT = None\n",
    "if LIMIT:\n",
    "   images = full_images[OFFSET:OFFSET+LIMIT]\n",
    "   labels = full_labels[full_labels[:,0] <= OFFSET+LIMIT]\n",
    "   labels = labels[labels[:,0] > OFFSET]\n",
    "else:\n",
    "   images = full_images\n",
    "   labels = full_labels\n",
    "print(len(images))\n",
    "#if GRAY:\n",
    "#    images = np.array([ rgb2gray(img) for img in images ])"
   ]
  },
  {
   "cell_type": "markdown",
   "metadata": {},
   "source": [
    "## Adapt data"
   ]
  },
  {
   "cell_type": "code",
   "execution_count": 193,
   "metadata": {},
   "outputs": [
    {
     "name": "stdout",
     "output_type": "stream",
     "text": [
      "Using 1000/1000 images & 1284/1284 labels\n",
      "Generating 4000 negatives...\n",
      "Creating train & validation sets with negatives...\n",
      "Train: 750, Valid: 250\n",
      "Counter({-1: 3014, 1: 978}) Counter({-1: 986, 1: 306})\n"
     ]
    }
   ],
   "source": [
    "# Label sets\n",
    "NEG_SIZE = 4000\n",
    "NEG_SUP = 1000\n",
    "TRAIN_RATE = 0.75\n",
    "\n",
    "print(f\"Using {len(images)}/1000 images & {len(labels)}/1284 labels\")\n",
    "print(f\"Generating {NEG_SIZE} negatives...\")\n",
    "negatives = generate_negative_set(images, labels, set_size=NEG_SIZE)\n",
    "\n",
    "print(\"Creating train & validation sets with negatives...\")\n",
    "all_labels = np.concatenate([labels, negatives])\n",
    "train_labels, valid_labels = data.train_valid_sets(len(images), all_labels, TRAIN_RATE)\n",
    "\n",
    "# Validation with additional negatives\n",
    "pvalid_labels = np.concatenate([ valid_labels, generate_negative_set(images, labels, set_size=NEG_SIZE) ])\n",
    "label_sets = train_labels, pvalid_labels\n",
    "\n",
    "print(f\"Train: {len(np.unique(train_labels[:,0]))}, Valid: {len(np.unique(valid_labels[:,0]))}\")\n",
    "print(Counter(train_labels[:,5]), Counter(valid_labels[:,5]))"
   ]
  },
  {
   "cell_type": "markdown",
   "metadata": {},
   "source": [
    "---\n",
    "\n",
    "## Now Try !"
   ]
  },
  {
   "cell_type": "markdown",
   "metadata": {},
   "source": [
    "### 1. Main Single"
   ]
  },
  {
   "cell_type": "code",
   "execution_count": 198,
   "metadata": {},
   "outputs": [],
   "source": [
    "# Global params\n",
    "only_one_training = False\n",
    "limit_score = 0.5\n",
    "slide_step = (60,50)\n",
    "downscale_step = 30\n",
    "box_size = (150, 90)\n",
    "\n",
    "# Model\n",
    "CLASSIFIER = 'random_forest'\n",
    "MODEL_PARAMS = {\n",
    "    'n_estimators': 200,\n",
    "#    'max_depth': None,\n",
    "#    'max_features': 100,\n",
    "    'class_weight': { -1: 1, 1: 1}\n",
    "}\n",
    "VECTORIZATION_PARAMS = {\n",
    "    'vectorize': descriptor_vector.hog,\n",
    "#    'vectorize_kwargs': [6],\n",
    "} "
   ]
  },
  {
   "cell_type": "code",
   "execution_count": 181,
   "metadata": {},
   "outputs": [
    {
     "name": "stdout",
     "output_type": "stream",
     "text": [
      "Training...\n",
      "Vectorizing data...\n",
      "First training with (3926, 4040) rows...\n"
     ]
    },
    {
     "data": {
      "application/vnd.jupyter.widget-view+json": {
       "model_id": "f17ce95185e94b3bbf3116730e3c23eb",
       "version_major": 2,
       "version_minor": 0
      },
      "text/plain": [
       "HBox(children=(IntProgress(value=0, description='Predicting windows', max=1000, style=ProgressStyle(descriptio…"
      ]
     },
     "metadata": {},
     "output_type": "display_data"
    },
    {
     "name": "stdout",
     "output_type": "stream",
     "text": [
      "Adding 641 false positives / 1035 predictions\n",
      "Vectorizing data...\n",
      "Second training with (4567, 4040) rows...\n"
     ]
    }
   ],
   "source": [
    "# ( 1 ) --- Single --- Train, predict, validate\n",
    "clf = models.create_model(CLASSIFIER, MODEL_PARAMS)\n",
    "kwargs = { 'limit_score': limit_score, 'slide_step': slide_step, 'downscale_step': downscale_step }\n",
    "\n",
    "print(\"Training...\")\n",
    "train_results = models.train(clf, images, box_size, train_labels, **VECTORIZATION_PARAMS,\n",
    "                             only_one_training=only_one_training, **kwargs)"
   ]
  },
  {
   "cell_type": "code",
   "execution_count": 182,
   "metadata": {},
   "outputs": [],
   "source": [
    "#data.save_model(clf, path='model_haar.pickle')"
   ]
  },
  {
   "cell_type": "code",
   "execution_count": 175,
   "metadata": {},
   "outputs": [
    {
     "name": "stdout",
     "output_type": "stream",
     "text": [
      "A target rate of 0.7 is realized by the 1455 first best features\n",
      "A target rate of 0.8 is realized by the 1930 first best features\n",
      "A target rate of 0.9 is realized by the 2672 first best features\n",
      "A target rate of 0.95 is realized by the 3198 first best features\n",
      "A target rate of 0.99 is realized by the 3784 first best features\n",
      "A target rate of 0.999 is realized by the 4040 first best features\n"
     ]
    },
    {
     "data": {
      "image/png": "[encoded data removed]",
      "text/plain": [
       "<Figure size 432x288 with 1 Axes>"
      ]
     },
     "metadata": {
      "needs_background": "light"
     },
     "output_type": "display_data"
    }
   ],
   "source": [
    "# Select features\n",
    "feat_indexes_sorted = np.argsort(clf.feature_importances_)[::-1]\n",
    "feat_importances_rates = np.cumsum(clf.feature_importances_[feat_indexes_sorted])\n",
    "feat_importances_rates /= np.max(feat_importances_rates)\n",
    "\n",
    "import matplotlib.pyplot as plt\n",
    "plt.plot(feat_importances)\n",
    "for r in (0.7, 0.8, 0.9, 0.95, 0.99, 0.999):\n",
    "    print(f\"A target rate of {r} is realized by the {np.sum(feat_importances_rates < r)} first best features\")\n",
    "#np.savetxt('haar_best_indexes.txt', feat_indexes_sorted[:np.sum(feat_importances_rates < 0.999)], fmt='%d')"
   ]
  },
  {
   "cell_type": "code",
   "execution_count": 39,
   "metadata": {},
   "outputs": [],
   "source": [
    "# Predictions\n",
    "print(\"Predicting with windows...\")\n",
    "valid_indexes = np.unique(valid_labels[:,0]) - 1\n",
    "predictions, scores = models.predict(clf, images, box_size, **VECTORIZATION_PARAMS,\n",
    "                                     only=valid_indexes, with_scores=True,**kwargs)\n",
    "\n",
    "results = validation.rate_predictions(predictions, valid_labels)\n",
    "print(\"Done\")\n",
    "\n",
    "print(\"\\n------\\n\")\n",
    "if results not in store: store.append(results)\n",
    "pp(results)"
   ]
  },
  {
   "cell_type": "code",
   "execution_count": 199,
   "metadata": {},
   "outputs": [
    {
     "name": "stdout",
     "output_type": "stream",
     "text": [
      "LinearSVC(C=2, class_weight=None, dual=True, fit_intercept=True,\n",
      "     intercept_scaling=1, loss='squared_hinge', max_iter=10000,\n",
      "     multi_class='ovr', penalty='l2', random_state=None, tol=0.0001,\n",
      "     verbose=0)\n",
      "Predict with additional negatives...\n"
     ]
    },
    {
     "data": {
      "image/png": "[encoded data removed]",
      "text/plain": [
       "<Figure size 432x288 with 1 Axes>"
      ]
     },
     "metadata": {
      "needs_background": "light"
     },
     "output_type": "display_data"
    },
    {
     "name": "stdout",
     "output_type": "stream",
     "text": [
      "{'avg_precision': 0.8366363538879605,\n",
      " 'f1-score': 0.9055258467023173,\n",
      " 'false_neg': 52,\n",
      " 'false_pos': 1,\n",
      " 'n_test': 5292,\n",
      " 'precision': array([0.05782313, 0.99607843, 1.        ]),\n",
      " 'recall': array([1.        , 0.83006536, 0.        ]),\n",
      " 'roc_auc_score': 0.9149323989523608,\n",
      " 'true_neg': 4985,\n",
      " 'true_pos': 254}\n"
     ]
    }
   ],
   "source": [
    "# Validation with additional negatives\n",
    "clf = data.load_model()\n",
    "print(clf)\n",
    "NEG_SUP = 10000\n",
    "pvalid_labels = np.concatenate([ valid_labels, generate_negative_set(images, labels, set_size=NEG_SIZE) ])\n",
    "\n",
    "print(\"Predict with additional negatives...\")\n",
    "pvalid_indexes = np.unique(valid_labels[:,0]) - 1\n",
    "scores, results = models.predict_and_validate(clf, images, box_size, pvalid_labels,\n",
    "                                              **VECTORIZATION_PARAMS, only=pvalid_indexes,**kwargs)\n",
    "pp(results)"
   ]
  },
  {
   "cell_type": "markdown",
   "metadata": {},
   "source": [
    "### 2. Multiple Parameters"
   ]
  },
  {
   "cell_type": "code",
   "execution_count": 196,
   "metadata": {},
   "outputs": [
    {
     "name": "stdout",
     "output_type": "stream",
     "text": [
      "Using 1000 images\n",
      "## Trying parameter `vectorization_params`...\n",
      "### with value `{'vectorize': <function hog at 0x000001AD0A31D268>}`\n",
      "Vectorizing data...\n",
      "First training with (3992, 243) rows...\n"
     ]
    },
    {
     "data": {
      "application/vnd.jupyter.widget-view+json": {
       "model_id": "cbccac9666484e3bb952498ec0038db0",
       "version_major": 2,
       "version_minor": 0
      },
      "text/plain": [
       "HBox(children=(IntProgress(value=0, description='Predicting windows', max=1000, style=ProgressStyle(descriptio…"
      ]
     },
     "metadata": {},
     "output_type": "display_data"
    },
    {
     "name": "stdout",
     "output_type": "stream",
     "text": [
      "Adding 270 false positives / 918 predictions\n",
      "Vectorizing data...\n",
      "Second training with (4262, 243) rows...\n"
     ]
    },
    {
     "data": {
      "image/png": "[encoded data removed]",
      "text/plain": [
       "<Figure size 432x288 with 1 Axes>"
      ]
     },
     "metadata": {
      "needs_background": "light"
     },
     "output_type": "display_data"
    },
    {
     "name": "stdout",
     "output_type": "stream",
     "text": [
      "\n",
      "------\n",
      "\n",
      "{'classifier': 'random_forest',\n",
      " 'global_params': {'n_estimators': 200},\n",
      " 'results': [{'name': 'vectorization_params',\n",
      "              'result': {'avg_precision': 0.8304784364338621,\n",
      "                         'f1-score': 0.9016100178890877,\n",
      "                         'false_neg': 54,\n",
      "                         'false_pos': 1,\n",
      "                         'n_test': 5292,\n",
      "                         'precision': array([0.05782313, 0.99604743, 1.        ]),\n",
      "                         'recall': array([1.        , 0.82352941, 0.        ]),\n",
      "                         'roc_auc_score': 0.9116644250961515,\n",
      "                         'true_neg': 4985,\n",
      "                         'true_pos': 252},\n",
      "              'value': {'vectorize': <function hog at 0x000001AD0A31D268>}}]}\n"
     ]
    }
   ],
   "source": [
    "# ( 2 ) --- Multiple --- Try multiple params\n",
    "clf_name = 'random_forest'\n",
    "global_params = {\n",
    "    # General\n",
    "    'box_size': (150, 90),\n",
    "\n",
    "    'n_estimators': 200,\n",
    "#     'C': 0.75,\n",
    "#     'max_iter': 1000,\n",
    "    \n",
    "    'vectorization_params': {\n",
    "        'vectorize': descriptor_vector.hog,\n",
    "#        'vectorize_kwargs': { 'orientations': 6},\n",
    "    },\n",
    "}\n",
    "\n",
    "kw_params = {\n",
    "    'limit_score': 0.5,\n",
    "    'slide_step': (60,50),\n",
    "    'downscale_step': 30,\n",
    "    'only_one_training': False,\n",
    "}\n",
    "\n",
    "changing_params = {\n",
    "    'vectorization_params': [\n",
    "#         { 'vectorize': descriptor_vector.haar }, \n",
    "#         {\n",
    "#             'vectorize': descriptor_vector.daisy,\n",
    "#             'vectorize_kwargs': { 'radius': 5 },\n",
    "#         }, \n",
    "        { 'vectorize': descriptor_vector.hog }, \n",
    "    ]\n",
    "}\n",
    "\n",
    "print(f\"Using {len(images)} images\")\n",
    "results = try_params(images, (train_labels, pvalid_labels), clf_name, global_params, changing_params, **kw_params)\n",
    "\n",
    "print(\"\\n------\\n\")\n",
    "if results not in store: store.append(results)\n",
    "pp(results)"
   ]
  },
  {
   "cell_type": "markdown",
   "metadata": {},
   "source": [
    "### 3. Multiple Classifiers"
   ]
  },
  {
   "cell_type": "code",
   "execution_count": 36,
   "metadata": {},
   "outputs": [
    {
     "name": "stdout",
     "output_type": "stream",
     "text": [
      "Using 300 images\n",
      "\n",
      "# Trying classifier `svc`...\n",
      "Vectorizing data...\n",
      "First training with (3308, 243) rows...\n"
     ]
    },
    {
     "data": {
      "application/vnd.jupyter.widget-view+json": {
       "model_id": "83de221b96fa4968bc05f2f5c46307e0",
       "version_major": 2,
       "version_minor": 0
      },
      "text/plain": [
       "HBox(children=(IntProgress(value=0, description='Predicting windows', max=300, style=ProgressStyle(description…"
      ]
     },
     "metadata": {},
     "output_type": "display_data"
    },
    {
     "name": "stdout",
     "output_type": "stream",
     "text": [
      "\n",
      "Adding 3 false positives / 70 predictions\n",
      "Vectorizing data...\n",
      "Second training with (3311, 243) rows...\n"
     ]
    },
    {
     "data": {
      "image/png": "[encoded data removed]",
      "text/plain": [
       "<Figure size 432x288 with 1 Axes>"
      ]
     },
     "metadata": {
      "needs_background": "light"
     },
     "output_type": "display_data"
    },
    {
     "name": "stdout",
     "output_type": "stream",
     "text": [
      "\n",
      "# Trying classifier `linear_svc`...\n",
      "Vectorizing data...\n",
      "First training with (3308, 243) rows...\n"
     ]
    },
    {
     "data": {
      "application/vnd.jupyter.widget-view+json": {
       "model_id": "7e707f0a465c46aeb14aaeaacbdc68d8",
       "version_major": 2,
       "version_minor": 0
      },
      "text/plain": [
       "HBox(children=(IntProgress(value=0, description='Predicting windows', max=300, style=ProgressStyle(description…"
      ]
     },
     "metadata": {},
     "output_type": "display_data"
    },
    {
     "name": "stdout",
     "output_type": "stream",
     "text": [
      "\n",
      "Adding 87 false positives / 242 predictions\n",
      "Vectorizing data...\n",
      "Second training with (3395, 243) rows...\n"
     ]
    },
    {
     "data": {
      "image/png": "[encoded data removed]",
      "text/plain": [
       "<Figure size 432x288 with 1 Axes>"
      ]
     },
     "metadata": {
      "needs_background": "light"
     },
     "output_type": "display_data"
    },
    {
     "name": "stdout",
     "output_type": "stream",
     "text": [
      "\n",
      "# Trying classifier `adaboost`...\n",
      "Vectorizing data...\n",
      "First training with (3308, 243) rows...\n"
     ]
    },
    {
     "data": {
      "application/vnd.jupyter.widget-view+json": {
       "model_id": "0db10a332dae4dd0a5bed4775f90d55a",
       "version_major": 2,
       "version_minor": 0
      },
      "text/plain": [
       "HBox(children=(IntProgress(value=0, description='Predicting windows', max=300, style=ProgressStyle(description…"
      ]
     },
     "metadata": {},
     "output_type": "display_data"
    },
    {
     "name": "stdout",
     "output_type": "stream",
     "text": [
      "\n",
      "!! No false positives given out of 12 predictions, add more images or reduce negatives\n",
      "Adding 0 false positives / 12 predictions\n",
      "Vectorizing data...\n",
      "Second training with (3308, 243) rows...\n"
     ]
    },
    {
     "data": {
      "image/png": "[encoded data removed]",
      "text/plain": [
       "<Figure size 432x288 with 1 Axes>"
      ]
     },
     "metadata": {
      "needs_background": "light"
     },
     "output_type": "display_data"
    },
    {
     "name": "stdout",
     "output_type": "stream",
     "text": [
      "\n",
      "# Trying classifier `random_forest`...\n",
      "Vectorizing data...\n",
      "First training with (3308, 243) rows...\n"
     ]
    },
    {
     "data": {
      "application/vnd.jupyter.widget-view+json": {
       "model_id": "e803460dac784da9ac61674e73c674a2",
       "version_major": 2,
       "version_minor": 0
      },
      "text/plain": [
       "HBox(children=(IntProgress(value=0, description='Predicting windows', max=300, style=ProgressStyle(description…"
      ]
     },
     "metadata": {},
     "output_type": "display_data"
    },
    {
     "name": "stdout",
     "output_type": "stream",
     "text": [
      "\n",
      "Adding 6 false positives / 51 predictions\n",
      "Vectorizing data...\n",
      "Second training with (3314, 243) rows...\n"
     ]
    },
    {
     "data": {
      "image/png": "[encoded data removed]",
      "text/plain": [
       "<Figure size 432x288 with 1 Axes>"
      ]
     },
     "metadata": {
      "needs_background": "light"
     },
     "output_type": "display_data"
    },
    {
     "name": "stdout",
     "output_type": "stream",
     "text": [
      "\n",
      "------\n",
      "\n",
      "{'adaboost': {'classifier': 'adaboost',\n",
      "              'global_params': {'base_estimator': RandomForestClassifier(bootstrap=True, class_weight=None, criterion='gini',\n",
      "            max_depth=30, max_features='auto', max_leaf_nodes=None,\n",
      "            min_impurity_decrease=0.0, min_impurity_split=None,\n",
      "            min_samples_leaf=1, min_samples_split=2,\n",
      "            min_weight_fraction_leaf=0.0, n_estimators=10, n_jobs=None,\n",
      "            oob_score=False, random_state=None, verbose=0,\n",
      "            warm_start=False),\n",
      "                                'box_size': (150, 90),\n",
      "                                'vectorization_params': {'vectorize': <function hog at 0x000001AD36D93C80>}},\n",
      "              'results': [{'result': {'avg_precision': 0.32761879049676024,\n",
      "                                      'f1-score': 0.47619047619047616,\n",
      "                                      'false_neg': 77,\n",
      "                                      'false_pos': 0,\n",
      "                                      'n_test': 5093,\n",
      "                                      'precision': array([0.02199097, 1.        , 1.        ]),\n",
      "                                      'recall': array([1.    , 0.3125, 0.    ]),\n",
      "                                      'roc_auc_score': 0.65625,\n",
      "                                      'true_neg': 35,\n",
      "                                      'true_pos': 4981}}]},\n",
      " 'linear_svc': {'classifier': 'linear_svc',\n",
      "                'global_params': {'box_size': (150, 90),\n",
      "                                  'vectorization_params': {'vectorize': <function hog at 0x000001AD36D93C80>}},\n",
      "                'results': [{'result': {'avg_precision': 0.8352731428440711,\n",
      "                                        'f1-score': 0.9116279069767441,\n",
      "                                        'false_neg': 14,\n",
      "                                        'false_pos': 5,\n",
      "                                        'n_test': 5093,\n",
      "                                        'precision': array([0.02199097, 0.95145631, 1.        ]),\n",
      "                                        'recall': array([1.   , 0.875, 0.   ]),\n",
      "                                        'roc_auc_score': 0.9369980927524594,\n",
      "                                        'true_neg': 98,\n",
      "                                        'true_pos': 4976}}]},\n",
      " 'random_forest': {'classifier': 'random_forest',\n",
      "                   'global_params': {'box_size': (150, 90),\n",
      "                                     'n_estimators': 100,\n",
      "                                     'vectorization_params': {'vectorize': <function hog at 0x000001AD36D93C80>}},\n",
      "                   'results': [{'result': {'avg_precision': 0.6594432834983591,\n",
      "                                           'f1-score': 0.7891891891891891,\n",
      "                                           'false_neg': 39,\n",
      "                                           'false_pos': 0,\n",
      "                                           'n_test': 5093,\n",
      "                                           'precision': array([0.02199097, 1.        , 1.        ]),\n",
      "                                           'recall': array([1.        , 0.65178571, 0.        ]),\n",
      "                                           'roc_auc_score': 0.8258928571428572,\n",
      "                                           'true_neg': 73,\n",
      "                                           'true_pos': 4981}}]},\n",
      " 'svc': {'classifier': 'svc',\n",
      "         'global_params': {'box_size': (150, 90),\n",
      "                           'gamma': 'scale',\n",
      "                           'vectorization_params': {'vectorize': <function hog at 0x000001AD36D93C80>}},\n",
      "         'results': [{'result': {'avg_precision': 0.8166233064991164,\n",
      "                                 'f1-score': 0.896551724137931,\n",
      "                                 'false_neg': 21,\n",
      "                                 'false_pos': 0,\n",
      "                                 'n_test': 5093,\n",
      "                                 'precision': array([0.02199097, 1.        , 1.        ]),\n",
      "                                 'recall': array([1.    , 0.8125, 0.    ]),\n",
      "                                 'roc_auc_score': 0.90625,\n",
      "                                 'true_neg': 91,\n",
      "                                 'true_pos': 4981}}]}}\n"
     ]
    }
   ],
   "source": [
    "# ( 3 ) --- Multiple --- Try multiple classifiers\n",
    "common_params = {\n",
    "    # General\n",
    "    'box_size': (150, 90),\n",
    "    'vectorization_params': {\n",
    "        'vectorize': descriptor_vector.hog,\n",
    "#        'vectorize_kwargs': { 'orientations': 6},\n",
    "    },\n",
    "}\n",
    "\n",
    "kw_params = {\n",
    "    'limit_score': 0.5,\n",
    "    'slide_step': (60,50),\n",
    "    'downscale_step': 30,\n",
    "    'only_one_training': False,\n",
    "}\n",
    "\n",
    "global_params = {\n",
    "    'svc': {\n",
    "        **common_params,\n",
    "        'gamma': 'scale',\n",
    "    },\n",
    "    'linear_svc': {\n",
    "        **common_params,\n",
    "    },\n",
    "    'decision_tree': {\n",
    "        **common_params,\n",
    "    },\n",
    "    'adaboost': {\n",
    "        **common_params,\n",
    "        'base_estimator': models.create_model('random_forest', { 'n_estimators': 10, 'max_depth': 30 })\n",
    "    },\n",
    "    'random_forest': {\n",
    "        **common_params,\n",
    "        'n_estimators': 100,\n",
    "    },\n",
    "}\n",
    "\n",
    "changing_params = {\n",
    "}\n",
    "\n",
    "only_clf = ('svc', 'adaboost', 'linear_svc', 'random_forest')\n",
    "global_params = { key: value for key, value in global_params.items() if key in only_clf }\n",
    "\n",
    "print(f\"Using {len(images)} images\")\n",
    "results = try_classifiers(images, label_sets, global_params, changing_params, **kw_params)\n",
    "\n",
    "print(\"\\n------\\n\")\n",
    "pp(results)"
   ]
  },
  {
   "cell_type": "markdown",
   "metadata": {},
   "source": [
    "-----\n",
    "-----\n",
    "-----"
   ]
  },
  {
   "cell_type": "markdown",
   "metadata": {},
   "source": [
    "### 4. Test predictions"
   ]
  },
  {
   "cell_type": "code",
   "execution_count": 194,
   "metadata": {},
   "outputs": [
    {
     "name": "stdout",
     "output_type": "stream",
     "text": [
      "Got 65 predictions\n"
     ]
    }
   ],
   "source": [
    "# Import predictions\n",
    "from modules.window import show_boxes\n",
    "from config import PREDICTION_PATH, GRAY, TEST_LIMIT, VERSION\n",
    "\n",
    "test_images = data.load_images('test', limit=None)\n",
    "test_labels = data.load_labels(path=PREDICTION_PATH)[:,:6]\n",
    "print(f\"Got {len(test_labels)} predictions\")"
   ]
  },
  {
   "cell_type": "code",
   "execution_count": 195,
   "metadata": {},
   "outputs": [
    {
     "data": {
      "application/vnd.jupyter.widget-view+json": {
       "model_id": "32c80e8d6da64bc3ac86d00ebf90a795",
       "version_major": 2,
       "version_minor": 0
      },
      "text/plain": [
       "HBox(children=(IntProgress(value=0, description='Processing images', max=500, style=ProgressStyle(description_…"
      ]
     },
     "metadata": {},
     "output_type": "display_data"
    },
    {
     "name": "stderr",
     "output_type": "stream",
     "text": [
      "C:\\Users\\Alexandre\\Miniconda3\\lib\\site-packages\\skimage\\util\\dtype.py:141: UserWarning: Possible precision loss when converting from float64 to uint8\n",
      "  .format(dtypeobj_in, dtypeobj_out))\n"
     ]
    }
   ],
   "source": [
    "# Display predictions on each image and save it\n",
    "from collections import Counter\n",
    "#print(Counter(test_labels[:,0]))\n",
    "show_boxes(test_images, test_labels, only=None, display=False, save=True, path=f\"detected/{1}\")"
   ]
  },
  {
   "cell_type": "markdown",
   "metadata": {},
   "source": [
    "### 5. Tests"
   ]
  },
  {
   "cell_type": "code",
   "execution_count": null,
   "metadata": {},
   "outputs": [],
   "source": [
    "# ( 5 ) --- Haar features optimized\n",
    "int_images = descriptor_vector.compute_integral_images(images)\n"
   ]
  },
  {
   "cell_type": "code",
   "execution_count": 25,
   "metadata": {},
   "outputs": [
    {
     "name": "stdout",
     "output_type": "stream",
     "text": [
      "8743\n",
      "67280\n"
     ]
    }
   ],
   "source": [
    "from skimage.feature import haar_like_feature, haar_like_feature_coord\n",
    "slide_step = (10, 10)\n",
    "box_size = (30, 30)\n",
    "feature_type = 'type-3-x'\n",
    "\n",
    "iimg = int_images[0]\n",
    "h, l = iimg.shape[:2]\n",
    "\n",
    "ft_coord, ft_type = haar_like_feature_coord(*box_size[::-1], feature_type=feature_type)\n",
    "ft_rate = 0.7\n",
    "n_features = int(ft_coord.shape[0] * ft_rate)\n",
    "\n",
    "print(compute_no_windows(iimg, box_size, slide_step, downscale_step))\n",
    "print(ft_coord.shape[0])"
   ]
  },
  {
   "cell_type": "code",
   "execution_count": 20,
   "metadata": {},
   "outputs": [
    {
     "name": "stdout",
     "output_type": "stream",
     "text": [
      "(42, 67280)\n",
      "[[-4.76427451e-01 -9.58526275e-01 -1.40833608e+00 ... -1.14430980e-01\n",
      "  -1.02941176e-01 -1.04347843e-01]\n",
      " [-5.26036745e+00 -5.65385373e+00 -5.88058431e+00 ... -9.26435294e-02\n",
      "  -9.65650980e-02 -9.26435294e-02]\n",
      " [-8.54944745e+00 -8.72380314e+00 -8.85191059e+00 ... -9.65650980e-02\n",
      "  -9.34541176e-02 -9.65650980e-02]\n",
      " ...\n",
      " [-1.46704142e+02 -1.47185064e+02 -1.47689516e+02 ... -5.48482745e-01\n",
      "  -5.41747843e-01 -5.37826275e-01]\n",
      " [-1.51608354e+02 -1.52125441e+02 -1.52634685e+02 ... -5.26061569e-01\n",
      "  -5.26061569e-01 -5.26061569e-01]\n",
      " [-1.56751777e+02 -1.57288473e+02 -1.57823592e+02 ... -5.17087451e-01\n",
      "  -5.17087451e-01 -5.17087451e-01]]\n"
     ]
    }
   ],
   "source": [
    "def compute_haar(iimg, ft_set, box_size, slide_step, downscale_step):\n",
    "    assert all([ len(x) == 2 for x in (ft_set, slide_step, box_size)])\n",
    "    ft_coord, ft_type = ft_set\n",
    "    slide_h, slide_l = slide_step\n",
    "    box_h, box_l = box_size\n",
    "    \n",
    "    n_windows = compute_no_windows(iimg, box_size, slide_step, downscale_step)\n",
    "    n_features = ft_coord.shape[0]\n",
    "\n",
    "    features = np.empty((, n_features))\n",
    "    for x in range(0, h - box_h, slide_h):\n",
    "        for y in range(0, l - box_l, slide_l):\n",
    "            ft = haar_like_feature(iimg, x, y, *box_size[::-1], feature_type=ft_type, feature_coord=ft_coord)\n",
    "            r.append(ft)\n",
    "        break\n",
    "\n",
    "    return features"
   ]
  },
  {
   "cell_type": "code",
   "execution_count": null,
   "metadata": {},
   "outputs": [],
   "source": [
    "# Display false_positives\n",
    "from skimage.io import imshow_collection\n",
    "imgs = []\n",
    "for falpos in train_results:\n",
    "    img_id = falpos[0]\n",
    "    x,y,h,l = falpos[1:5]\n",
    "    img = images[img_id-1]\n",
    "    imgs.append(img[x:x+h,y:y+l])\n",
    "imshow_collection(imgs)"
   ]
  }
 ],
 "metadata": {
  "kernelspec": {
   "display_name": "Python 3",
   "language": "python",
   "name": "python3"
  },
  "language_info": {
   "codemirror_mode": {
    "name": "ipython",
    "version": 3
   },
   "file_extension": ".py",
   "mimetype": "text/x-python",
   "name": "python",
   "nbconvert_exporter": "python",
   "pygments_lexer": "ipython3",
   "version": "3.7.0"
  }
 },
 "nbformat": 4,
 "nbformat_minor": 2
}
