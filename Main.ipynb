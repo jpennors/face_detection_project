{
 "cells": [
  {
   "cell_type": "markdown",
   "metadata": {},
   "source": [
    "# Keep it simple s..."
   ]
  },
  {
   "cell_type": "markdown",
   "metadata": {},
   "source": [
    "## Imports"
   ]
  },
  {
   "cell_type": "code",
   "execution_count": 26,
   "metadata": {},
   "outputs": [
    {
     "name": "stdout",
     "output_type": "stream",
     "text": [
      "The autoreload extension is already loaded. To reload it, use:\n",
      "  %reload_ext autoreload\n"
     ]
    }
   ],
   "source": [
    "%load_ext autoreload\n",
    "%autoreload 2\n",
    "%matplotlib inline\n",
    "\n",
    "from collections import Counter\n",
    "from modules.negative_set import generate_negative_set, get_box_parameters\n",
    "from modules import data, models, descriptor_vector, validation, selection\n",
    "from modules.selection import try_classifiers, try_params\n",
    "from modules.window import compute_no_windows\n",
    "import numpy as np\n",
    "from skimage.transform import resize\n",
    "from skimage.color import rgb2gray\n",
    "import pickle\n",
    "from pprint import pprint as pp"
   ]
  },
  {
   "cell_type": "code",
   "execution_count": 5,
   "metadata": {},
   "outputs": [],
   "source": [
    "# Store\n",
    "store = []"
   ]
  },
  {
   "cell_type": "code",
   "execution_count": 6,
   "metadata": {},
   "outputs": [
    {
     "name": "stdout",
     "output_type": "stream",
     "text": [
      "Using 1000/1000 images & 1284/1284 labels\n"
     ]
    }
   ],
   "source": [
    "# Load data directly\n",
    "GRAY = True\n",
    "OFFSET = 0\n",
    "LIMIT = None\n",
    "\n",
    "full_images = images = data.load_images(limit=LIMIT, offset=OFFSET, gray=GRAY)\n",
    "full_labels = labels = data.load_labels(limit=LIMIT, offset=OFFSET)\n",
    "print(f\"Using {len(images)}/1000 images & {len(labels)}/1284 labels\")"
   ]
  },
  {
   "cell_type": "code",
   "execution_count": 44,
   "metadata": {},
   "outputs": [
    {
     "name": "stdout",
     "output_type": "stream",
     "text": [
      "1000\n"
     ]
    }
   ],
   "source": [
    "# Limit if needed\n",
    "LIMIT = None\n",
    "if LIMIT:\n",
    "   images = full_images[OFFSET:OFFSET+LIMIT]\n",
    "   labels = full_labels[full_labels[:,0] <= OFFSET+LIMIT]\n",
    "   labels = labels[labels[:,0] > OFFSET]\n",
    "else:\n",
    "   images = full_images\n",
    "   labels = full_labels\n",
    "print(len(images))\n",
    "#if GRAY:\n",
    "#    images = np.array([ rgb2gray(img) for img in images ])"
   ]
  },
  {
   "cell_type": "markdown",
   "metadata": {},
   "source": [
    "## Params"
   ]
  },
  {
   "cell_type": "code",
   "execution_count": 45,
   "metadata": {},
   "outputs": [],
   "source": [
    "# Global params\n",
    "only_one_training = False\n",
    "limit_score = 0.5\n",
    "slide_step = (60,50)\n",
    "downscale_step = 30\n",
    "box_size = (150, 90)\n",
    "\n",
    "# Model\n",
    "CLASSIFIER = 'random_forest'\n",
    "MODEL_PARAMS = {\n",
    "    'n_estimators': 100,\n",
    "#    'max_depth': None,\n",
    "#    'max_features': 100,\n",
    "    'class_weight': { -1: 1, 1: 1}\n",
    "}\n",
    "VECTORIZATION_PARAMS = {\n",
    "    'vectorize': descriptor_vector.daisy,\n",
    "#    'vectorize_kwargs': [6],\n",
    "} "
   ]
  },
  {
   "cell_type": "markdown",
   "metadata": {},
   "source": [
    "## Adapt data"
   ]
  },
  {
   "cell_type": "code",
   "execution_count": 46,
   "metadata": {},
   "outputs": [
    {
     "name": "stdout",
     "output_type": "stream",
     "text": [
      "Using 1000/1000 images & 1284/1284 labels\n",
      "Generating 4000 negatives...\n",
      "Creating train & validation sets with negatives...\n",
      "Train: 750, Valid: 250\n",
      "Counter({-1: 3073, 1: 959}) Counter({-1: 927, 1: 325})\n"
     ]
    }
   ],
   "source": [
    "# Label sets\n",
    "NEG_SIZE = 4000\n",
    "NEG_SUP = 10000\n",
    "TRAIN_RATE = 0.75\n",
    "\n",
    "print(f\"Using {len(images)}/1000 images & {len(labels)}/1284 labels\")\n",
    "print(f\"Generating {NEG_SIZE} negatives...\")\n",
    "negatives = generate_negative_set(images, labels, set_size=NEG_SIZE)\n",
    "\n",
    "print(\"Creating train & validation sets with negatives...\")\n",
    "all_labels = np.concatenate([labels, negatives])\n",
    "train_labels, valid_labels = data.train_valid_sets(len(images), all_labels, TRAIN_RATE)\n",
    "\n",
    "# Validation with additional negatives\n",
    "pvalid_labels = np.concatenate([ valid_labels, generate_negative_set(images, labels, set_size=NEG_SIZE) ])\n",
    "label_sets = train_labels, pvalid_labels\n",
    "\n",
    "print(f\"Train: {len(np.unique(train_labels[:,0]))}, Valid: {len(np.unique(valid_labels[:,0]))}\")\n",
    "print(Counter(train_labels[:,5]), Counter(valid_labels[:,5]))"
   ]
  },
  {
   "cell_type": "markdown",
   "metadata": {},
   "source": [
    "---\n",
    "\n",
    "## Now Try !"
   ]
  },
  {
   "cell_type": "markdown",
   "metadata": {},
   "source": [
    "### 1. Main Single"
   ]
  },
  {
   "cell_type": "code",
   "execution_count": null,
   "metadata": {},
   "outputs": [],
   "source": [
    "# ( 1 ) --- Single --- Train, predict, validate\n",
    "clf = models.create_model(CLASSIFIER, MODEL_PARAMS)\n",
    "kwargs = { 'limit_score': limit_score, 'slide_step': slide_step, 'downscale_step': downscale_step }\n",
    "\n",
    "print(\"Training...\")\n",
    "train_results = models.train(clf, images, box_size, train_labels, **VECTORIZATION_PARAMS,\n",
    "                             only_one_training=only_one_training, **kwargs)"
   ]
  },
  {
   "cell_type": "code",
   "execution_count": 39,
   "metadata": {},
   "outputs": [],
   "source": [
    "# Predictions\n",
    "print(\"Predicting with windows...\")\n",
    "valid_indexes = np.unique(valid_labels[:,0]) - 1\n",
    "predictions, scores = models.predict(clf, images, box_size, **VECTORIZATION_PARAMS,\n",
    "                                     only=valid_indexes, with_scores=True,**kwargs)\n",
    "\n",
    "results = validation.rate_predictions(predictions, valid_labels)\n",
    "print(\"Done\")\n",
    "\n",
    "print(\"\\n------\\n\")\n",
    "if results not in store: store.append(results)\n",
    "pp(results)"
   ]
  },
  {
   "cell_type": "code",
   "execution_count": 54,
   "metadata": {},
   "outputs": [
    {
     "name": "stdout",
     "output_type": "stream",
     "text": [
      "Predict with additional negatives...\n",
      "{'avg_precision': 0.8337286944298015,\n",
      " 'f1-score': 0.9019607843137255,\n",
      " 'precision': array([0.06888069, 1.        , 1.        ]),\n",
      " 'recall': array([1.        , 0.82142857, 0.        ]),\n",
      " 'roc_auc_score': 0.9107142857142857}\n"
     ]
    },
    {
     "data": {
      "image/png": "[encoded data removed]",
      "text/plain": [
       "<Figure size 432x288 with 1 Axes>"
      ]
     },
     "metadata": {
      "needs_background": "light"
     },
     "output_type": "display_data"
    }
   ],
   "source": [
    "# Validation with additional negatives\n",
    "NEG_SUP = 10000\n",
    "pvalid_labels = np.concatenate([ valid_labels, generate_negative_set(images, labels, set_size=NEG_SIZE) ])\n",
    "\n",
    "print(\"Predict with additional negatives...\")\n",
    "pvalid_indexes = np.unique(valid_labels[:,0]) - 1\n",
    "scores, results = models.predict_and_validate(clf, images, box_size, pvalid_labels,\n",
    "                                              **VECTORIZATION_PARAMS, only=pvalid_indexes,**kwargs)\n",
    "pp(results)"
   ]
  },
  {
   "cell_type": "markdown",
   "metadata": {},
   "source": [
    "### 2. Multiple Parameters"
   ]
  },
  {
   "cell_type": "code",
   "execution_count": 47,
   "metadata": {},
   "outputs": [
    {
     "name": "stdout",
     "output_type": "stream",
     "text": [
      "Using 1000 images\n",
      "## Trying parameter `C`...\n",
      "### with value `0.1`\n",
      "Vectorizing data...\n",
      "First training with (4032, 243) rows...\n"
     ]
    },
    {
     "data": {
      "application/vnd.jupyter.widget-view+json": {
       "model_id": "8e11d7394af4431fbc910dbf2e8e5cb6",
       "version_major": 2,
       "version_minor": 0
      },
      "text/plain": [
       "HBox(children=(IntProgress(value=0, description='Predicting windows', max=1000, style=ProgressStyle(descriptio…"
      ]
     },
     "metadata": {},
     "output_type": "display_data"
    },
    {
     "name": "stdout",
     "output_type": "stream",
     "text": [
      "\n",
      "Adding 465 false positives / 1103 predictions\n",
      "Vectorizing data...\n",
      "Second training with (4497, 243) rows...\n"
     ]
    },
    {
     "data": {
      "image/png": "[encoded data removed]",
      "text/plain": [
       "<Figure size 432x288 with 1 Axes>"
      ]
     },
     "metadata": {
      "needs_background": "light"
     },
     "output_type": "display_data"
    },
    {
     "name": "stdout",
     "output_type": "stream",
     "text": [
      "### with value `0.25`\n",
      "Vectorizing data...\n",
      "First training with (4032, 243) rows...\n"
     ]
    },
    {
     "data": {
      "application/vnd.jupyter.widget-view+json": {
       "model_id": "6acad91584934720aab94cbedb539676",
       "version_major": 2,
       "version_minor": 0
      },
      "text/plain": [
       "HBox(children=(IntProgress(value=0, description='Predicting windows', max=1000, style=ProgressStyle(descriptio…"
      ]
     },
     "metadata": {},
     "output_type": "display_data"
    },
    {
     "name": "stdout",
     "output_type": "stream",
     "text": [
      "\n",
      "Adding 472 false positives / 1115 predictions\n",
      "Vectorizing data...\n",
      "Second training with (4504, 243) rows...\n"
     ]
    },
    {
     "data": {
      "image/png": "[encoded data removed]",
      "text/plain": [
       "<Figure size 432x288 with 1 Axes>"
      ]
     },
     "metadata": {
      "needs_background": "light"
     },
     "output_type": "display_data"
    },
    {
     "name": "stdout",
     "output_type": "stream",
     "text": [
      "### with value `0.5`\n",
      "Vectorizing data...\n",
      "First training with (4032, 243) rows...\n"
     ]
    },
    {
     "data": {
      "application/vnd.jupyter.widget-view+json": {
       "model_id": "035908e03af64467949c9f73cc1d9609",
       "version_major": 2,
       "version_minor": 0
      },
      "text/plain": [
       "HBox(children=(IntProgress(value=0, description='Predicting windows', max=1000, style=ProgressStyle(descriptio…"
      ]
     },
     "metadata": {},
     "output_type": "display_data"
    },
    {
     "name": "stdout",
     "output_type": "stream",
     "text": [
      "\n",
      "Adding 492 false positives / 1136 predictions\n",
      "Vectorizing data...\n",
      "Second training with (4524, 243) rows...\n"
     ]
    },
    {
     "data": {
      "image/png": "[encoded data removed]",
      "text/plain": [
       "<Figure size 432x288 with 1 Axes>"
      ]
     },
     "metadata": {
      "needs_background": "light"
     },
     "output_type": "display_data"
    },
    {
     "name": "stdout",
     "output_type": "stream",
     "text": [
      "### with value `0.75`\n",
      "Vectorizing data...\n",
      "First training with (4032, 243) rows...\n"
     ]
    },
    {
     "data": {
      "application/vnd.jupyter.widget-view+json": {
       "model_id": "3adeb53d46bf46469c7377e3f0e9b4d6",
       "version_major": 2,
       "version_minor": 0
      },
      "text/plain": [
       "HBox(children=(IntProgress(value=0, description='Predicting windows', max=1000, style=ProgressStyle(descriptio…"
      ]
     },
     "metadata": {},
     "output_type": "display_data"
    },
    {
     "name": "stdout",
     "output_type": "stream",
     "text": [
      "\n",
      "Adding 496 false positives / 1137 predictions\n",
      "Vectorizing data...\n",
      "Second training with (4528, 243) rows...\n"
     ]
    },
    {
     "data": {
      "image/png": "[encoded data removed]",
      "text/plain": [
       "<Figure size 432x288 with 1 Axes>"
      ]
     },
     "metadata": {
      "needs_background": "light"
     },
     "output_type": "display_data"
    },
    {
     "name": "stdout",
     "output_type": "stream",
     "text": [
      "### with value `1`\n",
      "Vectorizing data...\n",
      "First training with (4032, 243) rows...\n"
     ]
    },
    {
     "data": {
      "application/vnd.jupyter.widget-view+json": {
       "model_id": "ae70896d8762425394824777d47492f4",
       "version_major": 2,
       "version_minor": 0
      },
      "text/plain": [
       "HBox(children=(IntProgress(value=0, description='Predicting windows', max=1000, style=ProgressStyle(descriptio…"
      ]
     },
     "metadata": {},
     "output_type": "display_data"
    },
    {
     "name": "stdout",
     "output_type": "stream",
     "text": [
      "\n",
      "Adding 509 false positives / 1152 predictions\n",
      "Vectorizing data...\n",
      "Second training with (4541, 243) rows...\n"
     ]
    },
    {
     "data": {
      "image/png": "[encoded data removed]",
      "text/plain": [
       "<Figure size 432x288 with 1 Axes>"
      ]
     },
     "metadata": {
      "needs_background": "light"
     },
     "output_type": "display_data"
    },
    {
     "name": "stdout",
     "output_type": "stream",
     "text": [
      "\n",
      "------\n",
      "\n",
      "{'classifier': 'linear_svc',\n",
      " 'global_params': {'C': 1, 'max_iter': 10000},\n",
      " 'results': [{'name': 'C',\n",
      "              'result': {'avg_precision': 0.895607962099991,\n",
      "                         'f1-score': 0.9419354838709677,\n",
      "                         'false_neg': 33,\n",
      "                         'false_pos': 3,\n",
      "                         'n_test': 5252,\n",
      "                         'precision': array([0.06188119, 0.98983051, 1.        ]),\n",
      "                         'recall': array([1.        , 0.89846154, 0.        ]),\n",
      "                         'roc_auc_score': 0.9489263243352952,\n",
      "                         'true_neg': 292,\n",
      "                         'true_pos': 4924},\n",
      "              'value': 0.1},\n",
      "             {'name': 'C',\n",
      "              'result': {'avg_precision': 0.9013803688061114,\n",
      "                         'f1-score': 0.9453376205787781,\n",
      "                         'false_neg': 31,\n",
      "                         'false_pos': 3,\n",
      "                         'n_test': 5252,\n",
      "                         'precision': array([0.06188119, 0.98989899, 1.        ]),\n",
      "                         'recall': array([1.        , 0.90461538, 0.        ]),\n",
      "                         'roc_auc_score': 0.9520032474122183,\n",
      "                         'true_neg': 294,\n",
      "                         'true_pos': 4924},\n",
      "              'value': 0.25},\n",
      "             {'name': 'C',\n",
      "              'result': {'avg_precision': 0.9012613764592307,\n",
      "                         'f1-score': 0.9455128205128206,\n",
      "                         'false_neg': 30,\n",
      "                         'false_pos': 4,\n",
      "                         'n_test': 5252,\n",
      "                         'precision': array([0.06188119, 0.98662207, 1.        ]),\n",
      "                         'recall': array([1.        , 0.90769231, 0.        ]),\n",
      "                         'roc_auc_score': 0.9534402273188552,\n",
      "                         'true_neg': 295,\n",
      "                         'true_pos': 4923},\n",
      "              'value': 0.5},\n",
      "             {'name': 'C',\n",
      "              'result': {'avg_precision': 0.9071527839689038,\n",
      "                         'f1-score': 0.9487179487179488,\n",
      "                         'false_neg': 29,\n",
      "                         'false_pos': 3,\n",
      "                         'n_test': 5252,\n",
      "                         'precision': array([0.06188119, 0.98996656, 1.        ]),\n",
      "                         'recall': array([1.        , 0.91076923, 0.        ]),\n",
      "                         'roc_auc_score': 0.9550801704891414,\n",
      "                         'true_neg': 296,\n",
      "                         'true_pos': 4924},\n",
      "              'value': 0.75},\n",
      "             {'name': 'C',\n",
      "              'result': {'avg_precision': 0.9042665753410652,\n",
      "                         'f1-score': 0.9470304975922953,\n",
      "                         'false_neg': 30,\n",
      "                         'false_pos': 3,\n",
      "                         'n_test': 5252,\n",
      "                         'precision': array([0.06188119, 0.98993289, 1.        ]),\n",
      "                         'recall': array([1.        , 0.90769231, 0.        ]),\n",
      "                         'roc_auc_score': 0.9535417089506798,\n",
      "                         'true_neg': 295,\n",
      "                         'true_pos': 4924},\n",
      "              'value': 1}]}\n"
     ]
    }
   ],
   "source": [
    "# ( 2 ) --- Multiple --- Try multiple params\n",
    "clf_name = 'linear_svc'\n",
    "global_params = {\n",
    "    # General\n",
    "    'box_size': (150, 90),\n",
    "\n",
    "    'C': 0.75,\n",
    "    'max_iter': 10000,\n",
    "    \n",
    "#    'class_weight': { -1: 1, 1: 1},\n",
    "\n",
    "    'vectorization_params': {\n",
    "        'vectorize': descriptor_vector.hog,\n",
    "#        'vectorize_kwargs': { 'orientations': 6},\n",
    "    },\n",
    "}\n",
    "\n",
    "kw_params = {\n",
    "    'limit_score': 0.5,\n",
    "    'slide_step': (60,50),\n",
    "    'downscale_step': 30,\n",
    "    'only_one_training': False,\n",
    "}\n",
    "\n",
    "changing_params = {\n",
    "    'C': [ 0.1, 0.25, 0.5, 0.75, 1 ],\n",
    "}\n",
    "\n",
    "print(f\"Using {len(images)} images\")\n",
    "results = try_params(images, (train_labels, pvalid_labels), clf_name, global_params, changing_params, **kw_params)\n",
    "\n",
    "print(\"\\n------\\n\")\n",
    "if results not in store: store.append(results)\n",
    "pp(results)"
   ]
  },
  {
   "cell_type": "markdown",
   "metadata": {},
   "source": [
    "### 3. Multiple Classifiers"
   ]
  },
  {
   "cell_type": "code",
   "execution_count": 36,
   "metadata": {},
   "outputs": [
    {
     "name": "stdout",
     "output_type": "stream",
     "text": [
      "Using 300 images\n",
      "\n",
      "# Trying classifier `svc`...\n",
      "Vectorizing data...\n",
      "First training with (3308, 243) rows...\n"
     ]
    },
    {
     "data": {
      "application/vnd.jupyter.widget-view+json": {
       "model_id": "83de221b96fa4968bc05f2f5c46307e0",
       "version_major": 2,
       "version_minor": 0
      },
      "text/plain": [
       "HBox(children=(IntProgress(value=0, description='Predicting windows', max=300, style=ProgressStyle(description…"
      ]
     },
     "metadata": {},
     "output_type": "display_data"
    },
    {
     "name": "stdout",
     "output_type": "stream",
     "text": [
      "\n",
      "Adding 3 false positives / 70 predictions\n",
      "Vectorizing data...\n",
      "Second training with (3311, 243) rows...\n"
     ]
    },
    {
     "data": {
      "image/png": "[encoded data removed]",
      "text/plain": [
       "<Figure size 432x288 with 1 Axes>"
      ]
     },
     "metadata": {
      "needs_background": "light"
     },
     "output_type": "display_data"
    },
    {
     "name": "stdout",
     "output_type": "stream",
     "text": [
      "\n",
      "# Trying classifier `linear_svc`...\n",
      "Vectorizing data...\n",
      "First training with (3308, 243) rows...\n"
     ]
    },
    {
     "data": {
      "application/vnd.jupyter.widget-view+json": {
       "model_id": "7e707f0a465c46aeb14aaeaacbdc68d8",
       "version_major": 2,
       "version_minor": 0
      },
      "text/plain": [
       "HBox(children=(IntProgress(value=0, description='Predicting windows', max=300, style=ProgressStyle(description…"
      ]
     },
     "metadata": {},
     "output_type": "display_data"
    },
    {
     "name": "stdout",
     "output_type": "stream",
     "text": [
      "\n",
      "Adding 87 false positives / 242 predictions\n",
      "Vectorizing data...\n",
      "Second training with (3395, 243) rows...\n"
     ]
    },
    {
     "data": {
      "image/png": "[encoded data removed]",
      "text/plain": [
       "<Figure size 432x288 with 1 Axes>"
      ]
     },
     "metadata": {
      "needs_background": "light"
     },
     "output_type": "display_data"
    },
    {
     "name": "stdout",
     "output_type": "stream",
     "text": [
      "\n",
      "# Trying classifier `adaboost`...\n",
      "Vectorizing data...\n",
      "First training with (3308, 243) rows...\n"
     ]
    },
    {
     "data": {
      "application/vnd.jupyter.widget-view+json": {
       "model_id": "0db10a332dae4dd0a5bed4775f90d55a",
       "version_major": 2,
       "version_minor": 0
      },
      "text/plain": [
       "HBox(children=(IntProgress(value=0, description='Predicting windows', max=300, style=ProgressStyle(description…"
      ]
     },
     "metadata": {},
     "output_type": "display_data"
    },
    {
     "name": "stdout",
     "output_type": "stream",
     "text": [
      "\n",
      "!! No false positives given out of 12 predictions, add more images or reduce negatives\n",
      "Adding 0 false positives / 12 predictions\n",
      "Vectorizing data...\n",
      "Second training with (3308, 243) rows...\n"
     ]
    },
    {
     "data": {
      "image/png": "[encoded data removed]",
      "text/plain": [
       "<Figure size 432x288 with 1 Axes>"
      ]
     },
     "metadata": {
      "needs_background": "light"
     },
     "output_type": "display_data"
    },
    {
     "name": "stdout",
     "output_type": "stream",
     "text": [
      "\n",
      "# Trying classifier `random_forest`...\n",
      "Vectorizing data...\n",
      "First training with (3308, 243) rows...\n"
     ]
    },
    {
     "data": {
      "application/vnd.jupyter.widget-view+json": {
       "model_id": "e803460dac784da9ac61674e73c674a2",
       "version_major": 2,
       "version_minor": 0
      },
      "text/plain": [
       "HBox(children=(IntProgress(value=0, description='Predicting windows', max=300, style=ProgressStyle(description…"
      ]
     },
     "metadata": {},
     "output_type": "display_data"
    },
    {
     "name": "stdout",
     "output_type": "stream",
     "text": [
      "\n",
      "Adding 6 false positives / 51 predictions\n",
      "Vectorizing data...\n",
      "Second training with (3314, 243) rows...\n"
     ]
    },
    {
     "data": {
      "image/png": "[encoded data removed]",
      "text/plain": [
       "<Figure size 432x288 with 1 Axes>"
      ]
     },
     "metadata": {
      "needs_background": "light"
     },
     "output_type": "display_data"
    },
    {
     "name": "stdout",
     "output_type": "stream",
     "text": [
      "\n",
      "------\n",
      "\n",
      "{'adaboost': {'classifier': 'adaboost',\n",
      "              'global_params': {'base_estimator': RandomForestClassifier(bootstrap=True, class_weight=None, criterion='gini',\n",
      "            max_depth=30, max_features='auto', max_leaf_nodes=None,\n",
      "            min_impurity_decrease=0.0, min_impurity_split=None,\n",
      "            min_samples_leaf=1, min_samples_split=2,\n",
      "            min_weight_fraction_leaf=0.0, n_estimators=10, n_jobs=None,\n",
      "            oob_score=False, random_state=None, verbose=0,\n",
      "            warm_start=False),\n",
      "                                'box_size': (150, 90),\n",
      "                                'vectorization_params': {'vectorize': <function hog at 0x000001AD36D93C80>}},\n",
      "              'results': [{'result': {'avg_precision': 0.32761879049676024,\n",
      "                                      'f1-score': 0.47619047619047616,\n",
      "                                      'false_neg': 77,\n",
      "                                      'false_pos': 0,\n",
      "                                      'n_test': 5093,\n",
      "                                      'precision': array([0.02199097, 1.        , 1.        ]),\n",
      "                                      'recall': array([1.    , 0.3125, 0.    ]),\n",
      "                                      'roc_auc_score': 0.65625,\n",
      "                                      'true_neg': 35,\n",
      "                                      'true_pos': 4981}}]},\n",
      " 'linear_svc': {'classifier': 'linear_svc',\n",
      "                'global_params': {'box_size': (150, 90),\n",
      "                                  'vectorization_params': {'vectorize': <function hog at 0x000001AD36D93C80>}},\n",
      "                'results': [{'result': {'avg_precision': 0.8352731428440711,\n",
      "                                        'f1-score': 0.9116279069767441,\n",
      "                                        'false_neg': 14,\n",
      "                                        'false_pos': 5,\n",
      "                                        'n_test': 5093,\n",
      "                                        'precision': array([0.02199097, 0.95145631, 1.        ]),\n",
      "                                        'recall': array([1.   , 0.875, 0.   ]),\n",
      "                                        'roc_auc_score': 0.9369980927524594,\n",
      "                                        'true_neg': 98,\n",
      "                                        'true_pos': 4976}}]},\n",
      " 'random_forest': {'classifier': 'random_forest',\n",
      "                   'global_params': {'box_size': (150, 90),\n",
      "                                     'n_estimators': 100,\n",
      "                                     'vectorization_params': {'vectorize': <function hog at 0x000001AD36D93C80>}},\n",
      "                   'results': [{'result': {'avg_precision': 0.6594432834983591,\n",
      "                                           'f1-score': 0.7891891891891891,\n",
      "                                           'false_neg': 39,\n",
      "                                           'false_pos': 0,\n",
      "                                           'n_test': 5093,\n",
      "                                           'precision': array([0.02199097, 1.        , 1.        ]),\n",
      "                                           'recall': array([1.        , 0.65178571, 0.        ]),\n",
      "                                           'roc_auc_score': 0.8258928571428572,\n",
      "                                           'true_neg': 73,\n",
      "                                           'true_pos': 4981}}]},\n",
      " 'svc': {'classifier': 'svc',\n",
      "         'global_params': {'box_size': (150, 90),\n",
      "                           'gamma': 'scale',\n",
      "                           'vectorization_params': {'vectorize': <function hog at 0x000001AD36D93C80>}},\n",
      "         'results': [{'result': {'avg_precision': 0.8166233064991164,\n",
      "                                 'f1-score': 0.896551724137931,\n",
      "                                 'false_neg': 21,\n",
      "                                 'false_pos': 0,\n",
      "                                 'n_test': 5093,\n",
      "                                 'precision': array([0.02199097, 1.        , 1.        ]),\n",
      "                                 'recall': array([1.    , 0.8125, 0.    ]),\n",
      "                                 'roc_auc_score': 0.90625,\n",
      "                                 'true_neg': 91,\n",
      "                                 'true_pos': 4981}}]}}\n"
     ]
    }
   ],
   "source": [
    "# ( 3 ) --- Multiple --- Try multiple classifiers\n",
    "common_params = {\n",
    "    # General\n",
    "    'box_size': (150, 90),\n",
    "    'vectorization_params': {\n",
    "        'vectorize': descriptor_vector.hog,\n",
    "#        'vectorize_kwargs': { 'orientations': 6},\n",
    "    },\n",
    "}\n",
    "\n",
    "kw_params = {\n",
    "    'limit_score': 0.5,\n",
    "    'slide_step': (60,50),\n",
    "    'downscale_step': 30,\n",
    "    'only_one_training': False,\n",
    "}\n",
    "\n",
    "global_params = {\n",
    "    'svc': {\n",
    "        **common_params,\n",
    "        'gamma': 'scale',\n",
    "    },\n",
    "    'linear_svc': {\n",
    "        **common_params,\n",
    "    },\n",
    "    'decision_tree': {\n",
    "        **common_params,\n",
    "    },\n",
    "    'adaboost': {\n",
    "        **common_params,\n",
    "        'base_estimator': models.create_model('random_forest', { 'n_estimators': 10, 'max_depth': 30 })\n",
    "    },\n",
    "    'random_forest': {\n",
    "        **common_params,\n",
    "        'n_estimators': 100,\n",
    "    },\n",
    "}\n",
    "\n",
    "changing_params = {\n",
    "}\n",
    "\n",
    "only_clf = ('svc', 'adaboost', 'linear_svc', 'random_forest')\n",
    "global_params = { key: value for key, value in global_params.items() if key in only_clf }\n",
    "\n",
    "print(f\"Using {len(images)} images\")\n",
    "results = try_classifiers(images, label_sets, global_params, changing_params, **kw_params)\n",
    "\n",
    "print(\"\\n------\\n\")\n",
    "pp(results)"
   ]
  },
  {
   "cell_type": "markdown",
   "metadata": {},
   "source": [
    "-----\n",
    "-----\n",
    "-----"
   ]
  },
  {
   "cell_type": "markdown",
   "metadata": {},
   "source": [
    "### 4. Tests"
   ]
  },
  {
   "cell_type": "code",
   "execution_count": 8,
   "metadata": {},
   "outputs": [],
   "source": [
    "# ( 4 ) --- Haar features optimized\n",
    "int_images = descriptor_vector.compute_integral_images(images)\n"
   ]
  },
  {
   "cell_type": "code",
   "execution_count": 25,
   "metadata": {},
   "outputs": [
    {
     "name": "stdout",
     "output_type": "stream",
     "text": [
      "8743\n",
      "67280\n"
     ]
    }
   ],
   "source": [
    "from skimage.feature import haar_like_feature, haar_like_feature_coord\n",
    "slide_step = (10, 10)\n",
    "box_size = (30, 30)\n",
    "feature_type = 'type-3-x'\n",
    "\n",
    "iimg = int_images[0]\n",
    "h, l = iimg.shape[:2]\n",
    "\n",
    "ft_coord, ft_type = haar_like_feature_coord(*box_size[::-1], feature_type=feature_type)\n",
    "ft_rate = 0.7\n",
    "n_features = int(ft_coord.shape[0] * ft_rate)\n",
    "\n",
    "print(compute_no_windows(iimg, box_size, slide_step, downscale_step))\n",
    "print(ft_coord.shape[0])"
   ]
  },
  {
   "cell_type": "code",
   "execution_count": 20,
   "metadata": {},
   "outputs": [
    {
     "name": "stdout",
     "output_type": "stream",
     "text": [
      "(42, 67280)\n",
      "[[-4.76427451e-01 -9.58526275e-01 -1.40833608e+00 ... -1.14430980e-01\n",
      "  -1.02941176e-01 -1.04347843e-01]\n",
      " [-5.26036745e+00 -5.65385373e+00 -5.88058431e+00 ... -9.26435294e-02\n",
      "  -9.65650980e-02 -9.26435294e-02]\n",
      " [-8.54944745e+00 -8.72380314e+00 -8.85191059e+00 ... -9.65650980e-02\n",
      "  -9.34541176e-02 -9.65650980e-02]\n",
      " ...\n",
      " [-1.46704142e+02 -1.47185064e+02 -1.47689516e+02 ... -5.48482745e-01\n",
      "  -5.41747843e-01 -5.37826275e-01]\n",
      " [-1.51608354e+02 -1.52125441e+02 -1.52634685e+02 ... -5.26061569e-01\n",
      "  -5.26061569e-01 -5.26061569e-01]\n",
      " [-1.56751777e+02 -1.57288473e+02 -1.57823592e+02 ... -5.17087451e-01\n",
      "  -5.17087451e-01 -5.17087451e-01]]\n"
     ]
    }
   ],
   "source": [
    "def compute_haar(iimg, ft_set, box_size, slide_step, downscale_step):\n",
    "    assert all([ len(x) == 2 for x in (ft_set, slide_step, box_size)])\n",
    "    ft_coord, ft_type = ft_set\n",
    "    slide_h, slide_l = slide_step\n",
    "    box_h, box_l = box_size\n",
    "    \n",
    "    n_windows = compute_no_windows(iimg, box_size, slide_step, downscale_step)\n",
    "    n_features = ft_coord.shape[0]\n",
    "\n",
    "    features = np.empty((, n_features))\n",
    "    for x in range(0, h - box_h, slide_h):\n",
    "        for y in range(0, l - box_l, slide_l):\n",
    "            ft = haar_like_feature(iimg, x, y, *box_size[::-1], feature_type=ft_type, feature_coord=ft_coord)\n",
    "            r.append(ft)\n",
    "        break\n",
    "\n",
    "    return features"
   ]
  },
  {
   "cell_type": "code",
   "execution_count": null,
   "metadata": {},
   "outputs": [],
   "source": [
    "# Display false_positives\n",
    "from skimage.io import imshow_collection\n",
    "imgs = []\n",
    "for falpos in train_results:\n",
    "    img_id = falpos[0]\n",
    "    x,y,h,l = falpos[1:5]\n",
    "    img = images[img_id-1]\n",
    "    imgs.append(img[x:x+h,y:y+l])\n",
    "imshow_collection(imgs)"
   ]
  }
 ],
 "metadata": {
  "kernelspec": {
   "display_name": "Python 3",
   "language": "python",
   "name": "python3"
  },
  "language_info": {
   "codemirror_mode": {
    "name": "ipython",
    "version": 3
   },
   "file_extension": ".py",
   "mimetype": "text/x-python",
   "name": "python",
   "nbconvert_exporter": "python",
   "pygments_lexer": "ipython3",
   "version": "3.7.0"
  }
 },
 "nbformat": 4,
 "nbformat_minor": 2
}
