{
 "cells": [
  {
   "cell_type": "code",
   "execution_count": 88,
   "metadata": {},
   "outputs": [
    {
     "name": "stdout",
     "output_type": "stream",
     "text": [
      "The autoreload extension is already loaded. To reload it, use:\n",
      "  %reload_ext autoreload\n"
     ]
    }
   ],
   "source": [
    "%load_ext autoreload\n",
    "%autoreload 2\n",
    "\n",
    "from modules.negative_set import generate_negative_set, get_box_parameters\n",
    "from modules import data, models, descriptor_vector, validation, selection\n",
    "from modules.selection import try_classifiers, try_params\n",
    "import numpy as np\n",
    "from skimage.transform import resize\n",
    "import pickle\n",
    "from pprint import pprint as pp"
   ]
  },
  {
   "cell_type": "code",
   "execution_count": 13,
   "metadata": {},
   "outputs": [],
   "source": [
    "# Store\n",
    "store = []"
   ]
  },
  {
   "cell_type": "code",
   "execution_count": 14,
   "metadata": {},
   "outputs": [],
   "source": [
    "# Load data\n",
    "#full_images = data.load_images()\n",
    "#full_labels = data.load_labels()"
   ]
  },
  {
   "cell_type": "code",
   "execution_count": 89,
   "metadata": {},
   "outputs": [],
   "source": [
    "# Global Params\n",
    "OFFSET = 0\n",
    "LIMIT = 100\n",
    "NEG_SIZE = 150\n",
    "TRAIN_RATE = 0.75\n",
    "\n",
    "only_one_training = True\n",
    "limit_score = 0.5\n",
    "slide_step = (60,50)\n",
    "downscale_step = 30\n",
    "box_size = (150, 60)\n",
    "\n",
    "# Model\n",
    "CLASSIFIER = 'random_forest'\n",
    "MODEL_PARAMS = {\n",
    "    'n_estimators': 50,\n",
    "    'class_weight': { -1: 1, 1: 1.5}\n",
    "}\n",
    "VECTORIZATION_PARAMS = {\n",
    "    'vectorize': descriptor_vector.hog,\n",
    "    'vectorize_args': [6],\n",
    "} "
   ]
  },
  {
   "cell_type": "code",
   "execution_count": 77,
   "metadata": {},
   "outputs": [
    {
     "name": "stdout",
     "output_type": "stream",
     "text": [
      "Using 100/1000 images & 134/1284 labels\n"
     ]
    }
   ],
   "source": [
    "# Limit if needed\n",
    "if LIMIT:\n",
    "    images = full_images[OFFSET:OFFSET+LIMIT]\n",
    "    labels = full_labels[full_labels[:,0] <= OFFSET+LIMIT]\n",
    "    labels = labels[labels[:,0] > OFFSET]\n",
    "else:\n",
    "    images = full_images\n",
    "    labels = full_labels\n",
    "print(f\"Using {len(images)}/{len(full_images)} images & {len(labels)}/{len(full_labels)} labels\")"
   ]
  },
  {
   "cell_type": "code",
   "execution_count": 78,
   "metadata": {},
   "outputs": [
    {
     "name": "stdout",
     "output_type": "stream",
     "text": [
      "Generating negative set...\n",
      "Creating train & validation sets with negatives...\n",
      "Train: 60, Valid: 40\n"
     ]
    }
   ],
   "source": [
    "# Label sets\n",
    "print(\"Generating negative set...\")\n",
    "negatives = generate_negative_set(images, labels, set_size=NEG_SIZE)\n",
    "\n",
    "print(\"Creating train & validation sets with negatives...\")\n",
    "all_labels = np.concatenate([labels, negatives])\n",
    "train_labels, valid_labels = label_sets = data.train_valid_sets(len(images), all_labels, TRAIN_RATE)\n",
    "print(f\"Train: {len(np.unique(train_labels[:,0]))}, Valid: {len(np.unique(valid_labels[:,0]))}\")"
   ]
  },
  {
   "cell_type": "code",
   "execution_count": 64,
   "metadata": {},
   "outputs": [
    {
     "name": "stdout",
     "output_type": "stream",
     "text": [
      "Training...\n",
      "First training...\n",
      "Predicting with windows...\n"
     ]
    },
    {
     "name": "stderr",
     "output_type": "stream",
     "text": [
      "Predicting windows: 100%|█████████████████████████████████████████████████████████████████████████████████████████████████████████████████████████████████| 100/100 [00:12<00:00,  8.26it/s]\n"
     ]
    },
    {
     "name": "stdout",
     "output_type": "stream",
     "text": [
      "Done\n",
      "\n",
      "------\n",
      "\n",
      "{'false_pos': 9,\n",
      " 'missing_predictions': 8,\n",
      " 'no_faces': 35,\n",
      " 'no_images': 25,\n",
      " 'no_predictions': 42,\n",
      " 'true_pos': 33}\n"
     ]
    }
   ],
   "source": [
    "# ( 1 ) --- Singe --- Train, predict, validate\n",
    "clf = models.create_model(CLASSIFIER, MODEL_PARAMS)\n",
    "kwargs = { 'limit_score': limit_score, 'slide_step': slide_step, 'downscale_step': downscale_step }\n",
    "\n",
    "print(\"Training...\")\n",
    "train_results = models.train(clf, images, box_size, train_labels, **VECTORIZATION_PARAMS,\n",
    "                             only_one_training=only_one_training, **kwargs)\n",
    "\n",
    "print(\"Predicting with windows...\")\n",
    "valid_indexes = np.unique(valid_labels[:,0]) - 1\n",
    "predictions = models.predict(clf, images, box_size, **VECTORIZATION_PARAMS, only=valid_indexes, **kwargs)\n",
    "\n",
    "results = validation.rate_predictions(predictions, valid_labels)\n",
    "print(\"Done\")\n",
    "\n",
    "print(\"\\n------\\n\")\n",
    "if results not in store: store.append(results)\n",
    "pp(results)"
   ]
  },
  {
   "cell_type": "code",
   "execution_count": null,
   "metadata": {},
   "outputs": [
    {
     "name": "stdout",
     "output_type": "stream",
     "text": [
      "## Trying parameter `box_size`...\n",
      "### with value `(80, 60)`\n",
      "First training...\n"
     ]
    },
    {
     "name": "stderr",
     "output_type": "stream",
     "text": [
      "\n",
      "Predicting windows:   0%|                                                                                                                                           | 0/100 [00:00<?, ?it/s]\n",
      "Predicting windows:   5%|██████▌                                                                                                                            | 5/100 [00:00<00:08, 11.61it/s]\n",
      "Predicting windows:   7%|█████████▏                                                                                                                         | 7/100 [00:01<00:15,  5.94it/s]\n",
      "Predicting windows:   8%|██████████▍                                                                                                                        | 8/100 [00:01<00:33,  2.73it/s]\n",
      "Predicting windows:   9%|███████████▊                                                                                                                       | 9/100 [00:02<00:50,  1.81it/s]\n",
      "Predicting windows:  10%|█████████████                                                                                                                     | 10/100 [00:03<00:50,  1.80it/s]\n",
      "Predicting windows:  11%|██████████████▎                                                                                                                   | 11/100 [00:04<00:58,  1.52it/s]\n",
      "Predicting windows:  13%|████████████████▉                                                                                                                 | 13/100 [00:04<00:46,  1.88it/s]\n",
      "Predicting windows:  15%|███████████████████▌                                                                                                              | 15/100 [00:05<00:43,  1.95it/s]\n",
      "Predicting windows:  17%|██████████████████████                                                                                                            | 17/100 [00:06<00:43,  1.91it/s]\n",
      "Predicting windows:  23%|█████████████████████████████▉                                                                                                    | 23/100 [00:07<00:31,  2.46it/s]\n",
      "Predicting windows:  25%|████████████████████████████████▌                                                                                                 | 25/100 [00:08<00:26,  2.82it/s]\n",
      "Predicting windows:  26%|█████████████████████████████████▊                                                                                                | 26/100 [00:09<00:38,  1.91it/s]\n",
      "Predicting windows:  27%|███████████████████████████████████                                                                                               | 27/100 [00:09<00:45,  1.59it/s]\n",
      "Predicting windows:  34%|████████████████████████████████████████████▏                                                                                     | 34/100 [00:10<00:30,  2.15it/s]\n",
      "Predicting windows:  35%|█████████████████████████████████████████████▌                                                                                    | 35/100 [00:11<00:29,  2.17it/s]\n",
      "Predicting windows:  36%|██████████████████████████████████████████████▊                                                                                   | 36/100 [00:11<00:31,  2.02it/s]\n",
      "Predicting windows:  38%|█████████████████████████████████████████████████▍                                                                                | 38/100 [00:12<00:27,  2.26it/s]\n",
      "Predicting windows:  42%|██████████████████████████████████████████████████████▌                                                                           | 42/100 [00:12<00:21,  2.75it/s]\n",
      "Predicting windows:  46%|███████████████████████████████████████████████████████████▊                                                                      | 46/100 [00:13<00:15,  3.44it/s]\n",
      "Predicting windows:  47%|█████████████████████████████████████████████████████████████                                                                     | 47/100 [00:14<00:20,  2.60it/s]\n",
      "Predicting windows:  48%|██████████████████████████████████████████████████████████████▍                                                                   | 48/100 [00:14<00:19,  2.63it/s]\n",
      "Predicting windows:  50%|█████████████████████████████████████████████████████████████████                                                                 | 50/100 [00:15<00:18,  2.65it/s]\n",
      "Predicting windows:  51%|██████████████████████████████████████████████████████████████████▎                                                               | 51/100 [00:16<00:26,  1.85it/s]\n",
      "Predicting windows:  54%|██████████████████████████████████████████████████████████████████████▏                                                           | 54/100 [00:16<00:20,  2.27it/s]\n",
      "Predicting windows:  60%|██████████████████████████████████████████████████████████████████████████████                                                    | 60/100 [00:17<00:13,  2.88it/s]\n",
      "Predicting windows:  61%|███████████████████████████████████████████████████████████████████████████████▎                                                  | 61/100 [00:18<00:20,  1.90it/s]\n",
      "Predicting windows:  62%|████████████████████████████████████████████████████████████████████████████████▌                                                 | 62/100 [00:19<00:21,  1.74it/s]\n",
      "Predicting windows:  64%|███████████████████████████████████████████████████████████████████████████████████▏                                              | 64/100 [00:19<00:16,  2.21it/s]\n",
      "Predicting windows:  65%|████████████████████████████████████████████████████████████████████████████████████▌                                             | 65/100 [00:20<00:17,  2.05it/s]"
     ]
    }
   ],
   "source": [
    "# ( 2 ) --- Multiple --- Try multiple params\n",
    "clf_name = 'random_forest'\n",
    "global_params = {\n",
    "    # General\n",
    "    'box_size': (150, 60),\n",
    "\n",
    "    'n_estimators': 50,\n",
    "    'class_weight': { -1: 1, 1: 1.2},\n",
    "\n",
    "    'vectorization_params': {\n",
    "        'vectorize': descriptor_vector.hog,\n",
    "        'vectorize_args': [6],\n",
    "    },\n",
    "}\n",
    "\n",
    "kwargs = {\n",
    "    'limit_score': 0.5,\n",
    "    'slide_step': (60,50),\n",
    "    'downscale_step': 30,\n",
    "    'only_one_training': True,\n",
    "}\n",
    "\n",
    "changing_params = {\n",
    "    'box_size': [\n",
    "        (80, 60),\n",
    "        (90, 60),\n",
    "        (100, 60),\n",
    "        (110, 70),\n",
    "        (120, 70),\n",
    "        (130, 70),\n",
    "        (110, 80),\n",
    "        (120, 80),\n",
    "        (130, 80),\n",
    "        (120, 90),\n",
    "        (130, 90),\n",
    "        (140, 90),\n",
    "        (150, 90),\n",
    "        (150, 60),\n",
    "    ]\n",
    "}\n",
    "\n",
    "results = try_params(images, label_sets, clf_name, global_params, changing_params, **kwargs)\n",
    "print(\"\\n------\\n\")\n",
    "if results not in store: store.append(results)\n",
    "pp(results)"
   ]
  },
  {
   "cell_type": "code",
   "execution_count": null,
   "metadata": {},
   "outputs": [],
   "source": []
  }
 ],
 "metadata": {
  "kernelspec": {
   "display_name": "Python 3",
   "language": "python",
   "name": "python3"
  },
  "language_info": {
   "codemirror_mode": {
    "name": "ipython",
    "version": 3
   },
   "file_extension": ".py",
   "mimetype": "text/x-python",
   "name": "python",
   "nbconvert_exporter": "python",
   "pygments_lexer": "ipython3",
   "version": "3.7.0"
  }
 },
 "nbformat": 4,
 "nbformat_minor": 2
}
