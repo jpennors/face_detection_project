{
 "cells": [
  {
   "cell_type": "markdown",
   "metadata": {},
   "source": [
    "# Keep it simple s..."
   ]
  },
  {
   "cell_type": "markdown",
   "metadata": {},
   "source": [
    "## Imports"
   ]
  },
  {
   "cell_type": "code",
   "execution_count": 1,
   "metadata": {},
   "outputs": [],
   "source": [
    "%load_ext autoreload\n",
    "%autoreload 2\n",
    "\n",
    "from collections import Counter\n",
    "from modules.negative_set import generate_negative_set, get_box_parameters\n",
    "from modules import data, models, descriptor_vector, validation, selection\n",
    "from modules.selection import try_classifiers, try_params\n",
    "from modules.window import compute_no_windows\n",
    "import numpy as np\n",
    "from skimage.transform import resize\n",
    "from skimage.color import rgb2gray\n",
    "import pickle\n",
    "from pprint import pprint as pp"
   ]
  },
  {
   "cell_type": "code",
   "execution_count": 2,
   "metadata": {},
   "outputs": [],
   "source": [
    "# Store\n",
    "store = []"
   ]
  },
  {
   "cell_type": "code",
   "execution_count": 3,
   "metadata": {},
   "outputs": [],
   "source": [
    "# Load data directly\n",
    "GRAY = True\n",
    "OFFSET = 0\n",
    "LIMIT = None\n",
    "\n",
    "full_images = images = data.load_images(limit=LIMIT, offset=OFFSET, gray=GRAY)\n",
    "full_labels = labels = data.load_labels(limit=LIMIT, offset=OFFSET)\n",
    "print(f\"Using {len(images)}/1000 images & {len(labels)}/1284 labels\")"
   ]
  },
  {
   "cell_type": "code",
   "execution_count": 28,
   "metadata": {},
   "outputs": [],
   "source": [
    "# Limit if needed\n",
    "LIMIT = 200\n",
    "if LIMIT:\n",
    "   images = full_images[OFFSET:OFFSET+LIMIT]\n",
    "   labels = full_labels[full_labels[:,0] <= OFFSET+LIMIT]\n",
    "   labels = labels[labels[:,0] > OFFSET]\n",
    "else:\n",
    "   images = full_images\n",
    "   labels = full_labels\n",
    "#if GRAY:\n",
    "#    images = np.array([ rgb2gray(img) for img in images ])"
   ]
  },
  {
   "cell_type": "markdown",
   "metadata": {},
   "source": [
    "## Params"
   ]
  },
  {
   "cell_type": "code",
   "execution_count": 38,
   "metadata": {},
   "outputs": [],
   "source": [
    "# Global params\n",
    "only_one_training = False\n",
    "limit_score = 0.5\n",
    "slide_step = (60,50)\n",
    "downscale_step = 30\n",
    "box_size = (150, 90)\n",
    "\n",
    "# Model\n",
    "CLASSIFIER = 'random_forest'\n",
    "MODEL_PARAMS = {\n",
    "    'n_estimators': 100,\n",
    "#    'max_depth': None,\n",
    "#    'max_features': 100,\n",
    "    'class_weight': { -1: 1, 1: 1}\n",
    "}\n",
    "VECTORIZATION_PARAMS = {\n",
    "    'vectorize': descriptor_vector.daisy,\n",
    "#    'vectorize_kwargs': [6],\n",
    "} "
   ]
  },
  {
   "cell_type": "markdown",
   "metadata": {},
   "source": [
    "## Adapt data"
   ]
  },
  {
   "cell_type": "code",
   "execution_count": 32,
   "metadata": {},
   "outputs": [
    {
     "name": "stdout",
     "output_type": "stream",
     "text": [
      "Using 200/1000 images & 266/1284 labels\n",
      "Generating 600 negatives...\n",
      "Creating train & validation sets with negatives...\n",
      "Train: 150, Valid: 50\n",
      "Counter({-1: 443, 1: 210}) Counter({-1: 157, 1: 56})\n"
     ]
    }
   ],
   "source": [
    "# Label sets\n",
    "NEG_SIZE = 600\n",
    "TRAIN_RATE = 0.75\n",
    "\n",
    "print(f\"Using {len(images)}/1000 images & {len(labels)}/1284 labels\")\n",
    "print(f\"Generating {NEG_SIZE} negatives...\")\n",
    "negatives = generate_negative_set(images, labels, set_size=NEG_SIZE)\n",
    "\n",
    "print(\"Creating train & validation sets with negatives...\")\n",
    "all_labels = np.concatenate([labels, negatives])\n",
    "train_labels, valid_labels = label_sets = data.train_valid_sets(len(images), all_labels, TRAIN_RATE)\n",
    "print(f\"Train: {len(np.unique(train_labels[:,0]))}, Valid: {len(np.unique(valid_labels[:,0]))}\")\n",
    "print(Counter(train_labels[:,5]), Counter(valid_labels[:,5]))"
   ]
  },
  {
   "cell_type": "markdown",
   "metadata": {},
   "source": [
    "## Try"
   ]
  },
  {
   "cell_type": "markdown",
   "metadata": {},
   "source": [
    "### 1. Main Single"
   ]
  },
  {
   "cell_type": "code",
   "execution_count": 53,
   "metadata": {},
   "outputs": [
    {
     "name": "stdout",
     "output_type": "stream",
     "text": [
      "Training...\n",
      "Vectorizing data...\n",
      "First training with 653 rows...\n"
     ]
    },
    {
     "data": {
      "application/vnd.jupyter.widget-view+json": {
       "model_id": "aae2502cba6e4845a773b3b419b946b5",
       "version_major": 2,
       "version_minor": 0
      },
      "text/plain": [
       "HBox(children=(IntProgress(value=0, description='Predicting windows', max=200, style=ProgressStyle(description…"
      ]
     },
     "metadata": {},
     "output_type": "display_data"
    },
    {
     "name": "stdout",
     "output_type": "stream",
     "text": [
      "\n",
      "Adding 86 false positives / 202 predictions\n",
      "Vectorizing data...\n",
      "Second training with 739 rows...\n"
     ]
    }
   ],
   "source": [
    "# ( 1 ) --- Single --- Train, predict, validate\n",
    "clf = models.create_model(CLASSIFIER, MODEL_PARAMS)\n",
    "kwargs = { 'limit_score': limit_score, 'slide_step': slide_step, 'downscale_step': downscale_step }\n",
    "\n",
    "print(\"Training...\")\n",
    "train_results = models.train(clf, images, box_size, train_labels, **VECTORIZATION_PARAMS,\n",
    "                             only_one_training=only_one_training, **kwargs)"
   ]
  },
  {
   "cell_type": "code",
   "execution_count": 39,
   "metadata": {},
   "outputs": [],
   "source": [
    "print(\"Predicting with windows...\")\n",
    "valid_indexes = np.unique(valid_labels[:,0]) - 1\n",
    "predictions, scores = models.predict(clf, images, box_size, **VECTORIZATION_PARAMS,\n",
    "                                     only=valid_indexes, with_scores=True,**kwargs)\n",
    "\n",
    "results = validation.rate_predictions(predictions, valid_labels)\n",
    "print(\"Done\")\n",
    "\n",
    "print(\"\\n------\\n\")\n",
    "if results not in store: store.append(results)\n",
    "pp(results)"
   ]
  },
  {
   "cell_type": "code",
   "execution_count": 54,
   "metadata": {},
   "outputs": [
    {
     "name": "stdout",
     "output_type": "stream",
     "text": [
      "Predict with additional negatives...\n",
      "{'avg_precision': 0.8337286944298015,\n",
      " 'f1-score': 0.9019607843137255,\n",
      " 'precision': array([0.06888069, 1.        , 1.        ]),\n",
      " 'recall': array([1.        , 0.82142857, 0.        ]),\n",
      " 'roc_auc_score': 0.9107142857142857}\n"
     ]
    },
    {
     "data": {
      "image/png": "[encoded data removed]",
      "text/plain": [
       "<Figure size 432x288 with 1 Axes>"
      ]
     },
     "metadata": {
      "needs_background": "light"
     },
     "output_type": "display_data"
    }
   ],
   "source": [
    "NEG_SUP = 4000\n",
    "pvalid_labels = np.concatenate([ valid_labels, generate_negative_set(images, labels, set_size=NEG_SIZE) ])\n",
    "pvalid_indexes = np.unique(valid_labels[:,0]) - 1\n",
    "\n",
    "print(\"Predict with additional negatives...\")\n",
    "scores, results = models.predict_and_validate(clf, images, box_size, pvalid_labels,\n",
    "                                              **VECTORIZATION_PARAMS, only=pvalid_indexes,**kwargs)\n",
    "pp(results)"
   ]
  },
  {
   "cell_type": "markdown",
   "metadata": {},
   "source": [
    "-----\n",
    "-----\n",
    "-----"
   ]
  },
  {
   "cell_type": "code",
   "execution_count": 49,
   "metadata": {},
   "outputs": [
    {
     "name": "stdout",
     "output_type": "stream",
     "text": [
      "{'avg_precision': 0.8420523138832998, 'precision': array([0.2629108, 1.       , 1.       ]), 'recall': array([1.        , 0.78571429, 0.        ]), 'f1-score': 0.88, 'roc_auc_score': 0.8928571428571428}\n"
     ]
    },
    {
     "data": {
      "image/png": "[encoded data removed]",
      "text/plain": [
       "<Figure size 432x288 with 1 Axes>"
      ]
     },
     "metadata": {
      "needs_background": "light"
     },
     "output_type": "display_data"
    }
   ],
   "source": [
    "scores, results = models.predict_and_validate(clf, images, box_size, valid_labels,\n",
    "                                              **VECTORIZATION_PARAMS, only=valid_indexes,**kwargs)\n",
    "print(results)"
   ]
  },
  {
   "cell_type": "code",
   "execution_count": 45,
   "metadata": {},
   "outputs": [
    {
     "data": {
      "image/png": "[encoded data removed]",
      "text/plain": [
       "<Figure size 432x288 with 1 Axes>"
      ]
     },
     "metadata": {
      "needs_background": "light"
     },
     "output_type": "display_data"
    }
   ],
   "source": [
    "from modules.validation import pr_curve\n",
    "%matplotlib inline\n",
    "pr_curve(labels, predictions)"
   ]
  },
  {
   "cell_type": "code",
   "execution_count": 8,
   "metadata": {},
   "outputs": [],
   "source": [
    "# ( 4 ) --- Haar features optimized\n",
    "int_images = descriptor_vector.compute_integral_images(images)\n"
   ]
  },
  {
   "cell_type": "code",
   "execution_count": 25,
   "metadata": {},
   "outputs": [
    {
     "name": "stdout",
     "output_type": "stream",
     "text": [
      "8743\n",
      "67280\n"
     ]
    }
   ],
   "source": [
    "from skimage.feature import haar_like_feature, haar_like_feature_coord\n",
    "slide_step = (10, 10)\n",
    "box_size = (30, 30)\n",
    "feature_type = 'type-3-x'\n",
    "\n",
    "iimg = int_images[0]\n",
    "h, l = iimg.shape[:2]\n",
    "\n",
    "ft_coord, ft_type = haar_like_feature_coord(*box_size[::-1], feature_type=feature_type)\n",
    "ft_rate = 0.7\n",
    "n_features = int(ft_coord.shape[0] * ft_rate)\n",
    "\n",
    "print(compute_no_windows(iimg, box_size, slide_step, downscale_step))\n",
    "print(ft_coord.shape[0])"
   ]
  },
  {
   "cell_type": "code",
   "execution_count": 20,
   "metadata": {},
   "outputs": [
    {
     "name": "stdout",
     "output_type": "stream",
     "text": [
      "(42, 67280)\n",
      "[[-4.76427451e-01 -9.58526275e-01 -1.40833608e+00 ... -1.14430980e-01\n",
      "  -1.02941176e-01 -1.04347843e-01]\n",
      " [-5.26036745e+00 -5.65385373e+00 -5.88058431e+00 ... -9.26435294e-02\n",
      "  -9.65650980e-02 -9.26435294e-02]\n",
      " [-8.54944745e+00 -8.72380314e+00 -8.85191059e+00 ... -9.65650980e-02\n",
      "  -9.34541176e-02 -9.65650980e-02]\n",
      " ...\n",
      " [-1.46704142e+02 -1.47185064e+02 -1.47689516e+02 ... -5.48482745e-01\n",
      "  -5.41747843e-01 -5.37826275e-01]\n",
      " [-1.51608354e+02 -1.52125441e+02 -1.52634685e+02 ... -5.26061569e-01\n",
      "  -5.26061569e-01 -5.26061569e-01]\n",
      " [-1.56751777e+02 -1.57288473e+02 -1.57823592e+02 ... -5.17087451e-01\n",
      "  -5.17087451e-01 -5.17087451e-01]]\n"
     ]
    }
   ],
   "source": [
    "def compute_haar(iimg, ft_set, box_size, slide_step, downscale_step):\n",
    "    assert all([ len(x) == 2 for x in (ft_set, slide_step, box_size)])\n",
    "    ft_coord, ft_type = ft_set\n",
    "    slide_h, slide_l = slide_step\n",
    "    box_h, box_l = box_size\n",
    "    \n",
    "    n_windows = compute_no_windows(iimg, box_size, slide_step, downscale_step)\n",
    "    n_features = ft_coord.shape[0]\n",
    "\n",
    "    features = np.empty((, n_features))\n",
    "    for x in range(0, h - box_h, slide_h):\n",
    "        for y in range(0, l - box_l, slide_l):\n",
    "            ft = haar_like_feature(iimg, x, y, *box_size[::-1], feature_type=ft_type, feature_coord=ft_coord)\n",
    "            r.append(ft)\n",
    "        break\n",
    "\n",
    "    return features"
   ]
  },
  {
   "cell_type": "code",
   "execution_count": null,
   "metadata": {},
   "outputs": [],
   "source": []
  },
  {
   "cell_type": "code",
   "execution_count": null,
   "metadata": {},
   "outputs": [],
   "source": []
  },
  {
   "cell_type": "code",
   "execution_count": null,
   "metadata": {},
   "outputs": [],
   "source": []
  },
  {
   "cell_type": "code",
   "execution_count": 34,
   "metadata": {},
   "outputs": [
    {
     "name": "stdout",
     "output_type": "stream",
     "text": [
      "Training...\n",
      "First training...\n"
     ]
    },
    {
     "name": "stderr",
     "output_type": "stream",
     "text": [
      "Predicting windows: 100%|█████████████████████████████████████████████████████████████████████████████████████████████████████████████████████████████████| 100/100 [00:53<00:00,  2.21it/s]\n"
     ]
    },
    {
     "name": "stdout",
     "output_type": "stream",
     "text": [
      "Adding 10 false positives / 61 predictions\n",
      "Second training...\n"
     ]
    }
   ],
   "source": [
    "# ( 1bis ) --- Single --- Train, predict, validate\n",
    "clf = models.create_model(CLASSIFIER, MODEL_PARAMS)\n",
    "kwargs = { 'limit_score': limit_score, 'slide_step': slide_step, 'downscale_step': downscale_step }\n",
    "\n",
    "print(\"Training...\")\n",
    "train_results = models.train(clf, images, box_size, train_labels, **VECTORIZATION_PARAMS,\n",
    "                             only_one_training=only_one_training, **kwargs)"
   ]
  },
  {
   "cell_type": "code",
   "execution_count": null,
   "metadata": {},
   "outputs": [],
   "source": [
    "coordinates, windows = sliding_windows(img, box_size, slide_step, downscale_step)\n",
    "print(coordinates.shape)\n",
    "print(windows.shape)\n",
    "print(descriptor_vector.hog(windows).shape)"
   ]
  },
  {
   "cell_type": "code",
   "execution_count": 167,
   "metadata": {},
   "outputs": [
    {
     "name": "stdout",
     "output_type": "stream",
     "text": [
      "10.0 10.99406528189911\n",
      "11 10 False\n",
      "b (150, 90) s 30\n",
      "(450, 337)\n",
      "(420, 314)\n",
      "(390, 292)\n",
      "(360, 269)\n",
      "(330, 247)\n",
      "(300, 224)\n",
      "(270, 202)\n",
      "(240, 179)\n",
      "(210, 157)\n",
      "(180, 134)\n"
     ]
    }
   ],
   "source": [
    "img = images[49]\n",
    "h, l = img.shape[:2]\n",
    "r = h / l\n",
    "s = downscale_step\n",
    "box_h, box_l = box_size\n",
    "gen = list(downscale_image(img, step=downscale_step, min_height=box_h, min_width=box_l))\n",
    "\n",
    "n_scaled_img = 1 + int(min(\n",
    "    ((h - box_h) / downscale_step),\n",
    "    ((l - box_l) / (downscale_step/r)),\n",
    "))\n",
    "\n",
    "print(\n",
    "    ((h - box_h) / downscale_step),\n",
    "    ((l - box_l) / (downscale_step/r)),\n",
    ")\n",
    "\n",
    "print(n_scaled_img, len(gen), n_scaled_img == len(gen))\n",
    "print(\"b\", box_size, \"s\", downscale_step)\n",
    "for i in gen:\n",
    "    print(i.shape[:2])"
   ]
  },
  {
   "cell_type": "code",
   "execution_count": 189,
   "metadata": {},
   "outputs": [
    {
     "name": "stdout",
     "output_type": "stream",
     "text": [
      "(5, 6)\n",
      "(5, 5)\n",
      "(4, 5)\n",
      "(4, 4)\n",
      "(3, 4)\n",
      "(3, 3)\n",
      "(2, 3)\n",
      "(2, 2)\n",
      "(1, 2)\n",
      "(1, 2)\n",
      "10\n",
      "9\n",
      "126 126 True\n"
     ]
    }
   ],
   "source": [
    "from modules.window import compute_no_windows\n",
    "from random import randrange\n",
    "i = randrange(len(full_images))\n",
    "img = full_images[i]\n",
    "\n",
    "n1 = compute_no_windows(img, box_size, slide_step, downscale_step)\n",
    "n2 = sliding_windows(img, box_size, slide_step, downscale_step)\n",
    "print(n1, n2, n1 == n2)"
   ]
  },
  {
   "cell_type": "code",
   "execution_count": null,
   "metadata": {},
   "outputs": [],
   "source": [
    "from skimage.io import imshow_collection\n",
    "imgs = []\n",
    "for falpos in train_results:\n",
    "    img_id = falpos[0]\n",
    "    x,y,h,l = falpos[1:5]\n",
    "    img = images[img_id-1]\n",
    "    imgs.append(img[x:x+h,y:y+l])\n",
    "imshow_collection(imgs)"
   ]
  },
  {
   "cell_type": "code",
   "execution_count": 73,
   "metadata": {},
   "outputs": [
    {
     "name": "stdout",
     "output_type": "stream",
     "text": [
      "## Trying parameter `vectorization_params`...\n",
      "### with value `{'vectorize': <function haar at 0x000001370D3FAD90>}`\n",
      "Vectorizing data...\n"
     ]
    },
    {
     "ename": "ValueError",
     "evalue": "not enough values to unpack (expected 2, got 0)",
     "output_type": "error",
     "traceback": [
      "\u001b[1;31m---------------------------------------------------------------------------\u001b[0m",
      "\u001b[1;31mValueError\u001b[0m                                Traceback (most recent call last)",
      "\u001b[1;32m<ipython-input-73-a8416d86420f>\u001b[0m in \u001b[0;36m<module>\u001b[1;34m\u001b[0m\n\u001b[0;32m     29\u001b[0m }\n\u001b[0;32m     30\u001b[0m \u001b[1;33m\u001b[0m\u001b[0m\n\u001b[1;32m---> 31\u001b[1;33m \u001b[0mresults\u001b[0m \u001b[1;33m=\u001b[0m \u001b[0mtry_params\u001b[0m\u001b[1;33m(\u001b[0m\u001b[0mimages\u001b[0m\u001b[1;33m,\u001b[0m \u001b[0mlabel_sets\u001b[0m\u001b[1;33m,\u001b[0m \u001b[0mclf_name\u001b[0m\u001b[1;33m,\u001b[0m \u001b[0mglobal_params\u001b[0m\u001b[1;33m,\u001b[0m \u001b[0mchanging_params\u001b[0m\u001b[1;33m,\u001b[0m \u001b[1;33m**\u001b[0m\u001b[0mkwargs\u001b[0m\u001b[1;33m)\u001b[0m\u001b[1;33m\u001b[0m\u001b[0m\n\u001b[0m\u001b[0;32m     32\u001b[0m \u001b[0mprint\u001b[0m\u001b[1;33m(\u001b[0m\u001b[1;34m\"\\n------\\n\"\u001b[0m\u001b[1;33m)\u001b[0m\u001b[1;33m\u001b[0m\u001b[0m\n\u001b[0;32m     33\u001b[0m \u001b[1;32mif\u001b[0m \u001b[0mresults\u001b[0m \u001b[1;32mnot\u001b[0m \u001b[1;32min\u001b[0m \u001b[0mstore\u001b[0m\u001b[1;33m:\u001b[0m \u001b[0mstore\u001b[0m\u001b[1;33m.\u001b[0m\u001b[0mappend\u001b[0m\u001b[1;33m(\u001b[0m\u001b[0mresults\u001b[0m\u001b[1;33m)\u001b[0m\u001b[1;33m\u001b[0m\u001b[0m\n",
      "\u001b[1;32mD:\\Documents\\Cours\\GI04 - Printemps 2019\\SY32\\face_detection_project\\modules\\selection.py\u001b[0m in \u001b[0;36mtry_params\u001b[1;34m(images, label_sets, clf_name, global_params, changing_params, **kwargs)\u001b[0m\n\u001b[0;32m     63\u001b[0m                         \u001b[1;31m# Build and train classifier\u001b[0m\u001b[1;33m\u001b[0m\u001b[1;33m\u001b[0m\u001b[0m\n\u001b[0;32m     64\u001b[0m                         \u001b[0mclf\u001b[0m \u001b[1;33m=\u001b[0m \u001b[0mmodels\u001b[0m\u001b[1;33m.\u001b[0m\u001b[0mcreate_model\u001b[0m\u001b[1;33m(\u001b[0m\u001b[0mclf_name\u001b[0m\u001b[1;33m,\u001b[0m \u001b[0mmodel_params\u001b[0m\u001b[1;33m)\u001b[0m\u001b[1;33m\u001b[0m\u001b[0m\n\u001b[1;32m---> 65\u001b[1;33m                         \u001b[0mmodels\u001b[0m\u001b[1;33m.\u001b[0m\u001b[0mtrain\u001b[0m\u001b[1;33m(\u001b[0m\u001b[0mclf\u001b[0m\u001b[1;33m,\u001b[0m \u001b[0mimages\u001b[0m\u001b[1;33m,\u001b[0m \u001b[0mbox_size\u001b[0m\u001b[1;33m,\u001b[0m \u001b[0mtrain_labels\u001b[0m\u001b[1;33m,\u001b[0m \u001b[1;33m**\u001b[0m\u001b[0mvectorization_params\u001b[0m\u001b[1;33m,\u001b[0m \u001b[1;33m**\u001b[0m\u001b[0mkw_params\u001b[0m\u001b[1;33m,\u001b[0m \u001b[0mwindows_sets\u001b[0m\u001b[1;33m=\u001b[0m\u001b[0mwindows_sets\u001b[0m\u001b[1;33m)\u001b[0m\u001b[1;33m\u001b[0m\u001b[0m\n\u001b[0m\u001b[0;32m     66\u001b[0m \u001b[1;33m\u001b[0m\u001b[0m\n\u001b[0;32m     67\u001b[0m                         \u001b[1;31m# Predict and validate validation set\u001b[0m\u001b[1;33m\u001b[0m\u001b[1;33m\u001b[0m\u001b[0m\n",
      "\u001b[1;32mD:\\Documents\\Cours\\GI04 - Printemps 2019\\SY32\\face_detection_project\\modules\\models.py\u001b[0m in \u001b[0;36mtrain\u001b[1;34m(clf, images, box_size, labels, vectorize, negatives, **kwargs)\u001b[0m\n\u001b[0;32m    103\u001b[0m \u001b[1;33m\u001b[0m\u001b[0m\n\u001b[0;32m    104\u001b[0m         \u001b[1;31m# Get the training set\u001b[0m\u001b[1;33m\u001b[0m\u001b[1;33m\u001b[0m\u001b[0m\n\u001b[1;32m--> 105\u001b[1;33m         \u001b[0mX\u001b[0m \u001b[1;33m=\u001b[0m \u001b[0mvectorize\u001b[0m\u001b[1;33m(\u001b[0m\u001b[0mboxes\u001b[0m\u001b[1;33m,\u001b[0m \u001b[1;33m**\u001b[0m\u001b[0mkwargs\u001b[0m\u001b[1;33m.\u001b[0m\u001b[0mget\u001b[0m\u001b[1;33m(\u001b[0m\u001b[1;34m'vectorize_kwargs'\u001b[0m\u001b[1;33m,\u001b[0m \u001b[1;33m{\u001b[0m\u001b[1;33m}\u001b[0m\u001b[1;33m)\u001b[0m\u001b[1;33m)\u001b[0m\u001b[1;33m\u001b[0m\u001b[0m\n\u001b[0m\u001b[0;32m    106\u001b[0m         \u001b[0my\u001b[0m \u001b[1;33m=\u001b[0m \u001b[0mlabels\u001b[0m\u001b[1;33m[\u001b[0m\u001b[1;33m:\u001b[0m\u001b[1;33m,\u001b[0m\u001b[1;36m5\u001b[0m\u001b[1;33m]\u001b[0m\u001b[1;33m\u001b[0m\u001b[0m\n\u001b[0;32m    107\u001b[0m \u001b[1;33m\u001b[0m\u001b[0m\n",
      "\u001b[1;32mD:\\Documents\\Cours\\GI04 - Printemps 2019\\SY32\\face_detection_project\\modules\\descriptor_vector.py\u001b[0m in \u001b[0;36mhaar\u001b[1;34m(images, **kwargs)\u001b[0m\n\u001b[0;32m     41\u001b[0m                 \u001b[1;34m'feature_coord'\u001b[0m\u001b[1;33m:\u001b[0m \u001b[0mkwargs\u001b[0m\u001b[1;33m.\u001b[0m\u001b[0mpop\u001b[0m\u001b[1;33m(\u001b[0m\u001b[1;34m'feature_coord'\u001b[0m\u001b[1;33m,\u001b[0m \u001b[0mDEFAULT_HAAR_FEATURE_SET\u001b[0m\u001b[1;33m[\u001b[0m\u001b[1;36m1\u001b[0m\u001b[1;33m]\u001b[0m\u001b[1;33m)\u001b[0m\u001b[1;33m,\u001b[0m\u001b[1;33m\u001b[0m\u001b[0m\n\u001b[0;32m     42\u001b[0m \t}\n\u001b[1;32m---> 43\u001b[1;33m         \u001b[0mfirst_feat\u001b[0m \u001b[1;33m=\u001b[0m \u001b[0mcompute_haar\u001b[0m\u001b[1;33m(\u001b[0m\u001b[0mintegral_image\u001b[0m\u001b[1;33m(\u001b[0m\u001b[0mcompress_image\u001b[0m\u001b[1;33m(\u001b[0m\u001b[0mimages\u001b[0m\u001b[1;33m[\u001b[0m\u001b[1;36m0\u001b[0m\u001b[1;33m]\u001b[0m\u001b[1;33m,\u001b[0m \u001b[0msample_size\u001b[0m\u001b[1;33m)\u001b[0m\u001b[1;33m)\u001b[0m\u001b[1;33m,\u001b[0m \u001b[1;33m**\u001b[0m\u001b[0mparams\u001b[0m\u001b[1;33m)\u001b[0m\u001b[1;33m\u001b[0m\u001b[0m\n\u001b[0m\u001b[0;32m     44\u001b[0m         \u001b[0mresults\u001b[0m \u001b[1;33m=\u001b[0m \u001b[0mnp\u001b[0m\u001b[1;33m.\u001b[0m\u001b[0marray\u001b[0m\u001b[1;33m(\u001b[0m\u001b[1;33m(\u001b[0m\u001b[0mlen\u001b[0m\u001b[1;33m(\u001b[0m\u001b[0mimages\u001b[0m\u001b[1;33m)\u001b[0m\u001b[1;33m)\u001b[0m\u001b[1;33m,\u001b[0m \u001b[0mn_features\u001b[0m\u001b[1;33m)\u001b[0m\u001b[1;33m\u001b[0m\u001b[0m\n\u001b[0;32m     45\u001b[0m         \u001b[1;32mfor\u001b[0m \u001b[0mi\u001b[0m\u001b[1;33m,\u001b[0m \u001b[0mimg\u001b[0m \u001b[1;32min\u001b[0m \u001b[0mimages\u001b[0m\u001b[1;33m:\u001b[0m\u001b[1;33m\u001b[0m\u001b[0m\n",
      "\u001b[1;32mD:\\Documents\\Cours\\GI04 - Printemps 2019\\SY32\\face_detection_project\\modules\\descriptor_vector.py\u001b[0m in \u001b[0;36mcompute_haar\u001b[1;34m(int_img, **kwargs)\u001b[0m\n\u001b[0;32m     51\u001b[0m \u001b[1;33m\u001b[0m\u001b[0m\n\u001b[0;32m     52\u001b[0m \u001b[1;32mdef\u001b[0m \u001b[0mcompute_haar\u001b[0m\u001b[1;33m(\u001b[0m\u001b[0mint_img\u001b[0m\u001b[1;33m,\u001b[0m \u001b[1;33m**\u001b[0m\u001b[0mkwargs\u001b[0m\u001b[1;33m)\u001b[0m\u001b[1;33m:\u001b[0m\u001b[1;33m\u001b[0m\u001b[0m\n\u001b[1;32m---> 53\u001b[1;33m         \u001b[1;32mreturn\u001b[0m \u001b[0mfeature\u001b[0m\u001b[1;33m.\u001b[0m\u001b[0mhaar_like_feature\u001b[0m\u001b[1;33m(\u001b[0m\u001b[0mint_img\u001b[0m\u001b[1;33m,\u001b[0m \u001b[1;36m0\u001b[0m\u001b[1;33m,\u001b[0m \u001b[1;36m0\u001b[0m\u001b[1;33m,\u001b[0m \u001b[1;33m*\u001b[0m\u001b[0mint_img\u001b[0m\u001b[1;33m.\u001b[0m\u001b[0mshape\u001b[0m\u001b[1;33m[\u001b[0m\u001b[1;33m:\u001b[0m\u001b[1;33m:\u001b[0m\u001b[1;33m-\u001b[0m\u001b[1;36m1\u001b[0m\u001b[1;33m]\u001b[0m\u001b[1;33m,\u001b[0m \u001b[1;33m**\u001b[0m\u001b[0mkwargs\u001b[0m\u001b[1;33m)\u001b[0m\u001b[1;33m\u001b[0m\u001b[0m\n\u001b[0m\u001b[0;32m     54\u001b[0m \u001b[1;33m\u001b[0m\u001b[0m\n\u001b[0;32m     55\u001b[0m \u001b[1;32mdef\u001b[0m \u001b[0mdaisy\u001b[0m\u001b[1;33m(\u001b[0m\u001b[0mimages\u001b[0m\u001b[1;33m,\u001b[0m \u001b[1;33m**\u001b[0m\u001b[0mkwargs\u001b[0m\u001b[1;33m)\u001b[0m\u001b[1;33m:\u001b[0m\u001b[1;33m\u001b[0m\u001b[0m\n",
      "\u001b[1;32m~\\Miniconda3\\lib\\site-packages\\skimage\\feature\\haar.py\u001b[0m in \u001b[0;36mhaar_like_feature\u001b[1;34m(int_image, r, c, width, height, feature_type, feature_coord)\u001b[0m\n\u001b[0;32m    212\u001b[0m                haar_like_feature_wrapper(int_image, r, c, width, height,\n\u001b[0;32m    213\u001b[0m                                          feat_t, feature_coord[mask]))\n\u001b[1;32m--> 214\u001b[1;33m               \u001b[1;32mfor\u001b[0m \u001b[0mmask\u001b[0m\u001b[1;33m,\u001b[0m \u001b[0mfeat_t\u001b[0m \u001b[1;32min\u001b[0m \u001b[0mzip\u001b[0m\u001b[1;33m(\u001b[0m\u001b[0mmask_feature\u001b[0m\u001b[1;33m,\u001b[0m \u001b[0mFEATURE_TYPE\u001b[0m\u001b[1;33m)\u001b[0m\u001b[1;33m\u001b[0m\u001b[0m\n\u001b[0m\u001b[0;32m    215\u001b[0m               if np.count_nonzero(mask)])\n\u001b[0;32m    216\u001b[0m \u001b[1;33m\u001b[0m\u001b[0m\n",
      "\u001b[1;31mValueError\u001b[0m: not enough values to unpack (expected 2, got 0)"
     ]
    }
   ],
   "source": [
    "# ( 2 ) --- Multiple --- Try multiple params\n",
    "clf_name = 'random_forest'\n",
    "global_params = {\n",
    "    # General\n",
    "    'box_size': (150, 90),\n",
    "\n",
    "    'n_estimators': 50,\n",
    "    'class_weight': { -1: 1, 1: 1},\n",
    "\n",
    "    'vectorization_params': {\n",
    "        'vectorize': descriptor_vector.hog,\n",
    "#        'vectorize_kwargs': { 'orientations': 6},\n",
    "    },\n",
    "}\n",
    "\n",
    "kwargs = {\n",
    "    'limit_score': 0.5,\n",
    "    'slide_step': (60,50),\n",
    "    'downscale_step': 30,\n",
    "    'only_one_training': True,\n",
    "}\n",
    "\n",
    "changing_params = {\n",
    "    'vectorization_params': [\n",
    "#        { 'vectorize': descriptor_vector.haar, },\n",
    "        { 'vectorize': descriptor_vector.hog, },\n",
    "        { 'vectorize': descriptor_vector.daisy, },\n",
    "    ]\n",
    "}\n",
    "\n",
    "results = try_params(images, label_sets, clf_name, global_params, changing_params, **kwargs)\n",
    "print(\"\\n------\\n\")\n",
    "if results not in store: store.append(results)\n",
    "pp(results)"
   ]
  },
  {
   "cell_type": "code",
   "execution_count": null,
   "metadata": {},
   "outputs": [],
   "source": []
  }
 ],
 "metadata": {
  "kernelspec": {
   "display_name": "Python 3",
   "language": "python",
   "name": "python3"
  },
  "language_info": {
   "codemirror_mode": {
    "name": "ipython",
    "version": 3
   },
   "file_extension": ".py",
   "mimetype": "text/x-python",
   "name": "python",
   "nbconvert_exporter": "python",
   "pygments_lexer": "ipython3",
   "version": "3.7.0"
  }
 },
 "nbformat": 4,
 "nbformat_minor": 2
}
