{
 "cells": [
  {
   "cell_type": "markdown",
   "metadata": {},
   "source": [
    "# Keep it simple s..."
   ]
  },
  {
   "cell_type": "markdown",
   "metadata": {},
   "source": [
    "## Imports"
   ]
  },
  {
   "cell_type": "code",
   "execution_count": 1,
   "metadata": {},
   "outputs": [],
   "source": [
    "%load_ext autoreload\n",
    "%autoreload 2\n",
    "\n",
    "from collections import Counter\n",
    "from modules.negative_set import generate_negative_set, get_box_parameters\n",
    "from modules import data, models, descriptor_vector, validation, selection\n",
    "from modules.selection import try_classifiers, try_params\n",
    "from modules.window import compute_no_windows\n",
    "import numpy as np\n",
    "from skimage.transform import resize\n",
    "from skimage.color import rgb2gray\n",
    "import pickle\n",
    "from pprint import pprint as pp"
   ]
  },
  {
   "cell_type": "code",
   "execution_count": 2,
   "metadata": {},
   "outputs": [],
   "source": [
    "# Store\n",
    "store = []"
   ]
  },
  {
   "cell_type": "code",
   "execution_count": 3,
   "metadata": {},
   "outputs": [],
   "source": [
    "# Load data directly\n",
    "GRAY = True\n",
    "OFFSET = 0\n",
    "LIMIT = None\n",
    "\n",
    "full_images = images = data.load_images(limit=LIMIT, offset=OFFSET, gray=GRAY)\n",
    "full_labels = labels = data.load_labels(limit=LIMIT, offset=OFFSET)\n",
    "print(f\"Using {len(images)}/1000 images & {len(labels)}/1284 labels\")"
   ]
  },
  {
   "cell_type": "code",
   "execution_count": 28,
   "metadata": {},
   "outputs": [],
   "source": [
    "# Limit if needed\n",
    "LIMIT = 200\n",
    "if LIMIT:\n",
    "   images = full_images[OFFSET:OFFSET+LIMIT]\n",
    "   labels = full_labels[full_labels[:,0] <= OFFSET+LIMIT]\n",
    "   labels = labels[labels[:,0] > OFFSET]\n",
    "else:\n",
    "   images = full_images\n",
    "   labels = full_labels\n",
    "#if GRAY:\n",
    "#    images = np.array([ rgb2gray(img) for img in images ])"
   ]
  },
  {
   "cell_type": "markdown",
   "metadata": {},
   "source": [
    "## Params"
   ]
  },
  {
   "cell_type": "code",
   "execution_count": 38,
   "metadata": {},
   "outputs": [],
   "source": [
    "# Global params\n",
    "only_one_training = False\n",
    "limit_score = 0.5\n",
    "slide_step = (60,50)\n",
    "downscale_step = 30\n",
    "box_size = (150, 90)\n",
    "\n",
    "# Model\n",
    "CLASSIFIER = 'random_forest'\n",
    "MODEL_PARAMS = {\n",
    "    'n_estimators': 100,\n",
    "#    'max_depth': None,\n",
    "#    'max_features': 100,\n",
    "    'class_weight': { -1: 1, 1: 1}\n",
    "}\n",
    "VECTORIZATION_PARAMS = {\n",
    "    'vectorize': descriptor_vector.hog,\n",
    "#    'vectorize_kwargs': [6],\n",
    "} "
   ]
  },
  {
   "cell_type": "markdown",
   "metadata": {},
   "source": [
    "## Adapt data"
   ]
  },
  {
   "cell_type": "code",
   "execution_count": 32,
   "metadata": {},
   "outputs": [
    {
     "name": "stdout",
     "output_type": "stream",
     "text": [
      "Using 200/1000 images & 266/1284 labels\n",
      "Generating 600 negatives...\n",
      "Creating train & validation sets with negatives...\n",
      "Train: 150, Valid: 50\n",
      "Counter({-1: 443, 1: 210}) Counter({-1: 157, 1: 56})\n"
     ]
    }
   ],
   "source": [
    "# Label sets\n",
    "NEG_SIZE = 600\n",
    "TRAIN_RATE = 0.75\n",
    "\n",
    "print(f\"Using {len(images)}/1000 images & {len(labels)}/1284 labels\")\n",
    "print(f\"Generating {NEG_SIZE} negatives...\")\n",
    "negatives = generate_negative_set(images, labels, set_size=NEG_SIZE)\n",
    "\n",
    "print(\"Creating train & validation sets with negatives...\")\n",
    "all_labels = np.concatenate([labels, negatives])\n",
    "train_labels, valid_labels = label_sets = data.train_valid_sets(len(images), all_labels, TRAIN_RATE)\n",
    "print(f\"Train: {len(np.unique(train_labels[:,0]))}, Valid: {len(np.unique(valid_labels[:,0]))}\")\n",
    "print(Counter(train_labels[:,5]), Counter(valid_labels[:,5]))"
   ]
  },
  {
   "cell_type": "markdown",
   "metadata": {},
   "source": [
    "## Try"
   ]
  },
  {
   "cell_type": "markdown",
   "metadata": {},
   "source": [
    "### 1. Main Single"
   ]
  },
  {
   "cell_type": "code",
   "execution_count": 39,
   "metadata": {},
   "outputs": [],
   "source": [
    "# ( 1 ) --- Single --- Train, predict, validate\n",
    "clf = models.create_model(CLASSIFIER, MODEL_PARAMS)\n",
    "kwargs = { 'limit_score': limit_score, 'slide_step': slide_step, 'downscale_step': downscale_step }\n",
    "\n",
    "print(\"Training...\")\n",
    "train_results = models.train(clf, images, box_size, train_labels, **VECTORIZATION_PARAMS,\n",
    "                             only_one_training=only_one_training, **kwargs)"
   ]
  },
  {
   "cell_type": "code",
   "execution_count": 39,
   "metadata": {},
   "outputs": [],
   "source": [
    "print(\"Predicting with windows...\")\n",
    "valid_indexes = np.unique(valid_labels[:,0]) - 1\n",
    "predictions, scores = models.predict(clf, images, box_size, **VECTORIZATION_PARAMS,\n",
    "                                     only=valid_indexes, with_scores=True,**kwargs)\n",
    "\n",
    "results = validation.rate_predictions(predictions, valid_labels)\n",
    "print(\"Done\")\n",
    "\n",
    "print(\"\\n------\\n\")\n",
    "if results not in store: store.append(results)\n",
    "pp(results)"
   ]
  },
  {
   "cell_type": "code",
   "execution_count": 52,
   "metadata": {},
   "outputs": [
    {
     "name": "stdout",
     "output_type": "stream",
     "text": [
      "Predict with additional negatives...\n",
      "{'avg_precision': 0.7830141158554442,\n",
      " 'f1-score': 0.8712871287128713,\n",
      " 'precision': array([0.06888069, 0.97777778, 1.        ]),\n",
      " 'recall': array([1.        , 0.78571429, 0.        ]),\n",
      " 'roc_auc_score': 0.8921966408756368}\n"
     ]
    },
    {
     "data": {
      "image/png": "[encoded data removed]",
      "text/plain": [
       "<Figure size 432x288 with 1 Axes>"
      ]
     },
     "metadata": {
      "needs_background": "light"
     },
     "output_type": "display_data"
    }
   ],
   "source": [
    "NEG_SUP = 4000\n",
    "pvalid_labels = np.concatenate([ valid_labels, generate_negative_set(images, labels, set_size=NEG_SIZE) ])\n",
    "pvalid_indexes = np.unique(valid_labels[:,0]) - 1\n",
    "\n",
    "print(\"Predict with additional negatives...\")\n",
    "scores, results = models.predict_and_validate(clf, images, box_size, pvalid_labels,\n",
    "                                              **VECTORIZATION_PARAMS, only=pvalid_indexes,**kwargs)\n",
    "pp(results)"
   ]
  },
  {
   "cell_type": "markdown",
   "metadata": {},
   "source": [
    "-----\n",
    "-----\n",
    "-----"
   ]
  },
  {
   "cell_type": "code",
   "execution_count": 49,
   "metadata": {},
   "outputs": [
    {
     "name": "stdout",
     "output_type": "stream",
     "text": [
      "{'avg_precision': 0.8420523138832998, 'precision': array([0.2629108, 1.       , 1.       ]), 'recall': array([1.        , 0.78571429, 0.        ]), 'f1-score': 0.88, 'roc_auc_score': 0.8928571428571428}\n"
     ]
    },
    {
     "data": {
      "image/png": "[encoded data removed]",
      "text/plain": [
       "<Figure size 432x288 with 1 Axes>"
      ]
     },
     "metadata": {
      "needs_background": "light"
     },
     "output_type": "display_data"
    }
   ],
   "source": [
    "scores, results = models.predict_and_validate(clf, images, box_size, valid_labels,\n",
    "                                              **VECTORIZATION_PARAMS, only=valid_indexes,**kwargs)\n",
    "print(results)"
   ]
  },
  {
   "cell_type": "code",
   "execution_count": 45,
   "metadata": {},
   "outputs": [
    {
     "data": {
      "image/png": "[encoded data removed]",
      "text/plain": [
       "<Figure size 432x288 with 1 Axes>"
      ]
     },
     "metadata": {
      "needs_background": "light"
     },
     "output_type": "display_data"
    }
   ],
   "source": [
    "from modules.validation import pr_curve\n",
    "%matplotlib inline\n",
    "pr_curve(labels, predictions)"
   ]
  },
  {
   "cell_type": "code",
   "execution_count": 8,
   "metadata": {},
   "outputs": [],
   "source": [
    "# ( 4 ) --- Haar features optimized\n",
    "int_images = descriptor_vector.compute_integral_images(images)\n"
   ]
  },
  {
   "cell_type": "code",
   "execution_count": 25,
   "metadata": {},
   "outputs": [
    {
     "name": "stdout",
     "output_type": "stream",
     "text": [
      "8743\n",
      "67280\n"
     ]
    }
   ],
   "source": [
    "from skimage.feature import haar_like_feature, haar_like_feature_coord\n",
    "slide_step = (10, 10)\n",
    "box_size = (30, 30)\n",
    "feature_type = 'type-3-x'\n",
    "\n",
    "iimg = int_images[0]\n",
    "h, l = iimg.shape[:2]\n",
    "\n",
    "ft_coord, ft_type = haar_like_feature_coord(*box_size[::-1], feature_type=feature_type)\n",
    "ft_rate = 0.7\n",
    "n_features = int(ft_coord.shape[0] * ft_rate)\n",
    "\n",
    "print(compute_no_windows(iimg, box_size, slide_step, downscale_step))\n",
    "print(ft_coord.shape[0])"
   ]
  },
  {
   "cell_type": "code",
   "execution_count": 20,
   "metadata": {},
   "outputs": [
    {
     "name": "stdout",
     "output_type": "stream",
     "text": [
      "(42, 67280)\n",
      "[[-4.76427451e-01 -9.58526275e-01 -1.40833608e+00 ... -1.14430980e-01\n",
      "  -1.02941176e-01 -1.04347843e-01]\n",
      " [-5.26036745e+00 -5.65385373e+00 -5.88058431e+00 ... -9.26435294e-02\n",
      "  -9.65650980e-02 -9.26435294e-02]\n",
      " [-8.54944745e+00 -8.72380314e+00 -8.85191059e+00 ... -9.65650980e-02\n",
      "  -9.34541176e-02 -9.65650980e-02]\n",
      " ...\n",
      " [-1.46704142e+02 -1.47185064e+02 -1.47689516e+02 ... -5.48482745e-01\n",
      "  -5.41747843e-01 -5.37826275e-01]\n",
      " [-1.51608354e+02 -1.52125441e+02 -1.52634685e+02 ... -5.26061569e-01\n",
      "  -5.26061569e-01 -5.26061569e-01]\n",
      " [-1.56751777e+02 -1.57288473e+02 -1.57823592e+02 ... -5.17087451e-01\n",
      "  -5.17087451e-01 -5.17087451e-01]]\n"
     ]
    }
   ],
   "source": [
    "def compute_haar(iimg, ft_set, box_size, slide_step, downscale_step):\n",
    "    assert all([ len(x) == 2 for x in (ft_set, slide_step, box_size)])\n",
    "    ft_coord, ft_type = ft_set\n",
    "    slide_h, slide_l = slide_step\n",
    "    box_h, box_l = box_size\n",
    "    \n",
    "    n_windows = compute_no_windows(iimg, box_size, slide_step, downscale_step)\n",
    "    n_features = ft_coord.shape[0]\n",
    "\n",
    "    features = np.empty((, n_features))\n",
    "    for x in range(0, h - box_h, slide_h):\n",
    "        for y in range(0, l - box_l, slide_l):\n",
    "            ft = haar_like_feature(iimg, x, y, *box_size[::-1], feature_type=ft_type, feature_coord=ft_coord)\n",
    "            r.append(ft)\n",
    "        break\n",
    "\n",
    "    return features"
   ]
  },
  {
   "cell_type": "code",
   "execution_count": null,
   "metadata": {},
   "outputs": [],
   "source": []
  },
  {
   "cell_type": "code",
   "execution_count": null,
   "metadata": {},
   "outputs": [],
   "source": []
  },
  {
   "cell_type": "code",
   "execution_count": null,
   "metadata": {},
   "outputs": [],
   "source": []
  },
  {
   "cell_type": "code",
   "execution_count": 34,
   "metadata": {},
   "outputs": [
    {
     "name": "stdout",
     "output_type": "stream",
     "text": [
      "Training...\n",
      "First training...\n"
     ]
    },
    {
     "name": "stderr",
     "output_type": "stream",
     "text": [
      "Predicting windows: 100%|█████████████████████████████████████████████████████████████████████████████████████████████████████████████████████████████████| 100/100 [00:53<00:00,  2.21it/s]\n"
     ]
    },
    {
     "name": "stdout",
     "output_type": "stream",
     "text": [
      "Adding 10 false positives / 61 predictions\n",
      "Second training...\n"
     ]
    }
   ],
   "source": [
    "# ( 1bis ) --- Single --- Train, predict, validate\n",
    "clf = models.create_model(CLASSIFIER, MODEL_PARAMS)\n",
    "kwargs = { 'limit_score': limit_score, 'slide_step': slide_step, 'downscale_step': downscale_step }\n",
    "\n",
    "print(\"Training...\")\n",
    "train_results = models.train(clf, images, box_size, train_labels, **VECTORIZATION_PARAMS,\n",
    "                             only_one_training=only_one_training, **kwargs)"
   ]
  },
  {
   "cell_type": "code",
   "execution_count": null,
   "metadata": {},
   "outputs": [],
   "source": [
    "coordinates, windows = sliding_windows(img, box_size, slide_step, downscale_step)\n",
    "print(coordinates.shape)\n",
    "print(windows.shape)\n",
    "print(descriptor_vector.hog(windows).shape)"
   ]
  },
  {
   "cell_type": "code",
   "execution_count": 167,
   "metadata": {},
   "outputs": [
    {
     "name": "stdout",
     "output_type": "stream",
     "text": [
      "10.0 10.99406528189911\n",
      "11 10 False\n",
      "b (150, 90) s 30\n",
      "(450, 337)\n",
      "(420, 314)\n",
      "(390, 292)\n",
      "(360, 269)\n",
      "(330, 247)\n",
      "(300, 224)\n",
      "(270, 202)\n",
      "(240, 179)\n",
      "(210, 157)\n",
      "(180, 134)\n"
     ]
    }
   ],
   "source": [
    "img = images[49]\n",
    "h, l = img.shape[:2]\n",
    "r = h / l\n",
    "s = downscale_step\n",
    "box_h, box_l = box_size\n",
    "gen = list(downscale_image(img, step=downscale_step, min_height=box_h, min_width=box_l))\n",
    "\n",
    "n_scaled_img = 1 + int(min(\n",
    "    ((h - box_h) / downscale_step),\n",
    "    ((l - box_l) / (downscale_step/r)),\n",
    "))\n",
    "\n",
    "print(\n",
    "    ((h - box_h) / downscale_step),\n",
    "    ((l - box_l) / (downscale_step/r)),\n",
    ")\n",
    "\n",
    "print(n_scaled_img, len(gen), n_scaled_img == len(gen))\n",
    "print(\"b\", box_size, \"s\", downscale_step)\n",
    "for i in gen:\n",
    "    print(i.shape[:2])"
   ]
  },
  {
   "cell_type": "code",
   "execution_count": 189,
   "metadata": {},
   "outputs": [
    {
     "name": "stdout",
     "output_type": "stream",
     "text": [
      "(5, 6)\n",
      "(5, 5)\n",
      "(4, 5)\n",
      "(4, 4)\n",
      "(3, 4)\n",
      "(3, 3)\n",
      "(2, 3)\n",
      "(2, 2)\n",
      "(1, 2)\n",
      "(1, 2)\n",
      "10\n",
      "9\n",
      "126 126 True\n"
     ]
    }
   ],
   "source": [
    "from modules.window import compute_no_windows\n",
    "from random import randrange\n",
    "i = randrange(len(full_images))\n",
    "img = full_images[i]\n",
    "\n",
    "n1 = compute_no_windows(img, box_size, slide_step, downscale_step)\n",
    "n2 = sliding_windows(img, box_size, slide_step, downscale_step)\n",
    "print(n1, n2, n1 == n2)"
   ]
  },
  {
   "cell_type": "code",
   "execution_count": null,
   "metadata": {},
   "outputs": [],
   "source": [
    "from skimage.io import imshow_collection\n",
    "imgs = []\n",
    "for falpos in train_results:\n",
    "    img_id = falpos[0]\n",
    "    x,y,h,l = falpos[1:5]\n",
    "    img = images[img_id-1]\n",
    "    imgs.append(img[x:x+h,y:y+l])\n",
    "imshow_collection(imgs)"
   ]
  },
  {
   "cell_type": "code",
   "execution_count": 96,
   "metadata": {},
   "outputs": [
    {
     "name": "stdout",
     "output_type": "stream",
     "text": [
      "## Trying parameter `box_size`...\n",
      "### with value `(150, 90)`\n",
      "First training...\n"
     ]
    },
    {
     "name": "stderr",
     "output_type": "stream",
     "text": [
      "\n",
      "Predicting windows:   0%|                                                                                                                                           | 0/100 [00:00<?, ?it/s]\n",
      "Predicting windows:   5%|██████▌                                                                                                                            | 5/100 [00:00<00:09, 10.06it/s]\n",
      "Predicting windows:   7%|█████████▏                                                                                                                         | 7/100 [00:01<00:20,  4.44it/s]\n",
      "Predicting windows:   8%|██████████▍                                                                                                                        | 8/100 [00:02<00:39,  2.33it/s]\n",
      "Predicting windows:   9%|███████████▊                                                                                                                       | 9/100 [00:03<00:52,  1.72it/s]\n",
      "Predicting windows:  10%|█████████████                                                                                                                     | 10/100 [00:04<00:55,  1.63it/s]\n",
      "Predicting windows:  11%|██████████████▎                                                                                                                   | 11/100 [00:05<01:10,  1.26it/s]\n",
      "Predicting windows:  13%|████████████████▉                                                                                                                 | 13/100 [00:05<00:54,  1.59it/s]\n",
      "Predicting windows:  15%|███████████████████▌                                                                                                              | 15/100 [00:06<00:50,  1.69it/s]\n",
      "Predicting windows:  17%|██████████████████████                                                                                                            | 17/100 [00:07<00:47,  1.75it/s]\n",
      "Predicting windows:  23%|█████████████████████████████▉                                                                                                    | 23/100 [00:08<00:34,  2.26it/s]\n",
      "Predicting windows:  25%|████████████████████████████████▌                                                                                                 | 25/100 [00:09<00:29,  2.55it/s]\n",
      "Predicting windows:  26%|█████████████████████████████████▊                                                                                                | 26/100 [00:10<00:47,  1.56it/s]\n",
      "Predicting windows:  27%|███████████████████████████████████                                                                                               | 27/100 [00:11<00:52,  1.38it/s]\n",
      "Predicting windows:  34%|████████████████████████████████████████████▏                                                                                     | 34/100 [00:12<00:35,  1.84it/s]\n",
      "Predicting windows:  35%|█████████████████████████████████████████████▌                                                                                    | 35/100 [00:12<00:36,  1.79it/s]\n",
      "Predicting windows:  36%|██████████████████████████████████████████████▊                                                                                   | 36/100 [00:13<00:38,  1.66it/s]\n",
      "Predicting windows:  38%|█████████████████████████████████████████████████▍                                                                                | 38/100 [00:14<00:33,  1.84it/s]\n",
      "Predicting windows:  42%|██████████████████████████████████████████████████████▌                                                                           | 42/100 [00:15<00:26,  2.23it/s]\n",
      "Predicting windows:  46%|███████████████████████████████████████████████████████████▊                                                                      | 46/100 [00:15<00:19,  2.75it/s]\n",
      "Predicting windows:  47%|█████████████████████████████████████████████████████████████                                                                     | 47/100 [00:16<00:26,  2.04it/s]\n",
      "Predicting windows:  48%|██████████████████████████████████████████████████████████████▍                                                                   | 48/100 [00:17<00:24,  2.08it/s]\n",
      "Predicting windows:  50%|█████████████████████████████████████████████████████████████████                                                                 | 50/100 [00:18<00:23,  2.11it/s]\n",
      "Predicting windows:  51%|██████████████████████████████████████████████████████████████████▎                                                               | 51/100 [00:19<00:31,  1.53it/s]\n",
      "Predicting windows:  54%|██████████████████████████████████████████████████████████████████████▏                                                           | 54/100 [00:20<00:25,  1.83it/s]\n",
      "Predicting windows:  60%|██████████████████████████████████████████████████████████████████████████████                                                    | 60/100 [00:21<00:17,  2.30it/s]\n",
      "Predicting windows:  61%|███████████████████████████████████████████████████████████████████████████████▎                                                  | 61/100 [00:22<00:27,  1.41it/s]\n",
      "Predicting windows:  62%|████████████████████████████████████████████████████████████████████████████████▌                                                 | 62/100 [00:23<00:26,  1.44it/s]\n",
      "Predicting windows:  64%|███████████████████████████████████████████████████████████████████████████████████▏                                              | 64/100 [00:23<00:19,  1.86it/s]\n",
      "Predicting windows:  65%|████████████████████████████████████████████████████████████████████████████████████▌                                             | 65/100 [00:24<00:20,  1.69it/s]\n",
      "Predicting windows:  66%|█████████████████████████████████████████████████████████████████████████████████████▊                                            | 66/100 [00:24<00:20,  1.64it/s]\n",
      "Predicting windows:  74%|████████████████████████████████████████████████████████████████████████████████████████████████▏                                 | 74/100 [00:25<00:12,  2.14it/s]\n",
      "Predicting windows:  76%|██████████████████████████████████████████████████████████████████████████████████████████████████▊                               | 76/100 [00:26<00:09,  2.50it/s]\n",
      "Predicting windows:  77%|████████████████████████████████████████████████████████████████████████████████████████████████████                              | 77/100 [00:27<00:14,  1.63it/s]\n",
      "Predicting windows:  84%|█████████████████████████████████████████████████████████████████████████████████████████████████████████████▏                    | 84/100 [00:28<00:07,  2.08it/s]\n",
      "Predicting windows:  85%|██████████████████████████████████████████████████████████████████████████████████████████████████████████████▌                   | 85/100 [00:29<00:10,  1.41it/s]\n",
      "Predicting windows:  87%|█████████████████████████████████████████████████████████████████████████████████████████████████████████████████                 | 87/100 [00:31<00:09,  1.40it/s]\n",
      "Predicting windows:  88%|██████████████████████████████████████████████████████████████████████████████████████████████████████████████████▍               | 88/100 [00:32<00:09,  1.30it/s]\n",
      "Predicting windows:  89%|███████████████████████████████████████████████████████████████████████████████████████████████████████████████████▋              | 89/100 [00:33<00:08,  1.29it/s]\n",
      "Predicting windows:  90%|█████████████████████████████████████████████████████████████████████████████████████████████████████████████████████             | 90/100 [00:34<00:10,  1.06s/it]\n",
      "Predicting windows: 100%|█████████████████████████████████████████████████████████████████████████████████████████████████████████████████████████████████| 100/100 [00:35<00:00,  1.28it/s]"
     ]
    },
    {
     "name": "stdout",
     "output_type": "stream",
     "text": [
      "### with value `(160, 100)`\n",
      "First training...\n"
     ]
    },
    {
     "name": "stderr",
     "output_type": "stream",
     "text": [
      "\n",
      "Predicting windows:   0%|                                                                                                                                           | 0/100 [00:00<?, ?it/s]\n",
      "Predicting windows:   5%|██████▌                                                                                                                            | 5/100 [00:00<00:13,  7.12it/s]\n",
      "Predicting windows:   7%|█████████▏                                                                                                                         | 7/100 [00:01<00:25,  3.69it/s]\n",
      "Predicting windows:   8%|██████████▍                                                                                                                        | 8/100 [00:03<01:01,  1.50it/s]\n",
      "Predicting windows:   9%|███████████▊                                                                                                                       | 9/100 [00:04<01:20,  1.14it/s]\n",
      "Predicting windows:  10%|█████████████                                                                                                                     | 10/100 [00:05<01:15,  1.18it/s]\n",
      "Predicting windows:  11%|██████████████▎                                                                                                                   | 11/100 [00:07<01:37,  1.09s/it]\n",
      "Predicting windows:  13%|████████████████▉                                                                                                                 | 13/100 [00:07<01:14,  1.18it/s]\n",
      "Predicting windows:  15%|███████████████████▌                                                                                                              | 15/100 [00:08<01:05,  1.31it/s]\n",
      "Predicting windows:  17%|██████████████████████                                                                                                            | 17/100 [00:10<00:57,  1.44it/s]\n",
      "Predicting windows:  23%|█████████████████████████████▉                                                                                                    | 23/100 [00:10<00:40,  1.89it/s]\n",
      "Predicting windows:  25%|████████████████████████████████▌                                                                                                 | 25/100 [00:11<00:34,  2.19it/s]\n",
      "Predicting windows:  26%|█████████████████████████████████▊                                                                                                | 26/100 [00:12<00:47,  1.56it/s]\n",
      "Predicting windows:  27%|███████████████████████████████████                                                                                               | 27/100 [00:13<00:52,  1.40it/s]\n",
      "Predicting windows:  34%|████████████████████████████████████████████▏                                                                                     | 34/100 [00:14<00:35,  1.83it/s]\n",
      "Predicting windows:  35%|█████████████████████████████████████████████▌                                                                                    | 35/100 [00:15<00:36,  1.81it/s]\n",
      "Predicting windows:  36%|██████████████████████████████████████████████▊                                                                                   | 36/100 [00:15<00:38,  1.65it/s]\n",
      "Predicting windows:  38%|█████████████████████████████████████████████████▍                                                                                | 38/100 [00:16<00:34,  1.82it/s]\n",
      "Predicting windows:  42%|██████████████████████████████████████████████████████▌                                                                           | 42/100 [00:17<00:26,  2.22it/s]\n",
      "Predicting windows:  46%|███████████████████████████████████████████████████████████▊                                                                      | 46/100 [00:18<00:19,  2.84it/s]\n",
      "Predicting windows:  47%|█████████████████████████████████████████████████████████████                                                                     | 47/100 [00:18<00:25,  2.04it/s]\n",
      "Predicting windows:  48%|██████████████████████████████████████████████████████████████▍                                                                   | 48/100 [00:19<00:26,  1.93it/s]\n",
      "Predicting windows:  50%|█████████████████████████████████████████████████████████████████                                                                 | 50/100 [00:20<00:26,  1.86it/s]\n",
      "Predicting windows:  51%|██████████████████████████████████████████████████████████████████▎                                                               | 51/100 [00:21<00:37,  1.31it/s]\n",
      "Predicting windows:  54%|██████████████████████████████████████████████████████████████████████▏                                                           | 54/100 [00:22<00:29,  1.55it/s]\n",
      "Predicting windows:  60%|██████████████████████████████████████████████████████████████████████████████                                                    | 60/100 [00:24<00:20,  1.91it/s]\n",
      "Predicting windows:  61%|███████████████████████████████████████████████████████████████████████████████▎                                                  | 61/100 [00:26<00:35,  1.09it/s]\n",
      "Predicting windows:  62%|████████████████████████████████████████████████████████████████████████████████▌                                                 | 62/100 [00:26<00:33,  1.14it/s]\n",
      "Predicting windows:  64%|███████████████████████████████████████████████████████████████████████████████████▏                                              | 64/100 [00:27<00:23,  1.51it/s]\n",
      "Predicting windows:  65%|████████████████████████████████████████████████████████████████████████████████████▌                                             | 65/100 [00:28<00:23,  1.50it/s]\n",
      "Predicting windows:  66%|█████████████████████████████████████████████████████████████████████████████████████▊                                            | 66/100 [00:28<00:23,  1.44it/s]\n",
      "Predicting windows:  74%|████████████████████████████████████████████████████████████████████████████████████████████████▏                                 | 74/100 [00:29<00:13,  1.93it/s]\n",
      "Predicting windows:  76%|██████████████████████████████████████████████████████████████████████████████████████████████████▊                               | 76/100 [00:30<00:10,  2.20it/s]\n",
      "Predicting windows:  77%|████████████████████████████████████████████████████████████████████████████████████████████████████                              | 77/100 [00:31<00:13,  1.68it/s]\n",
      "Predicting windows:  84%|█████████████████████████████████████████████████████████████████████████████████████████████████████████████▏                    | 84/100 [00:32<00:07,  2.21it/s]\n",
      "Predicting windows:  85%|██████████████████████████████████████████████████████████████████████████████████████████████████████████████▌                   | 85/100 [00:32<00:08,  1.68it/s]\n",
      "Predicting windows:  87%|█████████████████████████████████████████████████████████████████████████████████████████████████████████████████                 | 87/100 [00:34<00:08,  1.60it/s]\n",
      "Predicting windows:  88%|██████████████████████████████████████████████████████████████████████████████████████████████████████████████████▍               | 88/100 [00:35<00:08,  1.35it/s]\n",
      "Predicting windows:  89%|███████████████████████████████████████████████████████████████████████████████████████████████████████████████████▋              | 89/100 [00:36<00:09,  1.16it/s]\n",
      "Predicting windows:  90%|█████████████████████████████████████████████████████████████████████████████████████████████████████████████████████             | 90/100 [00:38<00:12,  1.27s/it]\n",
      "Predicting windows: 100%|█████████████████████████████████████████████████████████████████████████████████████████████████████████████████████████████████| 100/100 [00:39<00:00,  1.09it/s]"
     ]
    },
    {
     "name": "stdout",
     "output_type": "stream",
     "text": [
      "### with value `(170, 110)`\n",
      "First training...\n"
     ]
    },
    {
     "name": "stderr",
     "output_type": "stream",
     "text": [
      "\n",
      "Predicting windows:   0%|                                                                                                                                           | 0/100 [00:00<?, ?it/s]\n",
      "Predicting windows:   5%|██████▌                                                                                                                            | 5/100 [00:00<00:10,  8.76it/s]\n",
      "Predicting windows:   7%|█████████▏                                                                                                                         | 7/100 [00:01<00:26,  3.49it/s]\n",
      "Predicting windows:   8%|██████████▍                                                                                                                        | 8/100 [00:03<00:49,  1.84it/s]\n",
      "Predicting windows:   9%|███████████▊                                                                                                                       | 9/100 [00:04<01:07,  1.35it/s]\n",
      "Predicting windows:  10%|█████████████                                                                                                                     | 10/100 [00:04<01:05,  1.38it/s]\n",
      "Predicting windows:  11%|██████████████▎                                                                                                                   | 11/100 [00:06<01:21,  1.10it/s]\n",
      "Predicting windows:  13%|████████████████▉                                                                                                                 | 13/100 [00:06<01:04,  1.36it/s]\n",
      "Predicting windows:  15%|███████████████████▌                                                                                                              | 15/100 [00:08<01:05,  1.30it/s]\n",
      "Predicting windows:  17%|██████████████████████                                                                                                            | 17/100 [00:10<01:05,  1.26it/s]\n",
      "Predicting windows:  23%|█████████████████████████████▉                                                                                                    | 23/100 [00:12<00:49,  1.54it/s]\n",
      "Predicting windows:  25%|████████████████████████████████▌                                                                                                 | 25/100 [00:12<00:42,  1.78it/s]\n",
      "Predicting windows:  26%|█████████████████████████████████▊                                                                                                | 26/100 [00:14<01:02,  1.19it/s]\n",
      "Predicting windows:  27%|███████████████████████████████████                                                                                               | 27/100 [00:15<01:09,  1.05it/s]\n",
      "Predicting windows:  34%|████████████████████████████████████████████▏                                                                                     | 34/100 [00:16<00:47,  1.40it/s]\n",
      "Predicting windows:  35%|█████████████████████████████████████████████▌                                                                                    | 35/100 [00:17<00:45,  1.44it/s]\n",
      "Predicting windows:  36%|██████████████████████████████████████████████▊                                                                                   | 36/100 [00:18<00:48,  1.32it/s]\n",
      "Predicting windows:  38%|█████████████████████████████████████████████████▍                                                                                | 38/100 [00:19<00:42,  1.45it/s]\n",
      "Predicting windows:  42%|██████████████████████████████████████████████████████▌                                                                           | 42/100 [00:20<00:34,  1.69it/s]\n",
      "Predicting windows:  46%|███████████████████████████████████████████████████████████▊                                                                      | 46/100 [00:21<00:25,  2.10it/s]\n",
      "Predicting windows:  47%|█████████████████████████████████████████████████████████████                                                                     | 47/100 [00:22<00:37,  1.42it/s]\n",
      "Predicting windows:  48%|██████████████████████████████████████████████████████████████▍                                                                   | 48/100 [00:23<00:41,  1.26it/s]\n",
      "Predicting windows:  50%|█████████████████████████████████████████████████████████████████                                                                 | 50/100 [00:25<00:40,  1.24it/s]\n",
      "Predicting windows:  51%|██████████████████████████████████████████████████████████████████▎                                                               | 51/100 [00:27<00:55,  1.14s/it]\n",
      "Predicting windows:  54%|██████████████████████████████████████████████████████████████████████▏                                                           | 54/100 [00:28<00:42,  1.08it/s]\n",
      "Predicting windows:  60%|██████████████████████████████████████████████████████████████████████████████                                                    | 60/100 [00:30<00:29,  1.36it/s]\n",
      "Predicting windows:  61%|███████████████████████████████████████████████████████████████████████████████▎                                                  | 61/100 [00:32<00:38,  1.02it/s]\n",
      "Predicting windows:  62%|████████████████████████████████████████████████████████████████████████████████▌                                                 | 62/100 [00:33<00:37,  1.01it/s]\n",
      "Predicting windows:  64%|███████████████████████████████████████████████████████████████████████████████████▏                                              | 64/100 [00:33<00:27,  1.29it/s]\n",
      "Predicting windows:  65%|████████████████████████████████████████████████████████████████████████████████████▌                                             | 65/100 [00:34<00:24,  1.43it/s]\n",
      "Predicting windows:  66%|█████████████████████████████████████████████████████████████████████████████████████▊                                            | 66/100 [00:35<00:26,  1.30it/s]\n",
      "Predicting windows:  74%|████████████████████████████████████████████████████████████████████████████████████████████████▏                                 | 74/100 [00:36<00:15,  1.69it/s]\n",
      "Predicting windows:  76%|██████████████████████████████████████████████████████████████████████████████████████████████████▊                               | 76/100 [00:37<00:12,  1.85it/s]\n",
      "Predicting windows:  77%|████████████████████████████████████████████████████████████████████████████████████████████████████                              | 77/100 [00:38<00:17,  1.33it/s]\n",
      "Predicting windows:  84%|█████████████████████████████████████████████████████████████████████████████████████████████████████████████▏                    | 84/100 [00:40<00:09,  1.67it/s]\n",
      "Predicting windows:  85%|██████████████████████████████████████████████████████████████████████████████████████████████████████████████▌                   | 85/100 [00:41<00:11,  1.31it/s]\n",
      "Predicting windows:  87%|█████████████████████████████████████████████████████████████████████████████████████████████████████████████████                 | 87/100 [00:42<00:09,  1.35it/s]\n",
      "Predicting windows:  88%|██████████████████████████████████████████████████████████████████████████████████████████████████████████████████▍               | 88/100 [00:43<00:08,  1.42it/s]\n",
      "Predicting windows:  89%|███████████████████████████████████████████████████████████████████████████████████████████████████████████████████▋              | 89/100 [00:44<00:07,  1.43it/s]\n",
      "Predicting windows:  90%|█████████████████████████████████████████████████████████████████████████████████████████████████████████████████████             | 90/100 [00:45<00:09,  1.04it/s]\n",
      "Predicting windows: 100%|█████████████████████████████████████████████████████████████████████████████████████████████████████████████████████████████████| 100/100 [00:46<00:00,  1.43it/s]"
     ]
    },
    {
     "name": "stdout",
     "output_type": "stream",
     "text": [
      "### with value `(170, 120)`\n",
      "First training...\n"
     ]
    },
    {
     "name": "stderr",
     "output_type": "stream",
     "text": [
      "\n",
      "Predicting windows:   0%|                                                                                                                                           | 0/100 [00:00<?, ?it/s]\n",
      "Predicting windows:   5%|██████▌                                                                                                                            | 5/100 [00:00<00:15,  6.01it/s]\n",
      "Predicting windows:   7%|█████████▏                                                                                                                         | 7/100 [00:01<00:26,  3.46it/s]\n",
      "Predicting windows:   8%|██████████▍                                                                                                                        | 8/100 [00:03<01:11,  1.29it/s]\n",
      "Predicting windows:   9%|███████████▊                                                                                                                       | 9/100 [00:05<01:25,  1.07it/s]\n",
      "Predicting windows:  10%|█████████████                                                                                                                     | 10/100 [00:05<01:16,  1.17it/s]\n",
      "Predicting windows:  11%|██████████████▎                                                                                                                   | 11/100 [00:07<01:31,  1.02s/it]\n",
      "Predicting windows:  13%|████████████████▉                                                                                                                 | 13/100 [00:07<01:09,  1.25it/s]\n",
      "Predicting windows:  15%|███████████████████▌                                                                                                              | 15/100 [00:09<01:07,  1.25it/s]\n",
      "Predicting windows:  17%|██████████████████████                                                                                                            | 17/100 [00:10<01:03,  1.30it/s]\n",
      "Predicting windows:  23%|█████████████████████████████▉                                                                                                    | 23/100 [00:11<00:44,  1.71it/s]\n",
      "Predicting windows:  25%|████████████████████████████████▌                                                                                                 | 25/100 [00:12<00:38,  1.93it/s]\n",
      "Predicting windows:  26%|█████████████████████████████████▊                                                                                                | 26/100 [00:13<00:58,  1.27it/s]\n",
      "Predicting windows:  27%|███████████████████████████████████                                                                                               | 27/100 [00:15<01:08,  1.06it/s]\n",
      "Predicting windows:  34%|████████████████████████████████████████████▏                                                                                     | 34/100 [00:16<00:47,  1.40it/s]\n",
      "Predicting windows:  35%|█████████████████████████████████████████████▌                                                                                    | 35/100 [00:17<00:47,  1.36it/s]\n",
      "Predicting windows:  36%|██████████████████████████████████████████████▊                                                                                   | 36/100 [00:18<00:52,  1.23it/s]\n",
      "Predicting windows:  38%|█████████████████████████████████████████████████▍                                                                                | 38/100 [00:19<00:48,  1.29it/s]\n",
      "Predicting windows:  42%|██████████████████████████████████████████████████████▌                                                                           | 42/100 [00:21<00:38,  1.53it/s]\n",
      "Predicting windows:  46%|███████████████████████████████████████████████████████████▊                                                                      | 46/100 [00:21<00:27,  1.98it/s]\n",
      "Predicting windows:  47%|█████████████████████████████████████████████████████████████                                                                     | 47/100 [00:22<00:32,  1.63it/s]\n",
      "Predicting windows:  48%|██████████████████████████████████████████████████████████████▍                                                                   | 48/100 [00:23<00:30,  1.73it/s]\n",
      "Predicting windows:  50%|█████████████████████████████████████████████████████████████████                                                                 | 50/100 [00:24<00:27,  1.80it/s]\n",
      "Predicting windows:  51%|██████████████████████████████████████████████████████████████████▎                                                               | 51/100 [00:25<00:42,  1.15it/s]\n",
      "Predicting windows:  54%|██████████████████████████████████████████████████████████████████████▏                                                           | 54/100 [00:26<00:32,  1.41it/s]\n",
      "Predicting windows:  60%|██████████████████████████████████████████████████████████████████████████████                                                    | 60/100 [00:28<00:22,  1.75it/s]\n",
      "Predicting windows:  61%|███████████████████████████████████████████████████████████████████████████████▎                                                  | 61/100 [00:29<00:34,  1.15it/s]\n",
      "Predicting windows:  62%|████████████████████████████████████████████████████████████████████████████████▌                                                 | 62/100 [00:30<00:31,  1.21it/s]\n",
      "Predicting windows:  64%|███████████████████████████████████████████████████████████████████████████████████▏                                              | 64/100 [00:30<00:23,  1.56it/s]\n",
      "Predicting windows:  65%|████████████████████████████████████████████████████████████████████████████████████▌                                             | 65/100 [00:31<00:23,  1.47it/s]\n",
      "Predicting windows:  66%|█████████████████████████████████████████████████████████████████████████████████████▊                                            | 66/100 [00:32<00:27,  1.26it/s]\n",
      "Predicting windows:  74%|████████████████████████████████████████████████████████████████████████████████████████████████▏                                 | 74/100 [00:34<00:15,  1.63it/s]\n",
      "Predicting windows:  76%|██████████████████████████████████████████████████████████████████████████████████████████████████▊                               | 76/100 [00:35<00:13,  1.78it/s]\n",
      "Predicting windows:  77%|████████████████████████████████████████████████████████████████████████████████████████████████████                              | 77/100 [00:36<00:15,  1.47it/s]\n",
      "Predicting windows:  84%|█████████████████████████████████████████████████████████████████████████████████████████████████████████████▏                    | 84/100 [00:37<00:08,  1.91it/s]\n",
      "Predicting windows:  85%|██████████████████████████████████████████████████████████████████████████████████████████████████████████████▌                   | 85/100 [00:38<00:11,  1.35it/s]\n",
      "Predicting windows:  87%|█████████████████████████████████████████████████████████████████████████████████████████████████████████████████                 | 87/100 [00:39<00:09,  1.35it/s]\n",
      "Predicting windows:  88%|██████████████████████████████████████████████████████████████████████████████████████████████████████████████████▍               | 88/100 [00:40<00:09,  1.27it/s]\n",
      "Predicting windows:  89%|███████████████████████████████████████████████████████████████████████████████████████████████████████████████████▋              | 89/100 [00:41<00:08,  1.24it/s]\n",
      "Predicting windows:  90%|█████████████████████████████████████████████████████████████████████████████████████████████████████████████████████             | 90/100 [00:43<00:12,  1.21s/it]\n",
      "Predicting windows: 100%|█████████████████████████████████████████████████████████████████████████████████████████████████████████████████████████████████| 100/100 [00:45<00:00,  1.13it/s]"
     ]
    },
    {
     "name": "stdout",
     "output_type": "stream",
     "text": [
      "\n",
      "------\n",
      "\n",
      "{'classifier': 'random_forest',\n",
      " 'global_params': {'class_weight': {-1: 1, 1: 1.2}, 'n_estimators': 50},\n",
      " 'results': [{'name': 'box_size',\n",
      "              'result': {'false_pos': 11,\n",
      "                         'missing_predictions': 25,\n",
      "                         'no_faces': 55,\n",
      "                         'no_images': 40,\n",
      "                         'no_predictions': 39,\n",
      "                         'true_pos': 28},\n",
      "              'value': (150, 90)},\n",
      "             {'name': 'box_size',\n",
      "              'result': {'false_pos': 9,\n",
      "                         'missing_predictions': 25,\n",
      "                         'no_faces': 55,\n",
      "                         'no_images': 40,\n",
      "                         'no_predictions': 36,\n",
      "                         'true_pos': 27},\n",
      "              'value': (160, 100)},\n",
      "             {'name': 'box_size',\n",
      "              'result': {'false_pos': 8,\n",
      "                         'missing_predictions': 28,\n",
      "                         'no_faces': 55,\n",
      "                         'no_images': 40,\n",
      "                         'no_predictions': 35,\n",
      "                         'true_pos': 27},\n",
      "              'value': (170, 110)},\n",
      "             {'name': 'box_size',\n",
      "              'result': {'false_pos': 7,\n",
      "                         'missing_predictions': 31,\n",
      "                         'no_faces': 55,\n",
      "                         'no_images': 40,\n",
      "                         'no_predictions': 31,\n",
      "                         'true_pos': 24},\n",
      "              'value': (170, 120)}]}\n"
     ]
    }
   ],
   "source": [
    "# ( 2 ) --- Multiple --- Try multiple params\n",
    "clf_name = 'random_forest'\n",
    "global_params = {\n",
    "    # General\n",
    "    'box_size': (150, 90),\n",
    "\n",
    "    'n_estimators': 50,\n",
    "    'class_weight': { -1: 1, 1: 1.2},\n",
    "\n",
    "    'vectorization_params': {\n",
    "        'vectorize': descriptor_vector.hog,\n",
    "#        'vectorize_kwargs': { 'orientations': 6},\n",
    "    },\n",
    "}\n",
    "\n",
    "kwargs = {\n",
    "    'limit_score': 0.5,\n",
    "    'slide_step': (60,50),\n",
    "    'downscale_step': 30,\n",
    "    'only_one_training': True,\n",
    "}\n",
    "\n",
    "changing_params = {\n",
    "    'box_size': [\n",
    "        (150, 90),\n",
    "        (160, 100),\n",
    "        (170, 110),\n",
    "        (170, 120),\n",
    "    ]\n",
    "}\n",
    "\n",
    "results = try_params(images, label_sets, clf_name, global_params, changing_params, **kwargs)\n",
    "print(\"\\n------\\n\")\n",
    "if results not in store: store.append(results)\n",
    "pp(results)"
   ]
  },
  {
   "cell_type": "code",
   "execution_count": null,
   "metadata": {},
   "outputs": [],
   "source": []
  }
 ],
 "metadata": {
  "kernelspec": {
   "display_name": "Python 3",
   "language": "python",
   "name": "python3"
  },
  "language_info": {
   "codemirror_mode": {
    "name": "ipython",
    "version": 3
   },
   "file_extension": ".py",
   "mimetype": "text/x-python",
   "name": "python",
   "nbconvert_exporter": "python",
   "pygments_lexer": "ipython3",
   "version": "3.7.0"
  }
 },
 "nbformat": 4,
 "nbformat_minor": 2
}
