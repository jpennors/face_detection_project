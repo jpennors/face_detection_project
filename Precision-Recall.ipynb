{
 "cells": [
  {
   "cell_type": "code",
   "execution_count": 96,
   "metadata": {},
   "outputs": [],
   "source": [
    "import numpy as np\n",
    "from importlib import reload\n",
    "from modules.utils import area_rate"
   ]
  },
  {
   "cell_type": "code",
   "execution_count": 97,
   "metadata": {},
   "outputs": [],
   "source": [
    "# Module à importer absolument\n",
    "import matplotlib.pyplot as plt\n",
    "import os\n",
    "import datetime"
   ]
  },
  {
   "cell_type": "code",
   "execution_count": 98,
   "metadata": {},
   "outputs": [],
   "source": [
    "# Données d'entrée\n",
    "\n",
    "coordinates = np.array(([[10,24,30,56],[240,354,30,56],[10,24,30,56],[100,39,500,200], [10,24,30,56], [10,24,30,56]]))\n",
    "\n",
    "indexes = np.array([23,45,1,1,2,3])\n",
    "\n",
    "predictions = np.array(([0.7, 0.9, 0.4, 0.3, 0.6, 0.51]))\n",
    "\n",
    "labels = np.array(([[23,10,24,30,56, 1],[45,24,35,30,56, 1],[23,100,240,30,56, 1], [1,10,24,30,56, 1], [2,24,35,30,56, 1], [3,24,35,30,56, 1]]))\n"
   ]
  },
  {
   "cell_type": "code",
   "execution_count": 99,
   "metadata": {},
   "outputs": [],
   "source": [
    "# Fonction à ajouter\n",
    "\n",
    "def get_precision_recall(coordinates, indexes, labels, predictions):\n",
    "\n",
    "    sorted_predictions_indexes = np.argsort(predictions)[::-1]\n",
    "    \n",
    "    dir = \"precision-recall\"\n",
    "    \n",
    "    true_positive = 0\n",
    "    false_positive = 0\n",
    "    true_negative = 0\n",
    "    false_negative = 0\n",
    "    \n",
    "    x = []\n",
    "    y = []\n",
    "    \n",
    "    for sorted_index in sorted_predictions_indexes:\n",
    "        \n",
    "        img_id = indexes[sorted_index]\n",
    "        \n",
    "        positive_labels = labels[labels[:,0] == img_id]\n",
    "        \n",
    "        face = False\n",
    "        for label in positive_labels:\n",
    "            \n",
    "            if area_rate(label[1:5], coordinates[sorted_index]) > 0.5:\n",
    "                face = True\n",
    "                \n",
    "        pred = predictions[sorted_index]\n",
    "        \n",
    "        if pred > 0.5 and face:\n",
    "            true_positive += 1\n",
    "        elif pred > 0.5 and not face:\n",
    "            false_positive += 1\n",
    "        elif pred < 0.5 and not face:\n",
    "            true_negative += 1\n",
    "        elif pred < 0.5 and face:\n",
    "            false_negative += 1\n",
    "\n",
    "        if true_positive+false_positive == 0:\n",
    "            x.append(0)\n",
    "        else:\n",
    "            x.append(true_positive/(true_positive+false_positive))\n",
    "\n",
    "        if true_positive+false_negative == 0:\n",
    "            y.append(0)\n",
    "        else :\n",
    "            y.append(true_positive/(true_positive+false_negative))\n",
    "\n",
    "        \n",
    "            \n",
    "    print(\"Vrai positif\", true_positive)\n",
    "    print(\"Faux positif\", false_positive)\n",
    "    print(\"Vrai négatif\", true_negative)\n",
    "    print(\"Faux négatif\", false_negative)\n",
    "        \n",
    "    fig = plt.plot(x,y, 'ro')\n",
    "    plt.title(\"Courbe précision / rappel \")\n",
    "    plt.xlabel(\"Rappel\")\n",
    "    plt.ylabel(\"Précision\")\n",
    "    \n",
    "    if not os.path.exists(dir):\n",
    "        os.makedirs(dir)\n",
    "    \n",
    "    plt.savefig(dir + \"/precision-recall-\" + datetime.datetime.now().strftime('%Y_%m_%d_%H_%M_%S') + \".png\")"
   ]
  },
  {
   "cell_type": "code",
   "execution_count": 100,
   "metadata": {},
   "outputs": [
    {
     "name": "stdout",
     "output_type": "stream",
     "text": [
      "Vrai positif 1\n",
      "Faux positif 3\n",
      "Vrai négatif 1\n",
      "Faux négatif 1\n"
     ]
    },
    {
     "data": {
      "image/png": "[encoded data removed]",
      "text/plain": [
       "<Figure size 432x288 with 1 Axes>"
      ]
     },
     "metadata": {
      "needs_background": "light"
     },
     "output_type": "display_data"
    }
   ],
   "source": [
    "get_precision_recall(coordinates, indexes, labels, predictions)"
   ]
  },
  {
   "cell_type": "code",
   "execution_count": null,
   "metadata": {},
   "outputs": [],
   "source": []
  }
 ],
 "metadata": {
  "kernelspec": {
   "display_name": "Python 3",
   "language": "python",
   "name": "python3"
  },
  "language_info": {
   "codemirror_mode": {
    "name": "ipython",
    "version": 3
   },
   "file_extension": ".py",
   "mimetype": "text/x-python",
   "name": "python",
   "nbconvert_exporter": "python",
   "pygments_lexer": "ipython3",
   "version": "3.6.5rc1"
  }
 },
 "nbformat": 4,
 "nbformat_minor": 2
}
