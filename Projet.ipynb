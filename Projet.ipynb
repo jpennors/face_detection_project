{
 "cells": [
  {
   "cell_type": "code",
   "execution_count": 109,
   "metadata": {},
   "outputs": [],
   "source": [
    "import numpy as np\n",
    "from skimage import io\n",
    "from skimage import util\n",
    "from skimage.util import img_as_float\n",
    "from skimage import color\n",
    "from skimage import feature\n",
    "from skimage.transform import resize, rescale\n",
    "import os\n",
    "from random import randint, randrange\n",
    "from modules.utils import area_rate, get_shape_stats\n",
    "from sklearn.svm import LinearSVC"
   ]
  },
  {
   "cell_type": "code",
   "execution_count": 110,
   "metadata": {},
   "outputs": [],
   "source": [
    "# Chargement des images\n",
    "images = []\n",
    "path = \"data/train/\"\n",
    "for index, img_file in enumerate(os.listdir(path)):\n",
    "    images.append(img_as_float(io.imread(path + img_file)))"
   ]
  },
  {
   "cell_type": "code",
   "execution_count": 111,
   "metadata": {},
   "outputs": [],
   "source": [
    "# Chargement des labels positifs\n",
    "label_file = np.loadtxt(\"data/label.txt\")\n",
    "label_class = np.ones((len(label_file),1))\n",
    "positive_labels = np.concatenate((label_file,label_class), axis=1)\n",
    "POS_SIZE = len(positive_labels)"
   ]
  },
  {
   "cell_type": "code",
   "execution_count": 128,
   "metadata": {},
   "outputs": [
    {
     "name": "stderr",
     "output_type": "stream",
     "text": [
      "C:\\Users\\Josselin\\Documents\\UTC maggle\\GI04\\SY32\\Projet\\modules\\utils.py:48: RuntimeWarning: divide by zero encountered in double_scalars\n",
      "  return a_in / (area(box_1) + area(box_2) - a_in)\n"
     ]
    }
   ],
   "source": [
    "# Génération des labels négatifs\n",
    "\n",
    "NEG_SIZE = 1000\n",
    "MIN_H = 40\n",
    "MIN_L = 40\n",
    "\n",
    "n_images = len(images)\n",
    "\n",
    "negative_labels = np.zeros((NEG_SIZE,6))\n",
    "\n",
    "i = 0\n",
    "while i < NEG_SIZE:\n",
    "    img_index = randrange(n_images)\n",
    "    img_id = img_index + 1\n",
    "    \n",
    "    img = images[img_index]\n",
    "    \n",
    "    \n",
    "    img_h, img_l = img.shape[:2]\n",
    "    \n",
    "    h = randint(MIN_H, int(img_h/2))\n",
    "    l = randint(MIN_L, int(img_l/2))\n",
    "    \n",
    "    x = randint(0, img_h - h)\n",
    "    y = randint(0, img_l - l)\n",
    "    \n",
    "    # Check if it doesn't overlap with true faces\n",
    "    img_labels = labels[labels[:,0] == img_id]\n",
    "    if all([ area_rate([x,y,h,l], label[1:5]) < 1/3 for label in labels ]):\n",
    "        negative_labels[i] = [ img_id,x,y,h,l, -1 ]\n",
    "        i += 1"
   ]
  },
  {
   "cell_type": "code",
   "execution_count": 129,
   "metadata": {},
   "outputs": [],
   "source": [
    "# Assemblage des labels\n",
    "labels = np.concatenate((positive_labels, negative_labels))"
   ]
  },
  {
   "cell_type": "code",
   "execution_count": 131,
   "metadata": {},
   "outputs": [],
   "source": [
    "# Récupération des images et création des vecteurs descripts avec HOG\n",
    "X = np.zeros((POS_SIZE + NEG_SIZE, 729))\n",
    "\n",
    "for index, label in enumerate(labels):\n",
    "    img_id,x,y,h,l,_ = labels[index]\n",
    "    img = images[int(img_id - 1)][int(x):int(x+h), int(y):int(y+l)]\n",
    "    resized_img = resize(img, (40,40), mode='constant', anti_aliasing=True)\n",
    "#     print(feature.hog(resize(img, (40,40), mode='constant', anti_aliasing=True)).shape)\n",
    "    X[i] = feature.hog(resized_img, block_norm='L1')\n",
    "\n",
    "y = labels[:,5]"
   ]
  },
  {
   "cell_type": "code",
   "execution_count": 132,
   "metadata": {},
   "outputs": [
    {
     "data": {
      "text/plain": [
       "LinearSVC(C=1.0, class_weight=None, dual=True, fit_intercept=True,\n",
       "     intercept_scaling=1, loss='squared_hinge', max_iter=1000,\n",
       "     multi_class='ovr', penalty='l2', random_state=None, tol=0.0001,\n",
       "     verbose=0)"
      ]
     },
     "execution_count": 132,
     "metadata": {},
     "output_type": "execute_result"
    }
   ],
   "source": [
    "# Entraînement\n",
    "clf = LinearSVC()\n",
    "clf.fit(X,y)"
   ]
  },
  {
   "cell_type": "code",
   "execution_count": 143,
   "metadata": {},
   "outputs": [],
   "source": [
    "# Deuxième phase d'apprentissage\n",
    "\n",
    "test_labels = []\n",
    "step_h = 40\n",
    "step_l = 40\n",
    "scales = [0.25, 0.5, 0.75, 1.0]\n",
    "\n",
    "img_to_predict = np.zeros((1, 729))\n",
    "window_labels = []\n",
    "\n",
    "for index, image in enumerate(images):\n",
    "    \n",
    "#     if index > 10 :\n",
    "#         break;\n",
    "    \n",
    "    img_id = index + 1\n",
    "    \n",
    "    for scale in scales:\n",
    "        \n",
    "        rescaled_img = rescale(image, scale, mode='constant', anti_aliasing=True, multichannel=False)\n",
    "        \n",
    "        rescaled_img_h, rescaled_img_l = rescaled_img.shape[:2]\n",
    "        \n",
    "        for x in range(0, rescaled_img_h, step_h):\n",
    "            \n",
    "            for y in range(0, rescaled_img_l, step_l):\n",
    "\n",
    "                if x + step_h < rescaled_img_h and y + step_l < rescaled_img_l:\n",
    "                \n",
    "                    \n",
    "                    img_to_predict[0] = feature.hog(rescaled_img[x:x+step_h, y:y+step_l], block_norm='L1')\n",
    "                    \n",
    "                    prediction = clf.decision_function(img_to_predict)\n",
    "                    window_labels.append(prediction[0])\n",
    "#                     window_labels.append([img_id, x/scale, y/scale, step_h/scale, step_l/scale,prediction[0]])\n"
   ]
  },
  {
   "cell_type": "code",
   "execution_count": 148,
   "metadata": {},
   "outputs": [
    {
     "name": "stdout",
     "output_type": "stream",
     "text": [
      "0.2649066297696365\n",
      "0.1241847211351379\n",
      "0.5635186967346619\n",
      "[0.27741612 0.26378529 0.34236541 0.24013297 0.20732177 0.32317251\n",
      " 0.27503941 0.27239812 0.32178347 0.21151522 0.31045486 0.20904856\n",
      " 0.24768833 0.3533247  0.23143929 0.34445054 0.31872525 0.25490304\n",
      " 0.25066015 0.24385787 0.21263269 0.19658365 0.27720667 0.28090803\n",
      " 0.26141651 0.31437757 0.26724653 0.30855903 0.34293543 0.25605754\n",
      " 0.24647031 0.20630392 0.26581011 0.27511214 0.26740339 0.31609327\n",
      " 0.27046851]\n",
      "1\n"
     ]
    }
   ],
   "source": [
    "test = np.array(window_labels)\n",
    "# print(np.mean(test[:,5]))\n",
    "# print(np.min(test[:,5]))\n",
    "# print(np.max(test[:,5]))\n",
    "print(np.mean(test))\n",
    "print(np.min(test))\n",
    "print(np.max(test))\n",
    "print(test[3:40])\n",
    "print(len(np.where(test > 0.5)))"
   ]
  },
  {
   "cell_type": "code",
   "execution_count": 147,
   "metadata": {},
   "outputs": [
    {
     "name": "stdout",
     "output_type": "stream",
     "text": [
      "[1.]\n"
     ]
    }
   ],
   "source": [
    "img_id,x,y,h,l, _ = labels[0]\n",
    "test = resize(images[0][int(x):int(x+h), int(y):int(y+l)], (40,40))\n",
    "im = np.zeros((1,729))\n",
    "im[0] = feature.hog(test, block_norm='L1')\n",
    "pred = clf.predict(im)\n",
    "print(pred)"
   ]
  },
  {
   "cell_type": "code",
   "execution_count": null,
   "metadata": {},
   "outputs": [],
   "source": []
  }
 ],
 "metadata": {
  "kernelspec": {
   "display_name": "Python 3",
   "language": "python",
   "name": "python3"
  },
  "language_info": {
   "codemirror_mode": {
    "name": "ipython",
    "version": 3
   },
   "file_extension": ".py",
   "mimetype": "text/x-python",
   "name": "python",
   "nbconvert_exporter": "python",
   "pygments_lexer": "ipython3",
   "version": "3.6.5rc1"
  }
 },
 "nbformat": 4,
 "nbformat_minor": 2
}
