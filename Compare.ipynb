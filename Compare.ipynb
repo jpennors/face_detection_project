{
 "cells": [
  {
   "cell_type": "code",
   "execution_count": 16,
   "metadata": {},
   "outputs": [
    {
     "name": "stdout",
     "output_type": "stream",
     "text": [
      "The autoreload extension is already loaded. To reload it, use:\n",
      "  %reload_ext autoreload\n"
     ]
    }
   ],
   "source": [
    "%load_ext autoreload\n",
    "%autoreload 2\n",
    "\n",
    "from modules.negative_set import generate_negative_set, get_box_parameters\n",
    "from modules.selection import try_classifiers, try_params\n",
    "from modules.window import multiple_sliding_windows\n",
    "from modules import data, models, descriptor_vector\n",
    "import numpy as np\n",
    "import pickle\n",
    "import importlib"
   ]
  },
  {
   "cell_type": "code",
   "execution_count": 2,
   "metadata": {},
   "outputs": [],
   "source": [
    "# Load data\n",
    "full_images = data.load_images()\n",
    "full_labels = data.load_labels()"
   ]
  },
  {
   "cell_type": "code",
   "execution_count": 3,
   "metadata": {},
   "outputs": [
    {
     "name": "stdout",
     "output_type": "stream",
     "text": [
      "average box size: (167, 110)\n",
      "box size: (155, 100)\n"
     ]
    }
   ],
   "source": [
    "# Box size\n",
    "avg_box_size = get_box_parameters(full_labels)[1:3]\n",
    "print(\"average box size:\", avg_box_size)\n",
    "box_size = 155, 100\n",
    "print(\"box size:\", box_size)"
   ]
  },
  {
   "cell_type": "code",
   "execution_count": 4,
   "metadata": {},
   "outputs": [
    {
     "name": "stdout",
     "output_type": "stream",
     "text": [
      "min [182 231]\n",
      "mean [406.767 365.412]\n",
      "max [450 450]\n"
     ]
    }
   ],
   "source": [
    "# Stats\n",
    "shapes = np.array([ image.shape[:2] for image in full_images ], dtype=int)\n",
    "for stat in ('min', 'mean', 'max'):\n",
    "    print(stat, getattr(shapes, stat)(axis=0))"
   ]
  },
  {
   "cell_type": "code",
   "execution_count": 78,
   "metadata": {},
   "outputs": [
    {
     "name": "stdout",
     "output_type": "stream",
     "text": [
      "0 100\n"
     ]
    }
   ],
   "source": [
    "# Parameters\n",
    "OFFSET = 0\n",
    "LIMIT = 100\n",
    "NEG_SIZE = 150\n",
    "TRAIN_RATE = 0.6\n",
    "print(OFFSET, OFFSET+LIMIT)"
   ]
  },
  {
   "cell_type": "code",
   "execution_count": 79,
   "metadata": {},
   "outputs": [
    {
     "name": "stdout",
     "output_type": "stream",
     "text": [
      "Using 100/1000 images & 134/1284 labels\n"
     ]
    }
   ],
   "source": [
    "# Limit if needed\n",
    "if LIMIT:\n",
    "    images = full_images[OFFSET:OFFSET+LIMIT]\n",
    "    labels = full_labels[full_labels[:,0] <= OFFSET+LIMIT]\n",
    "    labels = labels[labels[:,0] > OFFSET]\n",
    "else:\n",
    "    images = full_images\n",
    "    labels = full_labels\n",
    "print(f\"Using {len(images)}/{len(full_images)} images & {len(labels)}/{len(full_labels)} labels\")"
   ]
  },
  {
   "cell_type": "code",
   "execution_count": 80,
   "metadata": {},
   "outputs": [],
   "source": [
    "# Precompute windows\n",
    "\"\"\"\n",
    "assert LIMIT <= 100\n",
    "print(OFFSET, LIMIT)\n",
    "\n",
    "slide_step = (60,50)\n",
    "downscale_step = 100\n",
    "windows_sets = multiple_sliding_windows(images, box_size, slide_step, downscale_step)\n",
    "print(f\"Got {len(windows_sets[2])} windows from {len(images)} images\")\n",
    "\n",
    "# Transform windows\n",
    "X = descriptor_vector.hog(windows_sets[2])\n",
    "windows_sets = windows_sets[:2], X\n",
    "print(\"Done\")\n",
    "\"\"\";"
   ]
  },
  {
   "cell_type": "code",
   "execution_count": 81,
   "metadata": {},
   "outputs": [
    {
     "name": "stdout",
     "output_type": "stream",
     "text": [
      "Generating negative set...\n",
      "Creating train & validation sets with negatives...\n"
     ]
    }
   ],
   "source": [
    "# Label sets\n",
    "print(\"Generating negative set...\")\n",
    "negatives = generate_negative_set(images, labels, set_size=NEG_SIZE)\n",
    "\n",
    "print(\"Creating train & validation sets with negatives...\")\n",
    "all_labels = np.concatenate([labels, negatives])\n",
    "label_sets = data.train_valid_sets(len(images), all_labels, TRAIN_RATE)"
   ]
  },
  {
   "cell_type": "code",
   "execution_count": 82,
   "metadata": {},
   "outputs": [],
   "source": [
    "COMMON_PARAMS = {\n",
    "  'box_size': box_size,\n",
    "#  'slide_step': (60,50),\n",
    "  'vectorization_params': {\n",
    "    'vectorize': descriptor_vector.hog,\n",
    "    'vectorize_args': [5],\n",
    "  },\n",
    "}\n",
    "GLOBAL_PARAMS = {\n",
    "  'svc': {\n",
    "    **COMMON_PARAMS,\n",
    "    'gamma': 'scale',\n",
    "  },\n",
    "  'linear_svc': {\n",
    "    **COMMON_PARAMS,\n",
    "  },\n",
    "  'decision_tree': {\n",
    "    **COMMON_PARAMS,\n",
    "  },\n",
    "  'adaboost': {\n",
    "    **COMMON_PARAMS,\n",
    "  },\n",
    "  'random_forest': {\n",
    "    **COMMON_PARAMS,\n",
    "    'n_estimators': 50,\n",
    "  },\n",
    "}\n",
    "CHANGING_PARAMS = {\n",
    "    'linear_svc': {\n",
    "        'C': [ i/10 for i in range(8, 14, 2) ],\n",
    "    },\n",
    "    'random_forest': {\n",
    "        'n_estimators': [50, 100],\n",
    "    },\n",
    "}"
   ]
  },
  {
   "cell_type": "code",
   "execution_count": 73,
   "metadata": {},
   "outputs": [
    {
     "data": {
      "text/plain": [
       "1284"
      ]
     },
     "execution_count": 73,
     "metadata": {},
     "output_type": "execute_result"
    }
   ],
   "source": [
    "len(full_labels)"
   ]
  },
  {
   "cell_type": "code",
   "execution_count": 84,
   "metadata": {},
   "outputs": [
    {
     "name": "stdout",
     "output_type": "stream",
     "text": [
      "Trying classifier random_forest...\n",
      "## Trying parameter `n_estimators`...\n",
      "### with value `50`\n",
      "First training...\n"
     ]
    },
    {
     "name": "stderr",
     "output_type": "stream",
     "text": [
      "Predicting windows: 100%|█████████████████████████████████████████████████████████████████████████████████████████████████████████████████████████████████| 100/100 [00:37<00:00,  2.11it/s]\n"
     ]
    },
    {
     "name": "stdout",
     "output_type": "stream",
     "text": [
      "Adding 31 false positives / 75 predictions\n",
      "Second training...\n"
     ]
    },
    {
     "name": "stderr",
     "output_type": "stream",
     "text": [
      "Predicting windows: 100%|█████████████████████████████████████████████████████████████████████████████████████████████████████████████████████████████████| 100/100 [00:21<00:00,  4.55it/s]\n"
     ]
    },
    {
     "name": "stdout",
     "output_type": "stream",
     "text": [
      "### with value `100`\n",
      "First training...\n"
     ]
    },
    {
     "name": "stderr",
     "output_type": "stream",
     "text": [
      "Predicting windows: 100%|█████████████████████████████████████████████████████████████████████████████████████████████████████████████████████████████████| 100/100 [00:38<00:00,  1.71it/s]\n"
     ]
    },
    {
     "name": "stdout",
     "output_type": "stream",
     "text": [
      "Adding 25 false positives / 59 predictions\n",
      "Second training...\n"
     ]
    },
    {
     "name": "stderr",
     "output_type": "stream",
     "text": [
      "Predicting windows: 100%|█████████████████████████████████████████████████████████████████████████████████████████████████████████████████████████████████| 100/100 [00:21<00:00,  4.55it/s]\n"
     ]
    },
    {
     "name": "stdout",
     "output_type": "stream",
     "text": [
      "{'classifier': 'random_forest', 'global_params': {'n_estimators': 50}, 'results': [{'name': 'n_estimators', 'value': 50, 'score': array([0.2 , 0.22, 0.26, 0.24, 0.12, 0.06, 0.2 , 0.22, 0.06, 0.08, 0.18,\n",
      "       0.24, 0.2 , 0.2 , 0.16, 0.14, 0.08, 0.3 , 0.12, 0.1 , 0.24, 0.08,\n",
      "       0.32, 0.08, 0.22, 0.2 , 0.2 , 0.22, 0.12, 0.18, 0.26, 0.14, 0.02,\n",
      "       0.2 , 0.48, 0.1 , 0.22, 0.08, 0.22, 0.12, 0.3 , 0.22, 0.1 , 0.26,\n",
      "       0.22, 0.26, 0.22, 0.06, 0.24, 0.16, 0.2 ]), 'result': {'true_pos': 0, 'true_neg': 0, 'false_pos': 0, 'false_neg': 51}}, {'name': 'n_estimators', 'value': 100, 'score': array([0.13, 0.15, 0.38, 0.12, 0.21, 0.12, 0.25, 0.25, 0.23, 0.21, 0.11,\n",
      "       0.38, 0.2 , 0.19, 0.19, 0.25, 0.25, 0.35, 0.18, 0.16, 0.15, 0.06,\n",
      "       0.34, 0.16, 0.12, 0.17, 0.25, 0.22, 0.13, 0.29, 0.18, 0.1 , 0.15,\n",
      "       0.29, 0.26, 0.09, 0.1 , 0.12, 0.27, 0.13, 0.39, 0.09, 0.15, 0.27,\n",
      "       0.18, 0.18, 0.26, 0.29, 0.25, 0.18, 0.2 ]), 'result': {'true_pos': 0, 'true_neg': 0, 'false_pos': 0, 'false_neg': 51}}]}\n"
     ]
    }
   ],
   "source": [
    "clf_name = \"random_forest\"\n",
    "print(f\"Trying classifier {clf_name}...\")\n",
    "results = try_params(images, label_sets, clf_name, GLOBAL_PARAMS[clf_name], CHANGING_PARAMS.get(clf_name, {}))\n",
    "print(results)"
   ]
  },
  {
   "cell_type": "code",
   "execution_count": 20,
   "metadata": {},
   "outputs": [
    {
     "name": "stdout",
     "output_type": "stream",
     "text": [
      "Trying classifiers...\n"
     ]
    }
   ],
   "source": [
    "print(\"Trying classifiers...\")\n",
    "#results = try_classifiers(images, label_sets, GLOBAL_PARAMS, CHANGING_PARAMS)"
   ]
  },
  {
   "cell_type": "code",
   "execution_count": 85,
   "metadata": {},
   "outputs": [
    {
     "name": "stdout",
     "output_type": "stream",
     "text": [
      "100 150 (155, 100)\n",
      "{'classifier': 'random_forest',\n",
      " 'global_params': {'n_estimators': 50},\n",
      " 'results': [{'name': 'n_estimators',\n",
      "              'result': {'false_neg': 51,\n",
      "                         'false_pos': 0,\n",
      "                         'true_neg': 0,\n",
      "                         'true_pos': 0},\n",
      "              'score': array([0.2 , 0.22, 0.26, 0.24, 0.12, 0.06, 0.2 , 0.22, 0.06, 0.08, 0.18,\n",
      "       0.24, 0.2 , 0.2 , 0.16, 0.14, 0.08, 0.3 , 0.12, 0.1 , 0.24, 0.08,\n",
      "       0.32, 0.08, 0.22, 0.2 , 0.2 , 0.22, 0.12, 0.18, 0.26, 0.14, 0.02,\n",
      "       0.2 , 0.48, 0.1 , 0.22, 0.08, 0.22, 0.12, 0.3 , 0.22, 0.1 , 0.26,\n",
      "       0.22, 0.26, 0.22, 0.06, 0.24, 0.16, 0.2 ]),\n",
      "              'value': 50},\n",
      "             {'name': 'n_estimators',\n",
      "              'result': {'false_neg': 51,\n",
      "                         'false_pos': 0,\n",
      "                         'true_neg': 0,\n",
      "                         'true_pos': 0},\n",
      "              'score': array([0.13, 0.15, 0.38, 0.12, 0.21, 0.12, 0.25, 0.25, 0.23, 0.21, 0.11,\n",
      "       0.38, 0.2 , 0.19, 0.19, 0.25, 0.25, 0.35, 0.18, 0.16, 0.15, 0.06,\n",
      "       0.34, 0.16, 0.12, 0.17, 0.25, 0.22, 0.13, 0.29, 0.18, 0.1 , 0.15,\n",
      "       0.29, 0.26, 0.09, 0.1 , 0.12, 0.27, 0.13, 0.39, 0.09, 0.15, 0.27,\n",
      "       0.18, 0.18, 0.26, 0.29, 0.25, 0.18, 0.2 ]),\n",
      "              'value': 100}]}\n"
     ]
    }
   ],
   "source": [
    "from pprint import pprint\n",
    "print(LIMIT, NEG_SIZE, box_size)\n",
    "pprint(results)"
   ]
  },
  {
   "cell_type": "code",
   "execution_count": 28,
   "metadata": {},
   "outputs": [
    {
     "name": "stdout",
     "output_type": "stream",
     "text": [
      "svc\n",
      "{'f-score': 0.8235294117647058,\n",
      " 'false_neg': 6,\n",
      " 'false_pos': 0,\n",
      " 'precision': 1.0,\n",
      " 'recall': 0.7,\n",
      " 'true_neg': 13,\n",
      " 'true_pos': 14}\n",
      "linear_svc\n",
      "{'f-score': 0.9189189189189189,\n",
      " 'false_neg': 3,\n",
      " 'false_pos': 0,\n",
      " 'precision': 1.0,\n",
      " 'recall': 0.85,\n",
      " 'true_neg': 13,\n",
      " 'true_pos': 17}\n",
      "decision_tree\n",
      "{'f-score': 0.5185185185185185,\n",
      " 'false_neg': 13,\n",
      " 'false_pos': 0,\n",
      " 'precision': 1.0,\n",
      " 'recall': 0.35,\n",
      " 'true_neg': 13,\n",
      " 'true_pos': 7}\n",
      "adaboost\n",
      "{'f-score': 0.7499999999999999,\n",
      " 'false_neg': 8,\n",
      " 'false_pos': 0,\n",
      " 'precision': 1.0,\n",
      " 'recall': 0.6,\n",
      " 'true_neg': 13,\n",
      " 'true_pos': 12}\n",
      "random_forest\n",
      "{'f-score': 0.888888888888889,\n",
      " 'false_neg': 4,\n",
      " 'false_pos': 0,\n",
      " 'precision': 1.0,\n",
      " 'recall': 0.8,\n",
      " 'true_neg': 13,\n",
      " 'true_pos': 16}\n"
     ]
    }
   ],
   "source": [
    "from pprint import pprint\n",
    "for clf in results:\n",
    "    print(clf)\n",
    "    pprint(results[clf]['results'][0]['result'])"
   ]
  },
  {
   "cell_type": "code",
   "execution_count": 32,
   "metadata": {},
   "outputs": [
    {
     "name": "stdout",
     "output_type": "stream",
     "text": [
      "{'adaboost': {'classifier': 'adaboost',\n",
      "              'global_params': {'adaboost': {'box_size': (147, 94),\n",
      "                                             'vectorization_params': {'vectorize': <function hog at 0x00000202B35BA840>,\n",
      "                                                                      'vectorize_args': []}},\n",
      "                                'decision_tree': {'box_size': (147, 94),\n",
      "                                                  'vectorization_params': {'vectorize': <function hog at 0x00000202B35BA840>,\n",
      "                                                                           'vectorize_args': []}},\n",
      "                                'linear_svc': {'box_size': (147, 94),\n",
      "                                               'vectorization_params': {'vectorize': <function hog at 0x00000202B35BA840>,\n",
      "                                                                        'vectorize_args': []}},\n",
      "                                'random_forest': {'box_size': (147, 94),\n",
      "                                                  'n_estimators': 50,\n",
      "                                                  'vectorization_params': {'vectorize': <function hog at 0x00000202B35BA840>,\n",
      "                                                                           'vectorize_args': []}},\n",
      "                                'svc': {'box_size': (147, 94),\n",
      "                                        'gamma': 'scale',\n",
      "                                        'vectorization_params': {'vectorize': <function hog at 0x00000202B35BA840>,\n",
      "                                                                 'vectorize_args': []}}},\n",
      "              'results': [{'result': {'f-score': 0.7499999999999999,\n",
      "                                      'false_neg': 8,\n",
      "                                      'false_pos': 0,\n",
      "                                      'precision': 1.0,\n",
      "                                      'recall': 0.6,\n",
      "                                      'true_neg': 13,\n",
      "                                      'true_pos': 12},\n",
      "                           'score': array([ 1.02038962,  1.62821814,  0.68409262,  0.70275926, -0.47013478,\n",
      "        0.70200326, -0.05877625,  0.83853767,  0.65858721, -0.05225159,\n",
      "       -0.04887573,  1.11719042,  0.45683128,  0.56108463,  0.21971006,\n",
      "        1.37889204,  0.57133556,  1.35395229, -1.56801531, -0.54478255,\n",
      "       -2.63568736, -2.34955878, -2.1204339 , -0.67741868, -1.60978981,\n",
      "       -2.07668466, -1.63804771, -1.87286838, -1.50769566, -1.58542667,\n",
      "       -2.18126846, -1.16173812, -1.23979915])}]},\n",
      " 'decision_tree': {'classifier': 'decision_tree',\n",
      "                   'global_params': {'adaboost': {'box_size': (147, 94),\n",
      "                                                  'vectorization_params': {'vectorize': <function hog at 0x00000202B35BA840>,\n",
      "                                                                           'vectorize_args': []}},\n",
      "                                     'decision_tree': {'box_size': (147, 94),\n",
      "                                                       'vectorization_params': {'vectorize': <function hog at 0x00000202B35BA840>,\n",
      "                                                                                'vectorize_args': []}},\n",
      "                                     'linear_svc': {'box_size': (147, 94),\n",
      "                                                    'vectorization_params': {'vectorize': <function hog at 0x00000202B35BA840>,\n",
      "                                                                             'vectorize_args': []}},\n",
      "                                     'random_forest': {'box_size': (147, 94),\n",
      "                                                       'n_estimators': 50,\n",
      "                                                       'vectorization_params': {'vectorize': <function hog at 0x00000202B35BA840>,\n",
      "                                                                                'vectorize_args': []}},\n",
      "                                     'svc': {'box_size': (147, 94),\n",
      "                                             'gamma': 'scale',\n",
      "                                             'vectorization_params': {'vectorize': <function hog at 0x00000202B35BA840>,\n",
      "                                                                      'vectorize_args': []}}},\n",
      "                   'results': [{'result': {'f-score': 0.5185185185185185,\n",
      "                                           'false_neg': 13,\n",
      "                                           'false_pos': 0,\n",
      "                                           'precision': 1.0,\n",
      "                                           'recall': 0.35,\n",
      "                                           'true_neg': 13,\n",
      "                                           'true_pos': 7},\n",
      "                                'score': array([0., 1., 0., 1., 0., 0., 1., 0., 1., 0., 0., 1., 0., 1., 0., 0., 0.,\n",
      "       1., 0., 0., 0., 0., 0., 0., 0., 0., 0., 0., 0., 0., 0., 0., 0.])}]},\n",
      " 'linear_svc': {'classifier': 'linear_svc',\n",
      "                'global_params': {'adaboost': {'box_size': (147, 94),\n",
      "                                               'vectorization_params': {'vectorize': <function hog at 0x00000202B35BA840>,\n",
      "                                                                        'vectorize_args': []}},\n",
      "                                  'decision_tree': {'box_size': (147, 94),\n",
      "                                                    'vectorization_params': {'vectorize': <function hog at 0x00000202B35BA840>,\n",
      "                                                                             'vectorize_args': []}},\n",
      "                                  'linear_svc': {'box_size': (147, 94),\n",
      "                                                 'vectorization_params': {'vectorize': <function hog at 0x00000202B35BA840>,\n",
      "                                                                          'vectorize_args': []}},\n",
      "                                  'random_forest': {'box_size': (147, 94),\n",
      "                                                    'n_estimators': 50,\n",
      "                                                    'vectorization_params': {'vectorize': <function hog at 0x00000202B35BA840>,\n",
      "                                                                             'vectorize_args': []}},\n",
      "                                  'svc': {'box_size': (147, 94),\n",
      "                                          'gamma': 'scale',\n",
      "                                          'vectorization_params': {'vectorize': <function hog at 0x00000202B35BA840>,\n",
      "                                                                   'vectorize_args': []}}},\n",
      "                'results': [{'result': {'f-score': 0.9189189189189189,\n",
      "                                        'false_neg': 3,\n",
      "                                        'false_pos': 0,\n",
      "                                        'precision': 1.0,\n",
      "                                        'recall': 0.85,\n",
      "                                        'true_neg': 13,\n",
      "                                        'true_pos': 17},\n",
      "                             'score': array([ 0.8135567 ,  1.08389954,  0.99416573,  0.8883037 ,  0.84146159,\n",
      "        1.22996575,  0.73782784,  0.93490739,  1.19307087,  0.41083793,\n",
      "        0.58770281,  1.26780021,  0.78194918,  0.8311692 ,  0.87234431,\n",
      "        0.90861314,  1.01437088,  1.10402253,  0.30805909,  0.20124959,\n",
      "       -0.28131018, -0.10213373,  0.07387958, -0.013727  , -0.19539741,\n",
      "       -0.07657734,  0.08129402,  0.19976908,  0.06750442, -0.02754531,\n",
      "       -0.09721247,  0.14858918, -0.02139815])}]},\n",
      " 'random_forest': {'classifier': 'random_forest',\n",
      "                   'global_params': {'adaboost': {'box_size': (147, 94),\n",
      "                                                  'vectorization_params': {'vectorize': <function hog at 0x00000202B35BA840>,\n",
      "                                                                           'vectorize_args': []}},\n",
      "                                     'decision_tree': {'box_size': (147, 94),\n",
      "                                                       'vectorization_params': {'vectorize': <function hog at 0x00000202B35BA840>,\n",
      "                                                                                'vectorize_args': []}},\n",
      "                                     'linear_svc': {'box_size': (147, 94),\n",
      "                                                    'vectorization_params': {'vectorize': <function hog at 0x00000202B35BA840>,\n",
      "                                                                             'vectorize_args': []}},\n",
      "                                     'random_forest': {'box_size': (147, 94),\n",
      "                                                       'n_estimators': 50,\n",
      "                                                       'vectorization_params': {'vectorize': <function hog at 0x00000202B35BA840>,\n",
      "                                                                                'vectorize_args': []}},\n",
      "                                     'svc': {'box_size': (147, 94),\n",
      "                                             'gamma': 'scale',\n",
      "                                             'vectorization_params': {'vectorize': <function hog at 0x00000202B35BA840>,\n",
      "                                                                      'vectorize_args': []}}},\n",
      "                   'results': [{'result': {'f-score': 0.888888888888889,\n",
      "                                           'false_neg': 4,\n",
      "                                           'false_pos': 0,\n",
      "                                           'precision': 1.0,\n",
      "                                           'recall': 0.8,\n",
      "                                           'true_neg': 13,\n",
      "                                           'true_pos': 16},\n",
      "                                'score': array([0.64, 0.6 , 0.72, 0.72, 0.56, 0.8 , 0.54, 0.64, 0.62, 0.42, 0.54,\n",
      "       0.76, 0.54, 0.6 , 0.64, 0.58, 0.42, 0.72, 0.24, 0.22, 0.08, 0.18,\n",
      "       0.22, 0.1 , 0.18, 0.18, 0.24, 0.2 , 0.24, 0.12, 0.1 , 0.2 , 0.12])}]},\n",
      " 'svc': {'classifier': 'svc',\n",
      "         'global_params': {'adaboost': {'box_size': (147, 94),\n",
      "                                        'vectorization_params': {'vectorize': <function hog at 0x00000202B35BA840>,\n",
      "                                                                 'vectorize_args': []}},\n",
      "                           'decision_tree': {'box_size': (147, 94),\n",
      "                                             'vectorization_params': {'vectorize': <function hog at 0x00000202B35BA840>,\n",
      "                                                                      'vectorize_args': []}},\n",
      "                           'linear_svc': {'box_size': (147, 94),\n",
      "                                          'vectorization_params': {'vectorize': <function hog at 0x00000202B35BA840>,\n",
      "                                                                   'vectorize_args': []}},\n",
      "                           'random_forest': {'box_size': (147, 94),\n",
      "                                             'n_estimators': 50,\n",
      "                                             'vectorization_params': {'vectorize': <function hog at 0x00000202B35BA840>,\n",
      "                                                                      'vectorize_args': []}},\n",
      "                           'svc': {'box_size': (147, 94),\n",
      "                                   'gamma': 'scale',\n",
      "                                   'vectorization_params': {'vectorize': <function hog at 0x00000202B35BA840>,\n",
      "                                                            'vectorize_args': []}}},\n",
      "         'results': [{'result': {'f-score': 0.8235294117647058,\n",
      "                                 'false_neg': 6,\n",
      "                                 'false_pos': 0,\n",
      "                                 'precision': 1.0,\n",
      "                                 'recall': 0.7,\n",
      "                                 'true_neg': 13,\n",
      "                                 'true_pos': 14},\n",
      "                      'score': array([ 0.76313781,  0.96236829,  0.85705483,  0.94767913,  0.6087472 ,\n",
      "        0.84961422,  0.45768282,  0.65701779,  1.08848468,  0.3883614 ,\n",
      "        0.37129827,  1.06250967,  0.43710676,  0.81486353,  0.51609143,\n",
      "        0.69863295,  0.68728563,  1.08444359, -0.35470224, -0.37125309,\n",
      "       -1.02213126, -0.71987983, -0.65064585, -0.74458829, -0.70198513,\n",
      "       -0.80271408, -0.60358824, -0.60769202, -0.6961178 , -0.62073585,\n",
      "       -0.84897739, -0.55419451, -0.69562505])}]}}\n"
     ]
    },
    {
     "ename": "TypeError",
     "evalue": "Object of type function is not JSON serializable",
     "output_type": "error",
     "traceback": [
      "\u001b[1;31m---------------------------------------------------------------------------\u001b[0m",
      "\u001b[1;31mTypeError\u001b[0m                                 Traceback (most recent call last)",
      "\u001b[1;32m<ipython-input-32-394f06999eb8>\u001b[0m in \u001b[0;36m<module>\u001b[1;34m\u001b[0m\n\u001b[0;32m      3\u001b[0m \u001b[0mpprint\u001b[0m\u001b[1;33m(\u001b[0m\u001b[0mresults\u001b[0m\u001b[1;33m)\u001b[0m\u001b[1;33m\u001b[0m\u001b[0m\n\u001b[0;32m      4\u001b[0m \u001b[1;32mwith\u001b[0m \u001b[0mopen\u001b[0m\u001b[1;33m(\u001b[0m\u001b[1;34m'./results_compare.json'\u001b[0m\u001b[1;33m,\u001b[0m \u001b[1;34m'w'\u001b[0m\u001b[1;33m)\u001b[0m \u001b[1;32mas\u001b[0m \u001b[0msave_file\u001b[0m\u001b[1;33m:\u001b[0m\u001b[1;33m\u001b[0m\u001b[0m\n\u001b[1;32m----> 5\u001b[1;33m     \u001b[0mjson\u001b[0m\u001b[1;33m.\u001b[0m\u001b[0mdump\u001b[0m\u001b[1;33m(\u001b[0m\u001b[0mresults\u001b[0m\u001b[1;33m,\u001b[0m \u001b[0msave_file\u001b[0m\u001b[1;33m)\u001b[0m\u001b[1;33m\u001b[0m\u001b[0m\n\u001b[0m",
      "\u001b[1;32m~\\Miniconda3\\lib\\json\\__init__.py\u001b[0m in \u001b[0;36mdump\u001b[1;34m(obj, fp, skipkeys, ensure_ascii, check_circular, allow_nan, cls, indent, separators, default, sort_keys, **kw)\u001b[0m\n\u001b[0;32m    177\u001b[0m     \u001b[1;31m# could accelerate with writelines in some versions of Python, at\u001b[0m\u001b[1;33m\u001b[0m\u001b[1;33m\u001b[0m\u001b[0m\n\u001b[0;32m    178\u001b[0m     \u001b[1;31m# a debuggability cost\u001b[0m\u001b[1;33m\u001b[0m\u001b[1;33m\u001b[0m\u001b[0m\n\u001b[1;32m--> 179\u001b[1;33m     \u001b[1;32mfor\u001b[0m \u001b[0mchunk\u001b[0m \u001b[1;32min\u001b[0m \u001b[0miterable\u001b[0m\u001b[1;33m:\u001b[0m\u001b[1;33m\u001b[0m\u001b[0m\n\u001b[0m\u001b[0;32m    180\u001b[0m         \u001b[0mfp\u001b[0m\u001b[1;33m.\u001b[0m\u001b[0mwrite\u001b[0m\u001b[1;33m(\u001b[0m\u001b[0mchunk\u001b[0m\u001b[1;33m)\u001b[0m\u001b[1;33m\u001b[0m\u001b[0m\n\u001b[0;32m    181\u001b[0m \u001b[1;33m\u001b[0m\u001b[0m\n",
      "\u001b[1;32m~\\Miniconda3\\lib\\json\\encoder.py\u001b[0m in \u001b[0;36m_iterencode\u001b[1;34m(o, _current_indent_level)\u001b[0m\n\u001b[0;32m    429\u001b[0m             \u001b[1;32myield\u001b[0m \u001b[1;32mfrom\u001b[0m \u001b[0m_iterencode_list\u001b[0m\u001b[1;33m(\u001b[0m\u001b[0mo\u001b[0m\u001b[1;33m,\u001b[0m \u001b[0m_current_indent_level\u001b[0m\u001b[1;33m)\u001b[0m\u001b[1;33m\u001b[0m\u001b[0m\n\u001b[0;32m    430\u001b[0m         \u001b[1;32melif\u001b[0m \u001b[0misinstance\u001b[0m\u001b[1;33m(\u001b[0m\u001b[0mo\u001b[0m\u001b[1;33m,\u001b[0m \u001b[0mdict\u001b[0m\u001b[1;33m)\u001b[0m\u001b[1;33m:\u001b[0m\u001b[1;33m\u001b[0m\u001b[0m\n\u001b[1;32m--> 431\u001b[1;33m             \u001b[1;32myield\u001b[0m \u001b[1;32mfrom\u001b[0m \u001b[0m_iterencode_dict\u001b[0m\u001b[1;33m(\u001b[0m\u001b[0mo\u001b[0m\u001b[1;33m,\u001b[0m \u001b[0m_current_indent_level\u001b[0m\u001b[1;33m)\u001b[0m\u001b[1;33m\u001b[0m\u001b[0m\n\u001b[0m\u001b[0;32m    432\u001b[0m         \u001b[1;32melse\u001b[0m\u001b[1;33m:\u001b[0m\u001b[1;33m\u001b[0m\u001b[0m\n\u001b[0;32m    433\u001b[0m             \u001b[1;32mif\u001b[0m \u001b[0mmarkers\u001b[0m \u001b[1;32mis\u001b[0m \u001b[1;32mnot\u001b[0m \u001b[1;32mNone\u001b[0m\u001b[1;33m:\u001b[0m\u001b[1;33m\u001b[0m\u001b[0m\n",
      "\u001b[1;32m~\\Miniconda3\\lib\\json\\encoder.py\u001b[0m in \u001b[0;36m_iterencode_dict\u001b[1;34m(dct, _current_indent_level)\u001b[0m\n\u001b[0;32m    403\u001b[0m                 \u001b[1;32melse\u001b[0m\u001b[1;33m:\u001b[0m\u001b[1;33m\u001b[0m\u001b[0m\n\u001b[0;32m    404\u001b[0m                     \u001b[0mchunks\u001b[0m \u001b[1;33m=\u001b[0m \u001b[0m_iterencode\u001b[0m\u001b[1;33m(\u001b[0m\u001b[0mvalue\u001b[0m\u001b[1;33m,\u001b[0m \u001b[0m_current_indent_level\u001b[0m\u001b[1;33m)\u001b[0m\u001b[1;33m\u001b[0m\u001b[0m\n\u001b[1;32m--> 405\u001b[1;33m                 \u001b[1;32myield\u001b[0m \u001b[1;32mfrom\u001b[0m \u001b[0mchunks\u001b[0m\u001b[1;33m\u001b[0m\u001b[0m\n\u001b[0m\u001b[0;32m    406\u001b[0m         \u001b[1;32mif\u001b[0m \u001b[0mnewline_indent\u001b[0m \u001b[1;32mis\u001b[0m \u001b[1;32mnot\u001b[0m \u001b[1;32mNone\u001b[0m\u001b[1;33m:\u001b[0m\u001b[1;33m\u001b[0m\u001b[0m\n\u001b[0;32m    407\u001b[0m             \u001b[0m_current_indent_level\u001b[0m \u001b[1;33m-=\u001b[0m \u001b[1;36m1\u001b[0m\u001b[1;33m\u001b[0m\u001b[0m\n",
      "\u001b[1;32m~\\Miniconda3\\lib\\json\\encoder.py\u001b[0m in \u001b[0;36m_iterencode_dict\u001b[1;34m(dct, _current_indent_level)\u001b[0m\n\u001b[0;32m    403\u001b[0m                 \u001b[1;32melse\u001b[0m\u001b[1;33m:\u001b[0m\u001b[1;33m\u001b[0m\u001b[0m\n\u001b[0;32m    404\u001b[0m                     \u001b[0mchunks\u001b[0m \u001b[1;33m=\u001b[0m \u001b[0m_iterencode\u001b[0m\u001b[1;33m(\u001b[0m\u001b[0mvalue\u001b[0m\u001b[1;33m,\u001b[0m \u001b[0m_current_indent_level\u001b[0m\u001b[1;33m)\u001b[0m\u001b[1;33m\u001b[0m\u001b[0m\n\u001b[1;32m--> 405\u001b[1;33m                 \u001b[1;32myield\u001b[0m \u001b[1;32mfrom\u001b[0m \u001b[0mchunks\u001b[0m\u001b[1;33m\u001b[0m\u001b[0m\n\u001b[0m\u001b[0;32m    406\u001b[0m         \u001b[1;32mif\u001b[0m \u001b[0mnewline_indent\u001b[0m \u001b[1;32mis\u001b[0m \u001b[1;32mnot\u001b[0m \u001b[1;32mNone\u001b[0m\u001b[1;33m:\u001b[0m\u001b[1;33m\u001b[0m\u001b[0m\n\u001b[0;32m    407\u001b[0m             \u001b[0m_current_indent_level\u001b[0m \u001b[1;33m-=\u001b[0m \u001b[1;36m1\u001b[0m\u001b[1;33m\u001b[0m\u001b[0m\n",
      "\u001b[1;32m~\\Miniconda3\\lib\\json\\encoder.py\u001b[0m in \u001b[0;36m_iterencode_dict\u001b[1;34m(dct, _current_indent_level)\u001b[0m\n\u001b[0;32m    403\u001b[0m                 \u001b[1;32melse\u001b[0m\u001b[1;33m:\u001b[0m\u001b[1;33m\u001b[0m\u001b[0m\n\u001b[0;32m    404\u001b[0m                     \u001b[0mchunks\u001b[0m \u001b[1;33m=\u001b[0m \u001b[0m_iterencode\u001b[0m\u001b[1;33m(\u001b[0m\u001b[0mvalue\u001b[0m\u001b[1;33m,\u001b[0m \u001b[0m_current_indent_level\u001b[0m\u001b[1;33m)\u001b[0m\u001b[1;33m\u001b[0m\u001b[0m\n\u001b[1;32m--> 405\u001b[1;33m                 \u001b[1;32myield\u001b[0m \u001b[1;32mfrom\u001b[0m \u001b[0mchunks\u001b[0m\u001b[1;33m\u001b[0m\u001b[0m\n\u001b[0m\u001b[0;32m    406\u001b[0m         \u001b[1;32mif\u001b[0m \u001b[0mnewline_indent\u001b[0m \u001b[1;32mis\u001b[0m \u001b[1;32mnot\u001b[0m \u001b[1;32mNone\u001b[0m\u001b[1;33m:\u001b[0m\u001b[1;33m\u001b[0m\u001b[0m\n\u001b[0;32m    407\u001b[0m             \u001b[0m_current_indent_level\u001b[0m \u001b[1;33m-=\u001b[0m \u001b[1;36m1\u001b[0m\u001b[1;33m\u001b[0m\u001b[0m\n",
      "\u001b[1;32m~\\Miniconda3\\lib\\json\\encoder.py\u001b[0m in \u001b[0;36m_iterencode_dict\u001b[1;34m(dct, _current_indent_level)\u001b[0m\n\u001b[0;32m    403\u001b[0m                 \u001b[1;32melse\u001b[0m\u001b[1;33m:\u001b[0m\u001b[1;33m\u001b[0m\u001b[0m\n\u001b[0;32m    404\u001b[0m                     \u001b[0mchunks\u001b[0m \u001b[1;33m=\u001b[0m \u001b[0m_iterencode\u001b[0m\u001b[1;33m(\u001b[0m\u001b[0mvalue\u001b[0m\u001b[1;33m,\u001b[0m \u001b[0m_current_indent_level\u001b[0m\u001b[1;33m)\u001b[0m\u001b[1;33m\u001b[0m\u001b[0m\n\u001b[1;32m--> 405\u001b[1;33m                 \u001b[1;32myield\u001b[0m \u001b[1;32mfrom\u001b[0m \u001b[0mchunks\u001b[0m\u001b[1;33m\u001b[0m\u001b[0m\n\u001b[0m\u001b[0;32m    406\u001b[0m         \u001b[1;32mif\u001b[0m \u001b[0mnewline_indent\u001b[0m \u001b[1;32mis\u001b[0m \u001b[1;32mnot\u001b[0m \u001b[1;32mNone\u001b[0m\u001b[1;33m:\u001b[0m\u001b[1;33m\u001b[0m\u001b[0m\n\u001b[0;32m    407\u001b[0m             \u001b[0m_current_indent_level\u001b[0m \u001b[1;33m-=\u001b[0m \u001b[1;36m1\u001b[0m\u001b[1;33m\u001b[0m\u001b[0m\n",
      "\u001b[1;32m~\\Miniconda3\\lib\\json\\encoder.py\u001b[0m in \u001b[0;36m_iterencode_dict\u001b[1;34m(dct, _current_indent_level)\u001b[0m\n\u001b[0;32m    403\u001b[0m                 \u001b[1;32melse\u001b[0m\u001b[1;33m:\u001b[0m\u001b[1;33m\u001b[0m\u001b[0m\n\u001b[0;32m    404\u001b[0m                     \u001b[0mchunks\u001b[0m \u001b[1;33m=\u001b[0m \u001b[0m_iterencode\u001b[0m\u001b[1;33m(\u001b[0m\u001b[0mvalue\u001b[0m\u001b[1;33m,\u001b[0m \u001b[0m_current_indent_level\u001b[0m\u001b[1;33m)\u001b[0m\u001b[1;33m\u001b[0m\u001b[0m\n\u001b[1;32m--> 405\u001b[1;33m                 \u001b[1;32myield\u001b[0m \u001b[1;32mfrom\u001b[0m \u001b[0mchunks\u001b[0m\u001b[1;33m\u001b[0m\u001b[0m\n\u001b[0m\u001b[0;32m    406\u001b[0m         \u001b[1;32mif\u001b[0m \u001b[0mnewline_indent\u001b[0m \u001b[1;32mis\u001b[0m \u001b[1;32mnot\u001b[0m \u001b[1;32mNone\u001b[0m\u001b[1;33m:\u001b[0m\u001b[1;33m\u001b[0m\u001b[0m\n\u001b[0;32m    407\u001b[0m             \u001b[0m_current_indent_level\u001b[0m \u001b[1;33m-=\u001b[0m \u001b[1;36m1\u001b[0m\u001b[1;33m\u001b[0m\u001b[0m\n",
      "\u001b[1;32m~\\Miniconda3\\lib\\json\\encoder.py\u001b[0m in \u001b[0;36m_iterencode\u001b[1;34m(o, _current_indent_level)\u001b[0m\n\u001b[0;32m    436\u001b[0m                     \u001b[1;32mraise\u001b[0m \u001b[0mValueError\u001b[0m\u001b[1;33m(\u001b[0m\u001b[1;34m\"Circular reference detected\"\u001b[0m\u001b[1;33m)\u001b[0m\u001b[1;33m\u001b[0m\u001b[0m\n\u001b[0;32m    437\u001b[0m                 \u001b[0mmarkers\u001b[0m\u001b[1;33m[\u001b[0m\u001b[0mmarkerid\u001b[0m\u001b[1;33m]\u001b[0m \u001b[1;33m=\u001b[0m \u001b[0mo\u001b[0m\u001b[1;33m\u001b[0m\u001b[0m\n\u001b[1;32m--> 438\u001b[1;33m             \u001b[0mo\u001b[0m \u001b[1;33m=\u001b[0m \u001b[0m_default\u001b[0m\u001b[1;33m(\u001b[0m\u001b[0mo\u001b[0m\u001b[1;33m)\u001b[0m\u001b[1;33m\u001b[0m\u001b[0m\n\u001b[0m\u001b[0;32m    439\u001b[0m             \u001b[1;32myield\u001b[0m \u001b[1;32mfrom\u001b[0m \u001b[0m_iterencode\u001b[0m\u001b[1;33m(\u001b[0m\u001b[0mo\u001b[0m\u001b[1;33m,\u001b[0m \u001b[0m_current_indent_level\u001b[0m\u001b[1;33m)\u001b[0m\u001b[1;33m\u001b[0m\u001b[0m\n\u001b[0;32m    440\u001b[0m             \u001b[1;32mif\u001b[0m \u001b[0mmarkers\u001b[0m \u001b[1;32mis\u001b[0m \u001b[1;32mnot\u001b[0m \u001b[1;32mNone\u001b[0m\u001b[1;33m:\u001b[0m\u001b[1;33m\u001b[0m\u001b[0m\n",
      "\u001b[1;32m~\\Miniconda3\\lib\\json\\encoder.py\u001b[0m in \u001b[0;36mdefault\u001b[1;34m(self, o)\u001b[0m\n\u001b[0;32m    177\u001b[0m \u001b[1;33m\u001b[0m\u001b[0m\n\u001b[0;32m    178\u001b[0m         \"\"\"\n\u001b[1;32m--> 179\u001b[1;33m         raise TypeError(f'Object of type {o.__class__.__name__} '\n\u001b[0m\u001b[0;32m    180\u001b[0m                         f'is not JSON serializable')\n\u001b[0;32m    181\u001b[0m \u001b[1;33m\u001b[0m\u001b[0m\n",
      "\u001b[1;31mTypeError\u001b[0m: Object of type function is not JSON serializable"
     ]
    }
   ],
   "source": [
    "# Save results\n",
    "with open('./results_compare.pickle', 'wb') as save_file:\n",
    "    pickle.dump(results, save_file)"
   ]
  }
 ],
 "metadata": {
  "kernelspec": {
   "display_name": "Python 3",
   "language": "python",
   "name": "python3"
  },
  "language_info": {
   "codemirror_mode": {
    "name": "ipython",
    "version": 3
   },
   "file_extension": ".py",
   "mimetype": "text/x-python",
   "name": "python",
   "nbconvert_exporter": "python",
   "pygments_lexer": "ipython3",
   "version": "3.7.0"
  }
 },
 "nbformat": 4,
 "nbformat_minor": 2
}
